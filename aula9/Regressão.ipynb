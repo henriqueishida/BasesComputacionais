{
 "cells": [
  {
   "cell_type": "markdown",
   "metadata": {
    "id": "v3w09k9QKewt"
   },
   "source": [
    "# Bases Computacionais: regressão e correlação\n",
    "\n",
    "Renato Naville Watanabe"
   ]
  },
  {
   "cell_type": "markdown",
   "metadata": {
    "id": "bWz8y0NZKewv",
    "toc": true
   },
   "source": [
    "<h1>Contents<span class=\"tocSkip\"></span></h1>\n",
    "<div class=\"toc\"><ul class=\"toc-item\"><li><span><a href=\"#Correlação-e-Regressão\" data-toc-modified-id=\"Correlação-e-Regressão-1\"><span class=\"toc-item-num\">1&nbsp;&nbsp;</span>Correlação e Regressão</a></span></li><li><span><a href=\"#Regressão\" data-toc-modified-id=\"Regressão-2\"><span class=\"toc-item-num\">2&nbsp;&nbsp;</span>Regressão</a></span><ul class=\"toc-item\"><li><span><a href=\"#A-reta-que-liga-dois-pontos\" data-toc-modified-id=\"A-reta-que-liga-dois-pontos-2.1\"><span class=\"toc-item-num\">2.1&nbsp;&nbsp;</span>A reta que liga dois pontos</a></span></li><li><span><a href=\"#E-se-tivermos-muitos-pontos?\" data-toc-modified-id=\"E-se-tivermos-muitos-pontos?-2.2\"><span class=\"toc-item-num\">2.2&nbsp;&nbsp;</span>E se tivermos muitos pontos?</a></span></li><li><span><a href=\"#Qual-seria-a-melhor-reta-que-aproxima-todos-os-pontos?\" data-toc-modified-id=\"Qual-seria-a-melhor-reta-que-aproxima-todos-os-pontos?-2.3\"><span class=\"toc-item-num\">2.3&nbsp;&nbsp;</span>Qual seria a melhor reta que aproxima todos os pontos?</a></span></li><li><span><a href=\"#Primeiro-precisamos-de-um-critério-para-decidir-o-que-seria-&quot;a-melhor-reta&quot;\" data-toc-modified-id=\"Primeiro-precisamos-de-um-critério-para-decidir-o-que-seria-&quot;a-melhor-reta&quot;-2.4\"><span class=\"toc-item-num\">2.4&nbsp;&nbsp;</span>Primeiro precisamos de um critério para decidir o que seria \"a melhor reta\"</a></span></li><li><span><a href=\"#Regressão-linear\" data-toc-modified-id=\"Regressão-linear-2.5\"><span class=\"toc-item-num\">2.5&nbsp;&nbsp;</span>Regressão linear</a></span></li></ul></li><li><span><a href=\"#Correlação\" data-toc-modified-id=\"Correlação-3\"><span class=\"toc-item-num\">3&nbsp;&nbsp;</span>Correlação</a></span><ul class=\"toc-item\"><li><span><a href=\"#Correlação-linear\" data-toc-modified-id=\"Correlação-linear-3.1\"><span class=\"toc-item-num\">3.1&nbsp;&nbsp;</span>Correlação linear</a></span></li><li><span><a href=\"#Coeficiente-de-correlação\" data-toc-modified-id=\"Coeficiente-de-correlação-3.2\"><span class=\"toc-item-num\">3.2&nbsp;&nbsp;</span>Coeficiente de correlação</a></span></li><li><span><a href=\"#Correlação-e-causalidade\" data-toc-modified-id=\"Correlação-e-causalidade-3.3\"><span class=\"toc-item-num\">3.3&nbsp;&nbsp;</span>Correlação e causalidade</a></span></li></ul></li><li><span><a href=\"#Ajuste-de-curva-como-modelo\" data-toc-modified-id=\"Ajuste-de-curva-como-modelo-4\"><span class=\"toc-item-num\">4&nbsp;&nbsp;</span>Ajuste de curva como modelo</a></span></li><li><span><a href=\"#Arquivo-com-funções\" data-toc-modified-id=\"Arquivo-com-funções-5\"><span class=\"toc-item-num\">5&nbsp;&nbsp;</span>Arquivo com funções</a></span></li><li><span><a href=\"#Tarefa-(para-agora)\" data-toc-modified-id=\"Tarefa-(para-agora)-6\"><span class=\"toc-item-num\">6&nbsp;&nbsp;</span>Tarefa (para agora)</a></span></li><li><span><a href=\"#Tarefa-(para-antes-da-próxima-aula)\" data-toc-modified-id=\"Tarefa-(para-antes-da-próxima-aula)-7\"><span class=\"toc-item-num\">7&nbsp;&nbsp;</span>Tarefa (para antes da próxima aula)</a></span></li><li><span><a href=\"#Referências\" data-toc-modified-id=\"Referências-8\"><span class=\"toc-item-num\">8&nbsp;&nbsp;</span>Referências</a></span></li></ul></div>"
   ]
  },
  {
   "cell_type": "markdown",
   "metadata": {
    "id": "StaUQuEZKeww"
   },
   "source": [
    "## Correlação e Regressão\n",
    "\n",
    "As técnicas de correlação e regressão analisam dados amostrais, procurando determinar como duas (ou mais) variáveis estão relacionadas umas com as outras.\n",
    "\n",
    "Exemplos:\n",
    "\n",
    "| Variável independente | Variável dependente |\n",
    "------------------------|----------------------\n",
    "|Horas de treinamento   | Número de acidentes |\n",
    "|Altura da pessoa       | Número do sapato    |\n",
    "|Cigarros por dia       | Capacidade pulmonar |\n",
    "|Meses do ano           | Volume de vendas    |\n",
    "|Peso da pessoa         |    QI               |\n"
   ]
  },
  {
   "cell_type": "markdown",
   "metadata": {
    "id": "mNYGzqkEKeww"
   },
   "source": [
    "- **Independente**: Valores manipulados ou selecionados pelo pesquisador (altura, idade, mês). Podem ser ou não a “causa” da variável dependente.\n",
    "\n",
    "- **Dependente**: Valores observados, contados, ou medidos, que não estejam sob controle direto do pesquisador (velocidade, taxa de câmbio). Podem ser “causadas” ou não pela variável independente.\n",
    "\n",
    "- **OBS.**: Quando não há relação causal óbvia entre duas ou mais variáveis, qual é independente ‘ ou ‘dependente’ é uma questão de rótulo."
   ]
  },
  {
   "cell_type": "markdown",
   "metadata": {
    "id": "CfYF4arhKewx"
   },
   "source": [
    "A análise de **correlação** tem como resultado um número que expressa o grau de relacionamento entre duas variáveis.\n",
    "\n",
    "A análise de **regressão** expressa o resultado em uma equação matemática, descrevendo o relacionamento entre as duas variáveis.\n",
    "\n",
    "Ambas análises são geralmente utilizadas em pesquisas exploratórias."
   ]
  },
  {
   "cell_type": "markdown",
   "metadata": {
    "id": "3mnoF0XZKewx"
   },
   "source": [
    "## Regressão\n",
    "\n",
    "### A reta que liga dois pontos\n",
    "\n",
    "É simples encontrar a reta que liga dois pontos.\n",
    "\n",
    "A inclinação é:\n",
    "\n",
    "$$m = \\frac{y_2-y_1}{x_2-x_1}$$\n",
    "\n",
    "e o intercepto é:\n",
    "\n",
    "$$b = y_1 - mx_1$$"
   ]
  },
  {
   "cell_type": "code",
   "execution_count": null,
   "metadata": {
    "colab": {
     "base_uri": "https://localhost:8080/",
     "height": 265
    },
    "id": "7CoDn707Kewx",
    "outputId": "c5a3eb77-6c86-4560-db31-1f511c5d91c0"
   },
   "outputs": [],
   "source": [
    "import numpy as np\n",
    "import matplotlib.pyplot as plt\n",
    "\n",
    "plt.figure()\n",
    "plt.plot(-1, 3, marker = 'o', color = 'red')\n",
    "plt.plot(10, 31, marker = 'o', color = 'red')\n",
    "x = np.linspace(-1, 10, 50)\n",
    "m = 28/11\n",
    "b = 3+m\n",
    "y = m*x+b\n",
    "plt.plot(x, y, linestyle = '-', color = 'b')\n",
    "plt.grid()\n",
    "plt.show()\n"
   ]
  },
  {
   "cell_type": "markdown",
   "metadata": {
    "id": "QnOptU1qKewz"
   },
   "source": [
    "### E se tivermos muitos pontos? \n",
    "\n",
    "Abaixo está o gráfico da grandeza y em função da grandeza x. Esse tipo de gráfico em cada par $x,y$ de dado é mostrado como um ponto (ou qualquer outro tipo marcador) é conhecido como **gráfico de dispersão**."
   ]
  },
  {
   "cell_type": "code",
   "execution_count": null,
   "metadata": {
    "colab": {
     "base_uri": "https://localhost:8080/",
     "height": 265
    },
    "id": "Mnw4nvtSKewz",
    "outputId": "d312ea4e-e16f-460d-cf57-4bac5a315924"
   },
   "outputs": [],
   "source": [
    "y = m*x+b+5*np.random.randn(len(x))\n",
    "plt.figure()\n",
    "plt.plot(x , y, marker='o', color='red', linestyle='')\n",
    "plt.grid()\n",
    "plt.show()\n"
   ]
  },
  {
   "cell_type": "markdown",
   "metadata": {
    "id": "tI8FxAj1Kew0"
   },
   "source": [
    "### Qual seria a melhor reta que aproxima todos os pontos?\n",
    "\n",
    "A pergunta pode ser entendida como sendo: qual os melhores valores de $m$ e $b$ para que a reta aproxime todos os pontos? Existem infinitas retas no espaço bidimensional. Então qual delas melhor se ajusta a todos os pontos?"
   ]
  },
  {
   "cell_type": "code",
   "execution_count": null,
   "metadata": {
    "colab": {
     "base_uri": "https://localhost:8080/",
     "height": 265
    },
    "id": "ossha7tBKew0",
    "outputId": "e8479268-469c-407f-95f4-68a8adf6c568"
   },
   "outputs": [],
   "source": [
    "\n",
    "plt.figure()\n",
    "plt.plot(x , y, marker='o', color='red', linestyle='')\n",
    "for i in range(5):\n",
    "    mr = m + 5*np.random.randn(1)\n",
    "    br = b + 5*np.random.randn(1)\n",
    "    plt.plot(x, mr*x+br, linestyle = '-', color = 'blue')\n",
    "plt.grid()\n",
    "plt.show()"
   ]
  },
  {
   "cell_type": "markdown",
   "metadata": {
    "id": "q8QMIPHFKew0"
   },
   "source": [
    "### Primeiro precisamos de um critério para decidir o que seria \"a melhor reta\"\n",
    "\n",
    "O critério normalmente escolhido é o erro de cada ponto para a reta estimada elevado ao qudadrado. A melhor reta então é a reta em que a soma dos desvios (na figura indicado pelas retas pretas) ao quadrado é a menor possível. Por este motivo, o método para encontrar a reta de regressão também é conhecido como **método dos mínimos quadrados**"
   ]
  },
  {
   "cell_type": "code",
   "execution_count": null,
   "metadata": {
    "colab": {
     "base_uri": "https://localhost:8080/",
     "height": 322
    },
    "id": "3HQ06LduKew0",
    "outputId": "38409f24-4d6f-4440-e79d-3bc10e77209f"
   },
   "outputs": [],
   "source": [
    "plt.figure()\n",
    "plt.plot(x , y, marker='o', color='red', linestyle='')\n",
    "mr = m + 5*np.random.randn(1)\n",
    "br = b + 5*np.random.randn(1)\n",
    "plt.plot(x, mr*x+br, linestyle = '-', color = 'blue')    \n",
    "for i in range(len(y)):\n",
    "    plt.plot([x[i], x[i]], [y[i], mr*x[i]+br], linestyle='-', color='black')\n",
    "plt.grid()\n",
    "plt.show()"
   ]
  },
  {
   "cell_type": "markdown",
   "metadata": {
    "id": "QbQjKx3mKew1"
   },
   "source": [
    "### Regressão linear\n",
    "\n",
    "A reta encontrada seguindo o critério dos mínimos quadrados (ou seja, a reta que resulta no menor erro quadrático possível) é conhecida como reta de regressão linear:\n",
    "\n",
    "$$m = \\frac{\\displaystyle\\sum_{i=0}^{n-1}(x[i]-\\bar{x})(y[i]-\\bar{y})}{\\displaystyle\\sum_{i=0}^{n-1}(x[i]-\\bar{x})^2} $$\n",
    "\n",
    "$$b = \\bar{y} - m\\bar{x} $$\n",
    "\n",
    "$$y = mx + b $$"
   ]
  },
  {
   "cell_type": "code",
   "execution_count": null,
   "metadata": {
    "colab": {
     "base_uri": "https://localhost:8080/"
    },
    "id": "G81Nhlk9Kew1",
    "outputId": "0c8ba66d-09e6-4adf-9cb4-408b7e7c109b"
   },
   "outputs": [],
   "source": [
    "mediaX = np.mean(x)\n",
    "mediaY = np.mean(y)\n",
    "desvioX = x - mediaX\n",
    "desvioY = y - mediaY\n",
    "m = np.sum(desvioX*desvioY)/np.sum(desvioX**2)\n",
    "b = mediaY - m*mediaX\n",
    "print(m)\n",
    "print(b)"
   ]
  },
  {
   "cell_type": "code",
   "execution_count": null,
   "metadata": {
    "colab": {
     "base_uri": "https://localhost:8080/",
     "height": 265
    },
    "id": "RITYdE4zKew1",
    "outputId": "3b0c6305-08dc-4fd8-f32b-9e07c9fce53a"
   },
   "outputs": [],
   "source": [
    "plt.figure()\n",
    "plt.plot(x , y, marker='o', color='red', linestyle='')\n",
    "plt.plot(x, m*x+b, linestyle = '-', color = 'blue')    \n",
    "plt.grid()\n",
    "plt.show()"
   ]
  },
  {
   "cell_type": "markdown",
   "metadata": {
    "id": "pYVTwg2JKew1"
   },
   "source": [
    "Uma função para calcular a reta de regressão pode ser:\n",
    "    \n"
   ]
  },
  {
   "cell_type": "code",
   "execution_count": null,
   "metadata": {
    "id": "yoBdMoy_Kew1"
   },
   "outputs": [],
   "source": [
    "def regressao(x, y):\n",
    "    '''\n",
    "    Calcula a inclinação m e o intercepto b da reta de regressão utilizado o método dos \n",
    "    mínimos quadrados. \n",
    "    \n",
    "    Parâmetros:\n",
    "    -------------------------------\n",
    "    x: vetor\n",
    "       vetor contendo os valores do vetor x\n",
    "    \n",
    "    y: vetor\n",
    "       vetor contendo os valores do vetor y\n",
    "       \n",
    "    Retorna\n",
    "    -------------------------------\n",
    "    \n",
    "    m: float\n",
    "       inclinação da reta de regressão\n",
    "       \n",
    "    b: float\n",
    "       intercepto da reta de regressão\n",
    "    '''\n",
    "    mediaX = np.mean(x)\n",
    "    mediaY = np.mean(y)\n",
    "    desvioX = x - mediaX\n",
    "    desvioY = y - mediaY\n",
    "    m = np.sum(desvioX*desvioY)/np.sum(desvioX**2)\n",
    "    b = mediaY - m*mediaX\n",
    "    \n",
    "    return m, b"
   ]
  },
  {
   "cell_type": "markdown",
   "metadata": {
    "id": "ME_rMpBIKew2"
   },
   "source": [
    "Para testar a função de regressão, será usado o arquivo [iris.csv](dados/iris.csv). Este arquivo contém medições de comprimento e largura de pétalas e sépalas de três\n",
    "espécies de iris: virginica, versicolor, e setosa."
   ]
  },
  {
   "cell_type": "code",
   "execution_count": null,
   "metadata": {
    "colab": {
     "base_uri": "https://localhost:8080/",
     "height": 280
    },
    "id": "Z8Hb8TG7Kew2",
    "outputId": "2d09cf5a-c200-4400-ba2b-06b5f2b32e5b"
   },
   "outputs": [],
   "source": [
    "import pandas as pd\n",
    "iris = pd.read_csv('https://raw.githubusercontent.com/BMClab/BasesComputacionais/master/dados/iris.csv', delimiter=';')\n",
    "m, b = regressao(iris['Comprimento.Sepala'], iris['Comprimento.Petala'])\n",
    "plt.figure()\n",
    "plt.plot(iris['Comprimento.Sepala'], iris['Comprimento.Petala'], \n",
    "         marker='o', color='red', linestyle='')\n",
    "plt.plot(iris['Comprimento.Sepala'], m*iris['Comprimento.Sepala']+b)\n",
    "plt.xlabel('Comprimento Sépala (cm)')\n",
    "plt.ylabel('Comprimento Pétala (cm)')\n",
    "plt.show()"
   ]
  },
  {
   "cell_type": "markdown",
   "metadata": {
    "id": "049LysX-Kew2"
   },
   "source": [
    "A reta encontrada pode ser usada para, por exemplo, estimar o tamanho da pétala dado o tamanho da sépala. Por exemplo, se a sépala tiver 6 cm, a estimativa é que a pétala tenha:"
   ]
  },
  {
   "cell_type": "code",
   "execution_count": null,
   "metadata": {
    "colab": {
     "base_uri": "https://localhost:8080/"
    },
    "id": "rUA_vCwtKew2",
    "outputId": "c37298c3-b18d-4978-9269-c9a055b5cb8f"
   },
   "outputs": [],
   "source": [
    "y = m*6+b\n",
    "print(round(y, 2), 'cm')"
   ]
  },
  {
   "cell_type": "markdown",
   "metadata": {
    "id": "ZelDVvA9Kew3"
   },
   "source": [
    "Ou seja, o uso da regressão possibilita que generalizemos os dados. É claro que é necessário cuidado. Nem sempre o uso de uma relação linear é válida. É necessário que exista uma correlação entre as duas variáveis."
   ]
  },
  {
   "cell_type": "markdown",
   "metadata": {
    "id": "JiB_jGM0Kew3"
   },
   "source": [
    "## Correlação\n",
    "\n",
    "A análise gráfica do comportamento entre as variáveis mostra a existência de **correlação negativa**, pois à medida que X (horas de treinamento) cresce, Y (número de acidentes) decresce. O gráfico mostra que a empresa, ao investir em treinamento, reduz o número de acidentes na fábrica.\n",
    "\n",
    "![emp](https://github.com/BMClab/BasesComputacionais/blob/master/aula9/figuras/empresa.png?raw=1)"
   ]
  },
  {
   "cell_type": "markdown",
   "metadata": {
    "id": "I6QHj4nvKew3"
   },
   "source": [
    "A análise gráfica do comportamento entre as variáveis mostra a existência de **correlação  positiva**, pois à medida que X (renda média) cresce, Y (consumo de bens duráveis) também cresce.\n",
    "\n",
    "O gráfico mostra que, com o aumento médio da renda da população, o consumo de bens duráveis aumenta.\n",
    "\n",
    "![pop](https://github.com/BMClab/BasesComputacionais/blob/master/aula9/figuras/pop.png?raw=1)"
   ]
  },
  {
   "cell_type": "markdown",
   "metadata": {
    "id": "QGlJ6uhPKew3"
   },
   "source": [
    "Não há correlação linear, o gráfico mostra que não existe evidência de alguma relação entre o peso de uma pessoa com seu Q.I.\n",
    "\n",
    "![qi](https://github.com/BMClab/BasesComputacionais/blob/master/aula9/figuras/iq.png?raw=1)"
   ]
  },
  {
   "cell_type": "markdown",
   "metadata": {
    "id": "s4syTGifKew3"
   },
   "source": [
    "### Correlação linear\n",
    "\n",
    "Utilizar apenas um gráfico  para interpretar a existência de uma correlação pode ser uma tarefa bastante subjetiva.\n",
    "\n",
    "Como medida mais objetiva, utiliza-se o coeficiente de correlação para medir o grau e o tipo de uma correlação linear entre duas variáveis.\n",
    "\n",
    "$$r = \\frac{\\displaystyle\\sum_{i=0}^{n-1}(x[i]-\\mu_x)(y[i]-\\mu_y)}{\\sqrt{\\displaystyle\\sum_{i=0}^{n-1}(x[i]-\\mu_x)^2}\\sqrt{\\displaystyle\\sum_{i=0}^{n-1}(y[i]-\\mu_y)^2}} $$"
   ]
  },
  {
   "cell_type": "markdown",
   "metadata": {
    "id": "IH9RP9UVKew3"
   },
   "source": [
    "O intervalo de variação do coeficiente de correlação r está ente -1 à\n",
    "1.\n",
    "\n",
    "![corrcoef](https://github.com/BMClab/BasesComputacionais/blob/master/aula9/figuras/corr2.png?raw=1)"
   ]
  },
  {
   "cell_type": "markdown",
   "metadata": {
    "id": "A226LLMDKew3"
   },
   "source": [
    "### Coeficiente de correlação\n",
    "\n",
    "![corr](https://github.com/BMClab/BasesComputacionais/blob/master/aula9/figuras/corr3.png?raw=1)"
   ]
  },
  {
   "cell_type": "markdown",
   "metadata": {
    "id": "LTtNsI-dKew3"
   },
   "source": [
    "### Correlação e causalidade\n",
    "\n",
    "**Correlação não implica em causalidade**.\n",
    "\n",
    "O número de pessoas usando óculos-de-sol e a quantidade de sorvete consumido em um particular dia são altamente correlacionados.\n",
    "\n",
    "Isto não significa que usar óculos-de-sol causa a compra de sorvetes ou vice-versa!\n",
    "\n",
    "É extremamente difícil estabelecer relações causais a partir de dados observacionais. Precisamos realizar experimentos para obter mais evidências de uma relação causal.\n",
    "\n",
    "Veja [nesse site dados curiosos que apresentam correlação e com certeza não tem relação de causalidade!](https://www.tylervigen.com/spurious-correlations).\n",
    "\n",
    "![cegonha](https://github.com/BMClab/BasesComputacionais/blob/master/aula9/figuras/cegonha.png?raw=1)"
   ]
  },
  {
   "cell_type": "markdown",
   "metadata": {
    "id": "N_iIXXY7Kew4"
   },
   "source": [
    "## Ajuste de curva como modelo\n",
    "Devemos ter cuidado ao interpretar os resultados de um ajuste de curva para determinar se o modelo ajustado captura verdadeiramente a relação entre a variável independente (preditor) e a variável dependente (resposta).\n",
    "\n",
    "Um exemplo ilustrativo para demonstrar que o resultado de um ajuste de curva não é necessariamente um indicador do fenômeno que está sendo modelado são os dados do quarteto de Anscombe. Esses quatro conjuntos de dados têm propriedades estatísticas básicas e parâmetros de ajuste linear muito semelhantes, mas são muito diferentes quando visualizados."
   ]
  },
  {
   "cell_type": "code",
   "execution_count": null,
   "metadata": {
    "colab": {
     "base_uri": "https://localhost:8080/"
    },
    "id": "VgOBx0wOKew4",
    "outputId": "843f26ed-935c-4f1b-bd5b-d07a5b45db60"
   },
   "outputs": [],
   "source": [
    "# Anscombe's quartet data\n",
    "x =  np.array([[10, 8, 13, 9, 11, 14, 6, 4, 12, 7, 5],\n",
    "               [10, 8, 13, 9, 11, 14, 6, 4, 12, 7, 5],\n",
    "               [10, 8, 13, 9, 11, 14, 6, 4, 12, 7, 5],\n",
    "               [8,  8,  8, 8,  8,  8, 8, 19, 8, 8, 8]])\n",
    "y = np.array([[8.04, 6.95, 7.58, 8.81, 8.33, 9.96, 7.24, 4.26, 10.84, 4.82, 5.68],\n",
    "              [9.14, 8.14, 8.74, 8.77, 9.26, 8.10, 6.13, 3.10, 9.13, 7.26, 4.74],\n",
    "              [7.46, 6.77, 12.74, 7.11, 7.81, 8.84, 6.08, 5.39, 8.15, 6.42, 5.73],\n",
    "              [6.58, 5.76, 7.71, 8.84, 8.47, 7.04, 5.25, 12.50, 5.56, 7.91, 6.89]])\n",
    "# basic descriptive statistics\n",
    "print(\"The Anscombe's quartet data ha)ve the same basic statistical properties:\")\n",
    "print('Mean of x    :', np.mean(y, axis=1))\n",
    "print('Variance of x:', np.var(y, axis=1))\n",
    "print('Mean of y    :', np.mean(y, axis=1))\n",
    "print('Variance of y:', np.var(y, axis=1))"
   ]
  },
  {
   "cell_type": "code",
   "execution_count": null,
   "metadata": {
    "colab": {
     "base_uri": "https://localhost:8080/",
     "height": 300
    },
    "id": "UEFuZ5EbKew4",
    "outputId": "eb4bd815-e06c-4f39-d270-6cc84fecd7bd"
   },
   "outputs": [],
   "source": [
    "df = pd.DataFrame(np.vstack((x, y)).T, columns=['X1', 'X2', 'X3', 'X4', 'Y1', 'Y2', 'Y3', 'Y4'])\n",
    "df.describe()"
   ]
  },
  {
   "cell_type": "code",
   "execution_count": null,
   "metadata": {
    "colab": {
     "base_uri": "https://localhost:8080/",
     "height": 445
    },
    "id": "QYYioHQBKew4",
    "outputId": "be33cfa1-7cf4-4923-949d-1b785b23d377"
   },
   "outputs": [],
   "source": [
    "# function for the linear fit to automate the process\n",
    "def linearfit(x, y, yerr=None):\n",
    "    w = None if (yerr is None or np.sum(yerr)==0) else 1/yerr\n",
    "    p, cov = np.polyfit(x, y, 1, w=w, cov=True)  # coefficients and covariance matrix\n",
    "    yfit = np.polyval(p, x)          # evaluate the polynomial at x\n",
    "    \n",
    "    perr = np.sqrt(np.diag(cov))     # standard-deviation estimates for each coefficient\n",
    "    R2 = np.corrcoef(x, y)[0, 1]**2  # coefficient of determination between x and y\n",
    "    resid = y - yfit\n",
    "    chi2red = np.sum((resid/yerr)**2)/(y.size - 2) if w is not None else np.nan\n",
    "    \n",
    "    return yfit, p, R2, chi2red, perr, resid\n",
    "\n",
    "# plot\n",
    "fig, ax = plt.subplots(2, 2, figsize=(10, 6), sharex=True, sharey=True)\n",
    "axs = ax.flatten()\n",
    "resid = np.empty_like(y)\n",
    "for i, ax in enumerate(axs):\n",
    "    yf, p, R2, chi2red, perr, resid[i, :] = linearfit(x[i, :], y[i, :], yerr=None)\n",
    "    ax.plot(x[i, :], y[i, :], color=[0, .2, 1, .8], marker='o', linestyle='', markersize=8)\n",
    "    ax.plot(x[i, :], yf, 'r', linewidth=3)\n",
    "    ax.set_title('$y = %.2f + %.2f x \\, [R^2=%.2f]$' %(p[1], p[0], R2), fontsize=18)  \n",
    "    ax.grid()\n",
    "\n",
    "ax.set_xlim(0, 20)\n",
    "fig.subplots_adjust(bottom=0.1, left=.05, right=.95, hspace=.2, wspace=.05)\n",
    "plt.suptitle(\"Linear fit of the Anscombe's quartet data\",\n",
    "             fontsize=18, y=1.02)\n",
    "plt.show()"
   ]
  },
  {
   "cell_type": "markdown",
   "metadata": {
    "id": "egI2p2bKKew4"
   },
   "source": [
    "## Arquivo com funções\n",
    "\n",
    "Você pode deixar as suas funções em um arquivo separado. Por exemplo, a função 'regressao' foi colocada no arquivo [funcs.py](funcs.py). Você pode colocar quantas funções quiser em um mesmo arquivo.\n",
    "\n",
    "Para usar a função em um script, você deve usar o comando import.\n",
    "\n",
    "O arquivo com a função deve estar num caminho (path) conhecido pelo ambiente Python sendo executado. Se por exemplo, esse notebook for executado no Google Colab, o arquivo poderia estar em alguma pasta no Google Drive e você deve 'montar' o Google Drive antes no Google Colab.  \n",
    "\n",
    "Sobre outras formas para carregar arquivos no Google Colab veja [7 ways to load external data into Google Colab](https://towardsdatascience.com/7-ways-to-load-external-data-into-google-colab-7ba73e7d5fc7).  "
   ]
  },
  {
   "cell_type": "code",
   "execution_count": null,
   "metadata": {
    "colab": {
     "base_uri": "https://localhost:8080/"
    },
    "id": "lwAOcuHRO1rL",
    "outputId": "0b2977e0-2c3e-4e03-ed82-6cb9cb906f2f"
   },
   "outputs": [],
   "source": [
    "from google.colab import drive\n",
    "drive.mount('/content/drive')"
   ]
  },
  {
   "cell_type": "code",
   "execution_count": null,
   "metadata": {
    "id": "3bVXFS7sPThp"
   },
   "outputs": [],
   "source": [
    "import sys    \n",
    "sys.path.append('/content/drive/My Drive')"
   ]
  },
  {
   "cell_type": "code",
   "execution_count": null,
   "metadata": {
    "id": "Oclyi2EJKew4"
   },
   "outputs": [],
   "source": [
    "import funcs as f1"
   ]
  },
  {
   "cell_type": "markdown",
   "metadata": {
    "id": "DhKuFWk6Kew4"
   },
   "source": [
    "Para usar a função basta chamar o arquivo seguido de um ponto e o nome da função (nada diferente do que já fazemos com o Numpy, Matplotlib e Pandas)."
   ]
  },
  {
   "cell_type": "code",
   "execution_count": null,
   "metadata": {
    "colab": {
     "base_uri": "https://localhost:8080/"
    },
    "id": "_9ArmrEXKew4",
    "outputId": "8d870217-23db-4024-a49f-fcce4fe412c5"
   },
   "outputs": [],
   "source": [
    "m, b = f1.regressao(x, y)\n",
    "print(m)\n",
    "print(b)"
   ]
  },
  {
   "cell_type": "markdown",
   "metadata": {
    "id": "AIEMFeQeKew5"
   },
   "source": [
    "## Tarefa (para agora)\n",
    "\n",
    "- Escrever um notebook do Colab para fazer o que pedido a seguir.\n",
    "\n",
    "- Colocar o seu nome na primeira célula do Notebook.\n",
    "\n",
    "- O notebook deve estar com texto explicando o Notebook. \n",
    "\n",
    "- Todos os resultados devem ser mostrados ao executar o notebook.\n",
    "\n",
    "- Coloque no seu repositório do Github o arquivo '.ipynb' contendo o notebook feito por você com o nome \"Tarefa17SeuNome.ipynb\".\n",
    "\n",
    "- **1)** Faça uma função que recebe dois vetores ou duas colunas de uma DataFrame do Pandas e retorne a correlação $r$. A função deve estar no mesmo arquivo que a função que calcula a regressão. Esse arquivo deve ser importado no script que executará o teste abaixo. \n",
    "\n",
    "Teste com o dado de público  e o dado da renda [dos jogos do campeonato brasileiro de 2018](dados/tabelaBrasileirao2018.csv) e mostre a correlação encontrada.\n",
    "\n",
    "Dica: A estrutura da função pode ser:\n",
    "\n",
    "```python\n",
    "def corr(x,y):\n",
    "       \n",
    "    return r\n",
    "```"
   ]
  },
  {
   "cell_type": "markdown",
   "metadata": {
    "id": "POLGUTV5Kew5"
   },
   "source": [
    "## Tarefa (para antes da próxima aula)\n",
    "\n",
    "- Escrever um notebook do Colab para fazer o que pedido a seguir.\n",
    "\n",
    "- Colocar o seu nome na primeira célula do Notebook.\n",
    "\n",
    "- O notebook deve estar com texto explicando o Notebook. \n",
    "\n",
    "- Todos os resultados devem ser mostrados ao executar o notebook.\n",
    "\n",
    "- Não se esqueça de indicar o significado de cada eixo, colocando a unidade da abscissa e da ordenada nos gráficos.\n",
    "\n",
    "- O arquivo com as funções que calcula a regressão e a correlação devem ser importados no script. Se quiser, pode usar o arquivo [funcoesCompleta.py](funcoes/funcoesCompleta.py) com as duas funções.\n",
    "\n",
    "- Coloque no seu repositório do Github o arquivo '.py' contendo o script feito por você com o nome \"Tarefa18SeuNome.ipynb\"."
   ]
  },
  {
   "cell_type": "markdown",
   "metadata": {
    "id": "qhYntMp_Kew5"
   },
   "source": [
    "**1**) Para essa tarefa você deverá usar o [arquivo com vários dados pessoais de sujeitos que participaram de um experimento](dados/BDSinfo.csv).\n",
    "\n",
    "Faça o gráfico de dispersão do tamanho do pé (FootLen) em função da altura da pessoa (Height). Calcule (e mostre na tela) a correlação e plote a reta de regressão entre esses dados.\n",
    "\n",
    "Dica: esse arquivo separa as suas colunas com uma tabulação. Para ler o arquivo a opção 'delimiter' deve ser '\\t'."
   ]
  },
  {
   "cell_type": "markdown",
   "metadata": {
    "id": "60CrDL8LKew5"
   },
   "source": [
    " **2)** Para essa tarefa você deverá usar os arquivos com a [inflação anual](dados/inflaAnual.csv) e com o [crescimento do PIB anual](dados/pibAnual.csv).\n",
    "\n",
    "Faça o gráfico de dispersão entre o crescimento do PIB e a inflação anual de 1961 a 2018. Calcule e mostre na tela a correlação entre as duas grandezas."
   ]
  },
  {
   "cell_type": "markdown",
   "metadata": {
    "id": "MGY1VLzLKew5"
   },
   "source": [
    "**3)**  Para essa tarefa você deverá usar o [arquivo com vários dados pessoais de sujeitos que participaram de um experimento](dados/BDSinfo.csv).\n",
    "\n",
    "Faça o gráfico de dispersão do número de medicamentos que a pessoa toma (Nmedication) em função da idade da pessoa (Age). Calcule (e mostre na tela) a correlação e plote a reta de regressão entre esses dados.\n",
    "\n",
    "Dica: esse arquivo separa as suas colunas com uma tabulação. Para ler o arquivo a opção 'delimiter' deve ser '\\t'."
   ]
  },
  {
   "cell_type": "markdown",
   "metadata": {
    "id": "ME2ZmaTsKew5"
   },
   "source": [
    "## Referências\n",
    "\n",
    "- Chalco, JM, *Slides de Bases Computacionais da Ciência*, (2014)\n",
    "- Leite, S, *Slides de Bases Computacionais da Ciência*, (2018)\n",
    "- [Marietto, MGB et al.; **Bases computacionais da Ciência** (2013)](http://prograd.ufabc.edu.br/images/pdf/bases_computacionais_livro.pdf).\n",
    "- [Wikipedia](www.wikipedia.com.br)\n",
    "- [Balance](https://github.com/demotu/datasets/tree/master/Balance)"
   ]
  }
 ],
 "metadata": {
  "colab": {
   "provenance": []
  },
  "kernelspec": {
   "display_name": "Python 3 (ipykernel)",
   "language": "python",
   "name": "python3"
  },
  "language_info": {
   "codemirror_mode": {
    "name": "ipython",
    "version": 3
   },
   "file_extension": ".py",
   "mimetype": "text/x-python",
   "name": "python",
   "nbconvert_exporter": "python",
   "pygments_lexer": "ipython3",
   "version": "3.9.13"
  },
  "latex_envs": {
   "LaTeX_envs_menu_present": true,
   "autoclose": false,
   "autocomplete": true,
   "bibliofile": "biblio.bib",
   "cite_by": "apalike",
   "current_citInitial": 1,
   "eqLabelWithNumbers": true,
   "eqNumInitial": 1,
   "hotkeys": {
    "equation": "Ctrl-E",
    "itemize": "Ctrl-I"
   },
   "labels_anchors": false,
   "latex_user_defs": false,
   "report_style_numbering": false,
   "user_envs_cfg": false
  },
  "livereveal": {
   "autolaunch": true
  },
  "nbTranslate": {
   "displayLangs": [
    "*"
   ],
   "hotkey": "alt-t",
   "langInMainMenu": true,
   "sourceLang": "en",
   "targetLang": "fr",
   "useGoogleTranslate": true
  },
  "toc": {
   "base_numbering": 1,
   "nav_menu": {},
   "number_sections": true,
   "sideBar": true,
   "skip_h1_title": true,
   "title_cell": "Contents",
   "title_sidebar": "Contents",
   "toc_cell": true,
   "toc_position": {},
   "toc_section_display": true,
   "toc_window_display": false
  },
  "varInspector": {
   "cols": {
    "lenName": 16,
    "lenType": 16,
    "lenVar": 40
   },
   "kernels_config": {
    "python": {
     "delete_cmd_postfix": "",
     "delete_cmd_prefix": "del ",
     "library": "var_list.py",
     "varRefreshCmd": "print(var_dic_list())"
    },
    "r": {
     "delete_cmd_postfix": ") ",
     "delete_cmd_prefix": "rm(",
     "library": "var_list.r",
     "varRefreshCmd": "cat(var_dic_list()) "
    }
   },
   "types_to_exclude": [
    "module",
    "function",
    "builtin_function_or_method",
    "instance",
    "_Feature"
   ],
   "window_display": false
  }
 },
 "nbformat": 4,
 "nbformat_minor": 1
}

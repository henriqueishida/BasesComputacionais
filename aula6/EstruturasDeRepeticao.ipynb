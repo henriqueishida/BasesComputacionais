{
 "cells": [
  {
   "cell_type": "markdown",
   "metadata": {
    "slideshow": {
     "slide_type": "slide"
    }
   },
   "source": [
    "# Bases Computacionais: estruturas de repetição\n",
    "\n",
    "Renato Naville Watananbe"
   ]
  },
  {
   "cell_type": "markdown",
   "metadata": {
    "slideshow": {
     "slide_type": "slide"
    },
    "toc": true
   },
   "source": [
    "<h1>Contents<span class=\"tocSkip\"></span></h1>\n",
    "<div class=\"toc\"><ul class=\"toc-item\"><li><span><a href=\"#Laços\" data-toc-modified-id=\"Laços-1\"><span class=\"toc-item-num\">1&nbsp;&nbsp;</span>Laços</a></span></li><li><span><a href=\"#Laços\" data-toc-modified-id=\"Laços-2\"><span class=\"toc-item-num\">2&nbsp;&nbsp;</span>Laços</a></span></li><li><span><a href=\"#While\" data-toc-modified-id=\"While-3\"><span class=\"toc-item-num\">3&nbsp;&nbsp;</span>While</a></span></li><li><span><a href=\"#For\" data-toc-modified-id=\"For-4\"><span class=\"toc-item-num\">4&nbsp;&nbsp;</span>For</a></span></li><li><span><a href=\"#Laços-aninhados\" data-toc-modified-id=\"Laços-aninhados-5\"><span class=\"toc-item-num\">5&nbsp;&nbsp;</span>Laços aninhados</a></span></li><li><span><a href=\"#Somatória\" data-toc-modified-id=\"Somatória-6\"><span class=\"toc-item-num\">6&nbsp;&nbsp;</span>Somatória</a></span></li><li><span><a href=\"#Varrendo-um-vetor-do-Numpy\" data-toc-modified-id=\"Varrendo-um-vetor-do-Numpy-7\"><span class=\"toc-item-num\">7&nbsp;&nbsp;</span>Varrendo um vetor do Numpy</a></span></li><li><span><a href=\"#Gravando-valores-em-um-vetor-do-Numpy\" data-toc-modified-id=\"Gravando-valores-em-um-vetor-do-Numpy-8\"><span class=\"toc-item-num\">8&nbsp;&nbsp;</span>Gravando valores em um vetor do Numpy</a></span></li><li><span><a href=\"#Lendo-e-gravando-valores-em-um-DataFrame-do-Pandas\" data-toc-modified-id=\"Lendo-e-gravando-valores-em-um-DataFrame-do-Pandas-9\"><span class=\"toc-item-num\">9&nbsp;&nbsp;</span>Lendo e gravando valores em um DataFrame do Pandas</a></span></li><li><span><a href=\"#Tarefa-(para-agora)\" data-toc-modified-id=\"Tarefa-(para-agora)-10\"><span class=\"toc-item-num\">10&nbsp;&nbsp;</span>Tarefa (para agora)</a></span></li><li><span><a href=\"#Tarefa-(para-antes-da-próxima-aula)\" data-toc-modified-id=\"Tarefa-(para-antes-da-próxima-aula)-11\"><span class=\"toc-item-num\">11&nbsp;&nbsp;</span>Tarefa (para antes da próxima aula)</a></span></li><li><span><a href=\"#Referências\" data-toc-modified-id=\"Referências-12\"><span class=\"toc-item-num\">12&nbsp;&nbsp;</span>Referências</a></span></li></ul></div>"
   ]
  },
  {
   "cell_type": "markdown",
   "metadata": {
    "slideshow": {
     "slide_type": "slide"
    }
   },
   "source": [
    "### Laços\n",
    "\n",
    "Usado em situações em que é necessário repetir um determinado trecho de um programa várias vezes.\n",
    "\n",
    "Um exemplo bem simples: suponha que queiramos que uma variável $i$, que inicialmente tem o valor igual a 1, tenha o seu valor somado de 1 cinco vezes seguidas. O resultado de cada soma deve ser guardado na própria variável e ser mostrado na tela. Uma solução possível seria:"
   ]
  },
  {
   "cell_type": "code",
   "execution_count": null,
   "metadata": {
    "slideshow": {
     "slide_type": "fragment"
    }
   },
   "outputs": [],
   "source": [
    "i = 0\n",
    "print(i)\n",
    "i = i + 1\n",
    "print(i)\n",
    "i = i + 1\n",
    "print(i)\n",
    "i = i + 1\n",
    "print(i)\n",
    "i = i + 1\n",
    "print(i)\n",
    "i = i + 1\n",
    "print(i)"
   ]
  },
  {
   "cell_type": "markdown",
   "metadata": {
    "slideshow": {
     "slide_type": "slide"
    }
   },
   "source": [
    "### Laços\n",
    "\n",
    "De forma alternativa, podemos fazer isso com uma estrutura de repetição.\n",
    "\n",
    "Veremos duas formas de fazer repetições:\n",
    "\n",
    "- **while**: executa uma sequência de instruções *enquanto* uma condição (operação booleana) for verdadeira.\n",
    "\n",
    "- **for**: executa uma sequência de instruções *para* um número pré-determinado de valores."
   ]
  },
  {
   "cell_type": "markdown",
   "metadata": {
    "slideshow": {
     "slide_type": "slide"
    }
   },
   "source": [
    "### While\n",
    "\n",
    "while CONDIÇÃO_BOOLEANA:     \n",
    "    &nbsp;&nbsp;&nbsp;&nbsp;&nbsp;&nbsp;&nbsp;&nbsp;&nbsp;&nbsp;&nbsp;&nbsp;INSTRUÇÕES_QUE_SE_REPETIRÃO\n",
    "\n",
    "INSTRUÇÕES_EXECUTADAS_APENAS_UMA_VEZ\n",
    "\n",
    "Por exemplo:"
   ]
  },
  {
   "cell_type": "code",
   "execution_count": 2,
   "metadata": {
    "slideshow": {
     "slide_type": "fragment"
    }
   },
   "outputs": [
    {
     "name": "stdout",
     "output_type": "stream",
     "text": [
      "i = 0\n",
      "i = 1\n",
      "i = 2\n",
      "i = 3\n",
      "i = 4\n",
      "i = 5\n"
     ]
    }
   ],
   "source": [
    "i = 0\n",
    "while i <= 5:\n",
    "    print(f'i = {i}')\n",
    "    i = i + 1"
   ]
  },
  {
   "cell_type": "markdown",
   "metadata": {
    "slideshow": {
     "slide_type": "fragment"
    }
   },
   "source": [
    "Repare em como a variável i muda de valor. Quando uma variável é utilizada desta forma, ela é conhecida como um **contador**."
   ]
  },
  {
   "cell_type": "markdown",
   "metadata": {
    "slideshow": {
     "slide_type": "slide"
    }
   },
   "source": [
    "### For\n",
    "\n",
    "A estrutura do comando for é:\n",
    "\n",
    "for VARIÁVEL in VETOR_COM_TODOS_OS_VALORES_QUE_VARIÁVEL_IRA_ASSUMIR:     \n",
    "    &nbsp;&nbsp;&nbsp;&nbsp;&nbsp;&nbsp;&nbsp;&nbsp;&nbsp;&nbsp;&nbsp;&nbsp;INSTRUÇÕES_QUE_SE_REPETIRÃO_PARA_CADA_VALOR_DA_VARIÁVEL \n",
    "\n",
    "INSTRUÇÕES_EXECUTADAS_APENAS_UMA_VEZ\n",
    "\n",
    "Por exemplo, o laço **for** a seguir irá imprimir o valor da variável **i** para cada valor que ela assumir."
   ]
  },
  {
   "cell_type": "code",
   "execution_count": 3,
   "metadata": {
    "slideshow": {
     "slide_type": "fragment"
    }
   },
   "outputs": [
    {
     "name": "stdout",
     "output_type": "stream",
     "text": [
      "i =0\n",
      "i =1\n",
      "i =2\n",
      "i =3\n",
      "i =4\n",
      "i =5\n"
     ]
    }
   ],
   "source": [
    "import numpy as np\n",
    "\n",
    "for i in np.array([0, 1, 2, 3, 4, 5]):\n",
    "    print(f'i ={i}')"
   ]
  },
  {
   "cell_type": "markdown",
   "metadata": {
    "slideshow": {
     "slide_type": "slide"
    }
   },
   "source": [
    "O vetor também pode ser construído com o comando np.arange ou np.linspace. Por exemplo:"
   ]
  },
  {
   "cell_type": "code",
   "execution_count": 5,
   "metadata": {
    "slideshow": {
     "slide_type": "fragment"
    }
   },
   "outputs": [
    {
     "name": "stdout",
     "output_type": "stream",
     "text": [
      "i = 0\n",
      "i = 1\n",
      "i = 2\n",
      "i = 3\n",
      "i = 4\n",
      "i = 5\n"
     ]
    }
   ],
   "source": [
    "for i in np.arange(0, 6, 1):\n",
    "    print(f'i = {i}')"
   ]
  },
  {
   "cell_type": "markdown",
   "metadata": {
    "slideshow": {
     "slide_type": "slide"
    }
   },
   "source": [
    "Um outro comando para a construção da lista de números que a variável irá adotar é o comando **range**. Esse comando funciona apenas dentro do **for**, e é a maneira mais comum para produzir essa lista de números. Por exemplo:"
   ]
  },
  {
   "cell_type": "code",
   "execution_count": 7,
   "metadata": {
    "slideshow": {
     "slide_type": "fragment"
    }
   },
   "outputs": [
    {
     "name": "stdout",
     "output_type": "stream",
     "text": [
      "i = 0\n",
      "i = 1\n",
      "i = 2\n",
      "i = 3\n",
      "i = 4\n",
      "i = 5\n"
     ]
    }
   ],
   "source": [
    "for i in range(0, 6, 1):\n",
    "    print(f'i = {i}')"
   ]
  },
  {
   "cell_type": "markdown",
   "metadata": {
    "slideshow": {
     "slide_type": "slide"
    }
   },
   "source": [
    "Para simplificar o comando 'range', se a diferença entre um elemento e outro for 1, não é necessário colocar essa diferença."
   ]
  },
  {
   "cell_type": "code",
   "execution_count": 8,
   "metadata": {
    "slideshow": {
     "slide_type": "fragment"
    }
   },
   "outputs": [
    {
     "name": "stdout",
     "output_type": "stream",
     "text": [
      "i = 0\n",
      "i = 1\n",
      "i = 2\n",
      "i = 3\n",
      "i = 4\n",
      "i = 5\n"
     ]
    }
   ],
   "source": [
    "for i in range(0, 6):\n",
    "    print(f'i = {i}')"
   ]
  },
  {
   "cell_type": "markdown",
   "metadata": {
    "slideshow": {
     "slide_type": "fragment"
    }
   },
   "source": [
    "Além disso, se o primeiro elemento for 0, não é necessário especificar o primeiro elemento:"
   ]
  },
  {
   "cell_type": "code",
   "execution_count": 9,
   "metadata": {
    "slideshow": {
     "slide_type": "fragment"
    }
   },
   "outputs": [
    {
     "name": "stdout",
     "output_type": "stream",
     "text": [
      "i = 0\n",
      "i = 1\n",
      "i = 2\n",
      "i = 3\n",
      "i = 4\n",
      "i = 5\n"
     ]
    }
   ],
   "source": [
    "for i in range(6):\n",
    "    print(f'i = {i}')"
   ]
  },
  {
   "cell_type": "markdown",
   "metadata": {
    "slideshow": {
     "slide_type": "slide"
    }
   },
   "source": [
    "Se quisermos que o loop comece de um valor diferente de 0, devemos explicitar o primeiro elemento:"
   ]
  },
  {
   "cell_type": "code",
   "execution_count": 10,
   "metadata": {},
   "outputs": [
    {
     "name": "stdout",
     "output_type": "stream",
     "text": [
      "i = 2\n",
      "i = 3\n",
      "i = 4\n",
      "i = 5\n"
     ]
    }
   ],
   "source": [
    "for i in range(2, 6):\n",
    "    print(f'i = {i}')"
   ]
  },
  {
   "cell_type": "markdown",
   "metadata": {
    "slideshow": {
     "slide_type": "slide"
    }
   },
   "source": [
    "### Laços aninhados"
   ]
  },
  {
   "cell_type": "code",
   "execution_count": 11,
   "metadata": {
    "slideshow": {
     "slide_type": "fragment"
    }
   },
   "outputs": [
    {
     "name": "stdout",
     "output_type": "stream",
     "text": [
      "i = 0, j = 0\n",
      "i = 0, j = 1\n",
      "i = 0, j = 2\n",
      "i = 0, j = 3\n",
      "i = 0, j = 4\n",
      "i = 1, j = 0\n",
      "i = 1, j = 1\n",
      "i = 1, j = 2\n",
      "i = 1, j = 3\n",
      "i = 1, j = 4\n",
      "i = 2, j = 0\n",
      "i = 2, j = 1\n",
      "i = 2, j = 2\n",
      "i = 2, j = 3\n",
      "i = 2, j = 4\n",
      "i = 3, j = 0\n",
      "i = 3, j = 1\n",
      "i = 3, j = 2\n",
      "i = 3, j = 3\n",
      "i = 3, j = 4\n",
      "i = 4, j = 0\n",
      "i = 4, j = 1\n",
      "i = 4, j = 2\n",
      "i = 4, j = 3\n",
      "i = 4, j = 4\n",
      "i = 5, j = 0\n",
      "i = 5, j = 1\n",
      "i = 5, j = 2\n",
      "i = 5, j = 3\n",
      "i = 5, j = 4\n",
      "i = 6, j = 0\n",
      "i = 6, j = 1\n",
      "i = 6, j = 2\n",
      "i = 6, j = 3\n",
      "i = 6, j = 4\n",
      "i = 7, j = 0\n",
      "i = 7, j = 1\n",
      "i = 7, j = 2\n",
      "i = 7, j = 3\n",
      "i = 7, j = 4\n",
      "i = 8, j = 0\n",
      "i = 8, j = 1\n",
      "i = 8, j = 2\n",
      "i = 8, j = 3\n",
      "i = 8, j = 4\n",
      "i = 9, j = 0\n",
      "i = 9, j = 1\n",
      "i = 9, j = 2\n",
      "i = 9, j = 3\n",
      "i = 9, j = 4\n"
     ]
    }
   ],
   "source": [
    "for i in range(10):\n",
    "    for j in range(5):\n",
    "        print(f'i = {i}, j = {j}')"
   ]
  },
  {
   "cell_type": "markdown",
   "metadata": {
    "slideshow": {
     "slide_type": "slide"
    }
   },
   "source": [
    "### Somatória\n",
    "\n",
    "\n",
    "Se quisermos, por exemplo, fazer a seguinte somatória:\n",
    "\n",
    "\n",
    "$$ S = 1 + \\frac{1}{2} + \\frac{1}{4} + \\frac{1}{8} + ... $$"
   ]
  },
  {
   "cell_type": "markdown",
   "metadata": {
    "slideshow": {
     "slide_type": "fragment"
    }
   },
   "source": [
    "Pode-se notar que podemos escrever a somatória acima como:\n",
    "\n",
    "$$S = \\displaystyle\\sum_{i=0}^N \\frac{1}{2^i}$$\n",
    "\n",
    "Isso pode ser feito com um loop **for**. Considerando $N = 30$:"
   ]
  },
  {
   "cell_type": "code",
   "execution_count": 12,
   "metadata": {
    "slideshow": {
     "slide_type": "fragment"
    }
   },
   "outputs": [
    {
     "name": "stdout",
     "output_type": "stream",
     "text": [
      "S = 1.9999999990686774\n"
     ]
    }
   ],
   "source": [
    "N = 30\n",
    "S = 0\n",
    "for i in range(0, N+1, 1):\n",
    "    S = S + 1/2**i\n",
    "print(f'S = {S}')"
   ]
  },
  {
   "cell_type": "markdown",
   "metadata": {
    "slideshow": {
     "slide_type": "slide"
    }
   },
   "source": [
    "### Varrendo um vetor do Numpy\n",
    "\n",
    "\n",
    "Você pode usar um loop for (ou while) para ler valores individuais de vetores do Numpy.\n",
    "\n"
   ]
  },
  {
   "cell_type": "code",
   "execution_count": 15,
   "metadata": {
    "slideshow": {
     "slide_type": "fragment"
    }
   },
   "outputs": [
    {
     "name": "stdout",
     "output_type": "stream",
     "text": [
      "0.21336167217801816\n",
      "0.9458881564736409\n",
      "0.5802606545148594\n",
      "0.58011226192922\n",
      "0.5111647006136645\n",
      "0.7016852173716607\n",
      "0.22768879299767353\n",
      "0.8638977017175794\n",
      "0.612645117336497\n",
      "0.1464471708394378\n"
     ]
    }
   ],
   "source": [
    "import numpy as np\n",
    "\n",
    "rng = np.random.default_rng()\n",
    "x = rng.uniform(low=0, high=1, size=10) # cria um vetor do Numpy com 10 valores aleatórios entre 0 e 1.\n",
    "\n",
    "for i in range(len(x)):\n",
    "    print(x[i])"
   ]
  },
  {
   "cell_type": "markdown",
   "metadata": {
    "slideshow": {
     "slide_type": "slide"
    }
   },
   "source": [
    "Por exemplo, se quisermos computar a classificação do IMC (ver [aula 4](https://nbviewer.jupyter.org/format/slides/github/rnwatanabe/BasesComputacionais2019/blob/master/aula4/EstruturasCondicionais.ipynb#/27)) para três pessoas, podemos gravar a massa e altura em vetores do Numpy e dentro de um for ler um valor por vez. Por exemplo, para $m_1 = 51$ kg e $h_1=1,51$ m, $m_2 = 78$ kg e $h_2=1,75$ m e $m_3 = 51$ kg e $h_3=1,51$ m , temos:"
   ]
  },
  {
   "cell_type": "code",
   "execution_count": 16,
   "metadata": {
    "slideshow": {
     "slide_type": "fragment"
    }
   },
   "outputs": [
    {
     "name": "stdout",
     "output_type": "stream",
     "text": [
      "O IMC para m =  51 kg e h =  1.51 m é  22.37 e  é classificado como Peso Normal\n",
      "O IMC para m =  78 kg e h =  1.75 m é  25.47 e  é classificado como Acima do Peso\n",
      "O IMC para m =  67 kg e h =  1.94 m é  17.8 e  é classificado como Abaixo do peso\n"
     ]
    }
   ],
   "source": [
    "m = np.array([51, 78, 67])\n",
    "h = np.array([1.51, 1.75, 1.94])\n",
    "\n",
    "for i in range(len(m)):\n",
    "    IMC= m[i]/h[i]**2\n",
    "    if  IMC <= 17:\n",
    "        print ('O IMC para m = ', m[i], 'kg e h = ', h[i], 'm é ', round(IMC, 2),\n",
    "               'e  é classificado como Muito abaixo do peso')\n",
    "    if  IMC > 17 and IMC <= 18.5:\n",
    "        print('O IMC para m = ', m[i], 'kg e h = ', h[i], 'm é ', round(IMC, 2),\n",
    "              'e  é classificado como Abaixo do peso')\n",
    "    if  IMC > 18.5 and IMC <= 25:\n",
    "        print('O IMC para m = ', m[i], 'kg e h = ', h[i], 'm é ', round(IMC, 2),\n",
    "              'e  é classificado como Peso Normal')\n",
    "    if  IMC > 25 and IMC <= 30:\n",
    "        print ('O IMC para m = ', m[i], 'kg e h = ', h[i], 'm é ', round(IMC, 2),\n",
    "               'e  é classificado como Acima do Peso')\n",
    "    if  IMC > 30 and IMC <= 35:\n",
    "        print ('O IMC para m = ', m[i], 'kg e h = ', h[i], 'm é ', round(IMC, 2),\n",
    "               'e  é classificado como Obesidade Grau I')\n",
    "    if  IMC > 35 and IMC <= 40:\n",
    "        print ('O IMC para m = ', m[i], 'kg e h = ', h[i], 'm é ', round(IMC, 2),\n",
    "               'e  é classificado como Obesidade Grau II')\n",
    "    if  IMC > 40:\n",
    "        print ('O IMC para m = ', m[i], 'kg e h = ', h[i], 'm é ', round(IMC, 2),\n",
    "               'e  é classificado como Obesidade Grau III')"
   ]
  },
  {
   "cell_type": "markdown",
   "metadata": {
    "slideshow": {
     "slide_type": "slide"
    }
   },
   "source": [
    "### Gravando valores em um vetor do Numpy\n",
    "\n",
    "**Loops com vetores do Numpy devem ser utilizados como último recurso. Na maioria das situações os comandos do Numpy são suficientes. Em geral é necessário usar um loop quando os elementos dos vetores dependem dos elementos anteriores.**\n",
    "\n",
    "Suponhamos agora que queremos gravar vários elementos em um vetor. \n",
    "\n",
    "Por exemplo, podemos querer gravar os 30 primeiros elementos da série de Fibonacci em um vetor (um elemento da série de Fibonacci é a soma dos dois elementos anteriores da série, em que os dois primeiros elementos são iguais a 1):"
   ]
  },
  {
   "cell_type": "code",
   "execution_count": 17,
   "metadata": {
    "slideshow": {
     "slide_type": "fragment"
    }
   },
   "outputs": [
    {
     "name": "stdout",
     "output_type": "stream",
     "text": [
      "[     1      1      2      3      5      8     13     21     34     55\n",
      "     89    144    233    377    610    987   1597   2584   4181   6765\n",
      "  10946  17711  28657  46368  75025 121393 196418 317811 514229 832040]\n"
     ]
    }
   ],
   "source": [
    "import numpy as np\n",
    "\n",
    "fib = np.zeros((30))\n",
    "\n",
    "fib[0] = 1\n",
    "fib[1] = 1\n",
    "for i in range(2, len(fib)):\n",
    "    fib[i] = fib[i-1] + fib[i-2]\n",
    "\n",
    "print(fib.astype(int))"
   ]
  },
  {
   "cell_type": "markdown",
   "metadata": {
    "slideshow": {
     "slide_type": "fragment"
    }
   },
   "source": [
    "Repare que antes de começar a gravar os valores no vetor fib, é necessário criá-lo. Isso é feito com o comando 'np.zeros((N))', em que N é o número de elementos que o vetor tem. Além disso, os primeiros elementos de uma série devem ter os seus valores designados antes de começar o loop for."
   ]
  },
  {
   "cell_type": "markdown",
   "metadata": {
    "slideshow": {
     "slide_type": "slide"
    }
   },
   "source": [
    "### Lendo e gravando valores em um DataFrame do Pandas\n",
    "\n",
    "Existem diversas maneiras para ler o valor de uma posição específica de um DataFrame.\n",
    "\n",
    "Uma delas é acrescentando o comando '.values' após o nome do campo do DataFrame e, entre colchetes, colocar o índice do item desejado."
   ]
  },
  {
   "cell_type": "code",
   "execution_count": 20,
   "metadata": {
    "slideshow": {
     "slide_type": "fragment"
    }
   },
   "outputs": [
    {
     "data": {
      "text/html": [
       "<div>\n",
       "<style scoped>\n",
       "    .dataframe tbody tr th:only-of-type {\n",
       "        vertical-align: middle;\n",
       "    }\n",
       "\n",
       "    .dataframe tbody tr th {\n",
       "        vertical-align: top;\n",
       "    }\n",
       "\n",
       "    .dataframe thead th {\n",
       "        text-align: right;\n",
       "    }\n",
       "</style>\n",
       "<table border=\"1\" class=\"dataframe\">\n",
       "  <thead>\n",
       "    <tr style=\"text-align: right;\">\n",
       "      <th></th>\n",
       "      <th>Produto</th>\n",
       "      <th>Fabricante</th>\n",
       "      <th>Qtd</th>\n",
       "      <th>Medida</th>\n",
       "      <th>Preço</th>\n",
       "      <th>Supermercado</th>\n",
       "      <th>Data</th>\n",
       "    </tr>\n",
       "  </thead>\n",
       "  <tbody>\n",
       "    <tr>\n",
       "      <th>0</th>\n",
       "      <td>Suco</td>\n",
       "      <td>ValeSuco</td>\n",
       "      <td>1</td>\n",
       "      <td>l</td>\n",
       "      <td>3.00</td>\n",
       "      <td>Arpoador</td>\n",
       "      <td>12/05/2011</td>\n",
       "    </tr>\n",
       "    <tr>\n",
       "      <th>1</th>\n",
       "      <td>Suco</td>\n",
       "      <td>Flash</td>\n",
       "      <td>1</td>\n",
       "      <td>l</td>\n",
       "      <td>4.50</td>\n",
       "      <td>Arpoador</td>\n",
       "      <td>18/05/2011</td>\n",
       "    </tr>\n",
       "    <tr>\n",
       "      <th>2</th>\n",
       "      <td>Tomate</td>\n",
       "      <td>-</td>\n",
       "      <td>1</td>\n",
       "      <td>kg</td>\n",
       "      <td>3.50</td>\n",
       "      <td>Noite</td>\n",
       "      <td>14/05/2011</td>\n",
       "    </tr>\n",
       "    <tr>\n",
       "      <th>3</th>\n",
       "      <td>Arroz</td>\n",
       "      <td>Tio José</td>\n",
       "      <td>4</td>\n",
       "      <td>kg</td>\n",
       "      <td>8.64</td>\n",
       "      <td>Noite</td>\n",
       "      <td>14/05/2011</td>\n",
       "    </tr>\n",
       "    <tr>\n",
       "      <th>4</th>\n",
       "      <td>Arroz</td>\n",
       "      <td>Sem Broto</td>\n",
       "      <td>5</td>\n",
       "      <td>kg</td>\n",
       "      <td>9.99</td>\n",
       "      <td>Arpoador</td>\n",
       "      <td>10/06/2011</td>\n",
       "    </tr>\n",
       "    <tr>\n",
       "      <th>5</th>\n",
       "      <td>Arroz</td>\n",
       "      <td>Da TV</td>\n",
       "      <td>1</td>\n",
       "      <td>kg</td>\n",
       "      <td>1.99</td>\n",
       "      <td>Noite</td>\n",
       "      <td>14/06/2011</td>\n",
       "    </tr>\n",
       "    <tr>\n",
       "      <th>6</th>\n",
       "      <td>Feijão</td>\n",
       "      <td>Sem Broto</td>\n",
       "      <td>1</td>\n",
       "      <td>kg</td>\n",
       "      <td>4.00</td>\n",
       "      <td>Arpoador</td>\n",
       "      <td>12/05/2011</td>\n",
       "    </tr>\n",
       "    <tr>\n",
       "      <th>7</th>\n",
       "      <td>Tomate</td>\n",
       "      <td>-</td>\n",
       "      <td>1</td>\n",
       "      <td>kg</td>\n",
       "      <td>2.99</td>\n",
       "      <td>Noite</td>\n",
       "      <td>16/05/2011</td>\n",
       "    </tr>\n",
       "    <tr>\n",
       "      <th>8</th>\n",
       "      <td>Ovo</td>\n",
       "      <td>A Granja</td>\n",
       "      <td>12</td>\n",
       "      <td>u</td>\n",
       "      <td>3.19</td>\n",
       "      <td>Arpoador</td>\n",
       "      <td>12/06/2011</td>\n",
       "    </tr>\n",
       "    <tr>\n",
       "      <th>9</th>\n",
       "      <td>Ovo</td>\n",
       "      <td>Caseiro</td>\n",
       "      <td>6</td>\n",
       "      <td>u</td>\n",
       "      <td>1.45</td>\n",
       "      <td>Noite</td>\n",
       "      <td>14/05/2011</td>\n",
       "    </tr>\n",
       "    <tr>\n",
       "      <th>10</th>\n",
       "      <td>Suco</td>\n",
       "      <td>Flash</td>\n",
       "      <td>1</td>\n",
       "      <td>l</td>\n",
       "      <td>3.99</td>\n",
       "      <td>Noite</td>\n",
       "      <td>21/07/2011</td>\n",
       "    </tr>\n",
       "  </tbody>\n",
       "</table>\n",
       "</div>"
      ],
      "text/plain": [
       "   Produto Fabricante  Qtd Medida  Preço Supermercado        Data\n",
       "0     Suco   ValeSuco    1      l   3.00     Arpoador  12/05/2011\n",
       "1     Suco      Flash    1      l   4.50     Arpoador  18/05/2011\n",
       "2   Tomate         -     1     kg   3.50        Noite  14/05/2011\n",
       "3    Arroz   Tio José    4     kg   8.64        Noite  14/05/2011\n",
       "4    Arroz  Sem Broto    5     kg   9.99     Arpoador  10/06/2011\n",
       "5    Arroz      Da TV    1     kg   1.99        Noite  14/06/2011\n",
       "6   Feijão  Sem Broto    1     kg   4.00     Arpoador  12/05/2011\n",
       "7   Tomate         -     1     kg   2.99        Noite  16/05/2011\n",
       "8      Ovo   A Granja   12      u   3.19     Arpoador  12/06/2011\n",
       "9      Ovo    Caseiro    6      u   1.45        Noite  14/05/2011\n",
       "10    Suco      Flash    1      l   3.99        Noite  21/07/2011"
      ]
     },
     "execution_count": 20,
     "metadata": {},
     "output_type": "execute_result"
    }
   ],
   "source": [
    "import pandas as pd\n",
    "import numpy as np\n",
    "\n",
    "compras = pd.read_csv('dados/compras.csv')\n",
    "compras\n"
   ]
  },
  {
   "cell_type": "code",
   "execution_count": 21,
   "metadata": {
    "slideshow": {
     "slide_type": "fragment"
    },
    "tags": []
   },
   "outputs": [
    {
     "name": "stdout",
     "output_type": "stream",
     "text": [
      "Arroz\n"
     ]
    }
   ],
   "source": [
    "print(compras['Produto'].values[3])"
   ]
  },
  {
   "cell_type": "markdown",
   "metadata": {
    "slideshow": {
     "slide_type": "fragment"
    }
   },
   "source": [
    "Uma outra maneira é com o comando '.at[*linha*, *coluna*]' acrescentado após o nome do DataFrame."
   ]
  },
  {
   "cell_type": "code",
   "execution_count": 19,
   "metadata": {
    "slideshow": {
     "slide_type": "fragment"
    }
   },
   "outputs": [
    {
     "name": "stdout",
     "output_type": "stream",
     "text": [
      "Arroz\n"
     ]
    }
   ],
   "source": [
    "print(compras.at[3, 'Produto'])"
   ]
  },
  {
   "cell_type": "markdown",
   "metadata": {
    "slideshow": {
     "slide_type": "slide"
    }
   },
   "source": [
    "Por exemplo, podemos usar um laço for para designar valores a um novo DataFrame. \n",
    "\n",
    "Primeiro é necessário criar um DataFrame sem valores. É necessário determinar quais serão as colunas e quais serão as linhas."
   ]
  },
  {
   "cell_type": "code",
   "execution_count": null,
   "metadata": {
    "slideshow": {
     "slide_type": "fragment"
    }
   },
   "outputs": [],
   "source": [
    "meses = ['Janeiro', 'Fevereiro', 'Março', 'Abril', 'Maio', 'Junho', \n",
    "         'Julho', 'Agosto', 'Setembro','Outubro', 'Novembro', 'Dezembro']\n",
    "\n",
    "colunas = ['Mês', 'Quantidade']\n",
    "quantidade = pd.DataFrame(0, index=np.arange(0, 12, 1), columns=colunas)\n",
    "quantidade['Mês'] = meses\n",
    "quantidade"
   ]
  },
  {
   "cell_type": "markdown",
   "metadata": {
    "slideshow": {
     "slide_type": "slide"
    }
   },
   "source": [
    "Agora, pode-se usar um laço for para ler o DataFrame 'compras' e gravar no Dataframe 'quantidade' a quantidade de produtos em cada mês."
   ]
  },
  {
   "cell_type": "code",
   "execution_count": null,
   "metadata": {
    "slideshow": {
     "slide_type": "fragment"
    }
   },
   "outputs": [],
   "source": [
    "compras['Data'] = pd.to_datetime(compras['Data'], format='%d/%m/%Y')\n",
    "\n",
    "for i in range(len(compras)):\n",
    "    quantidade.loc[compras.loc[i, 'Data'].month - 1, 'Quantidade'\n",
    "                  ] = (quantidade.loc[compras.loc[i, 'Data'].month - 1, 'Quantidade']\n",
    "                       + compras.loc[i, 'Qtd'])\n",
    "\n",
    "quantidade"
   ]
  },
  {
   "cell_type": "markdown",
   "metadata": {
    "slideshow": {
     "slide_type": "slide"
    }
   },
   "source": [
    "### Tarefa (para agora)\n",
    "\n",
    "- Escrever um notebook do Colab para fazer o que pedido a seguir.\n",
    "\n",
    "- Colocar o seu nome na primeira célula do Notebook.\n",
    "\n",
    "- O notebook deve estar com texto explicando o Notebook. \n",
    "\n",
    "- Todos os resultados devem ser mostrados ao executar o notebook.\n",
    "\n",
    "- Coloque no seu repositório do Github o arquivo '.ipynb' contendo o notebook feito por você com o nome \"Tarefa11SeuNome.ipynb\".\n",
    "\n",
    "- **1)** Faça a aproximação de $\\pi$ usando a fórmula de Leibniz:\n",
    "\n",
    "$$\\pi \\approx 4 - \\frac{4}{3} + \\frac{4}{5} - \\frac{4}{7} + \\frac{4}{9}+...$$\n",
    "\n",
    "Calcule (e mostre na tela) a aproximação de $\\pi$ considerando a) 50 termos, b) 500 termos, c) 1000 termos e d) 10000 termos. \n",
    "\n",
    "Dica: Note que o sinal do termo muda a cada termo. Talvez verificar se o $i$ é par ou ímpar ajude a decidir se para aquele i o sinal é mais ou menos.\n"
   ]
  },
  {
   "cell_type": "markdown",
   "metadata": {
    "slideshow": {
     "slide_type": "slide"
    }
   },
   "source": [
    "### Tarefa (para antes da próxima aula)\n",
    "\n",
    "- Escrever um notebook do Colab para fazer o que pedido a seguir.\n",
    "\n",
    "- Colocar o seu nome na primeira célula do Notebook.\n",
    "\n",
    "- O notebook deve estar com texto explicando o Notebook. \n",
    "\n",
    "- Todos os resultados devem ser mostrados ao executar o notebook.\n",
    "\n",
    "- Não se esqueça de indicar o significado de cada eixo, colocando a unidade da abscissa e da ordenada nos gráficos.\n",
    "\n",
    "- Coloque no seu repositório do Github o arquivo '.ipynb' contendo o notebook feito por você com o nome \"Tarefa12SeuNome.ipynb\"."
   ]
  },
  {
   "cell_type": "markdown",
   "metadata": {
    "slideshow": {
     "slide_type": "slide"
    }
   },
   "source": [
    "**1)**  Três séries, $v, y$ e $t$ seguem as seguintes regras:\n",
    "        \n",
    "$$v[i] = v[i-1] + 0,01.(-9,81)$$\n",
    "$$y[i] = y[i-1] + 0,01v[i-1]$$\n",
    "$$t[i] = t[i-1] + 0,01$$\n",
    "        \n",
    "Começando com v[0] = 10 m/s, y[0] = 0 m e t[0] = 0 s, calcule os 250 primeiros valores das três séries. \n",
    "\n",
    "Faça os gráficos com os valores encontrados de $y$ em função de $t$ e dos valores encontrados de $v$ em função de $t$.\n",
    "\n",
    "Observação: o cálculo destas três séries é uma simulação computacional para calcular a posição e velocidade de uma partícula lançada na vertical com velocidade inicial de 10 m/s. O método utilizado para realizar esta simulação é conhecido como método de Euler.\n"
   ]
  },
  {
   "cell_type": "markdown",
   "metadata": {
    "slideshow": {
     "slide_type": "slide"
    }
   },
   "source": [
    "**2)** O valor de $\\ln(1+x)$ pode ser aproximado por (apenas para $|x|<1$):\n",
    "\n",
    "$\\ln(1+x) = x - \\frac{x^2}{2} + \\frac{x^3}{3} ... = \\displaystyle\\sum_{i=1}^n (-1)^{i+1}\\frac{x^i}{i} $\n",
    "\n",
    "$\\ln$ é o logaritmo na base $e$ (conhecido como logaritmo natural).\n",
    "\n",
    "Use a expressão acima com n = 100 para encontrar $\\ln(0.5)$.\n",
    "\n",
    "Compare o resultado com a função do Numpy `np.log(0.5)`.\n",
    "\n"
   ]
  },
  {
   "cell_type": "markdown",
   "metadata": {
    "slideshow": {
     "slide_type": "slide"
    }
   },
   "source": [
    "**3)** Calcular a aproximação de uma onda quadrada seguindo a seguinte expressão (a expressão abaixo é calculada utilizando uma teoria matemática conhecida como série de Fourier):\n",
    "\n",
    "$$x(t)  \\approx \\frac{4}{\\pi}\\displaystyle \\sum_{i = 1}^N \\frac{\\sin\\left[(2i - 1)t\\right]}{2i - 1}$$\n",
    "\n",
    "Faça a aproximação para $0 \\leqslant t \\leqslant 10$ (utilize um número suficiente de pontos no vetor $t$ para poder observar o gráfico de $x(t)$, algo em torno de 100000 pontos).\n",
    "\n",
    "Faça a aproximação para a) N = 10, b) N = 100, c) N = 1000 e d) N = 10000. Coloque todas as aproximações em um único gráfico, com a aproximação de $x(t)$ em função de $t$.\n",
    "\n",
    "Dica: se você estiver com dificuldade, faça primeiro o gráfico considerando i = 1, sem nenhuma somatória (N = 1). Depois disso, coloque o código que você tiver escrito dentro de um for ou while para variar o valor de i e fazer a somatória.\n",
    "\n"
   ]
  },
  {
   "cell_type": "markdown",
   "metadata": {
    "slideshow": {
     "slide_type": "slide"
    }
   },
   "source": [
    "### Referências\n",
    "\n",
    "- Chalco, JM, *Slides de Bases Computacionais da Ciência*, (2014)\n",
    "- Leite, S, *Slides de Bases Computacionais da Ciência*, (2018)\n",
    "- [Marietto, MGB et al.; **Bases computacionais da Ciência** (2013)](http://prograd.ufabc.edu.br/images/pdf/bases_computacionais_livro.pdf).\n",
    "- [Ipeadata](http://www.ipeadata.gov.br)"
   ]
  }
 ],
 "metadata": {
  "kernelspec": {
   "display_name": "Python 3 (ipykernel)",
   "language": "python",
   "name": "python3"
  },
  "language_info": {
   "codemirror_mode": {
    "name": "ipython",
    "version": 3
   },
   "file_extension": ".py",
   "mimetype": "text/x-python",
   "name": "python",
   "nbconvert_exporter": "python",
   "pygments_lexer": "ipython3",
   "version": "3.9.13"
  },
  "latex_envs": {
   "LaTeX_envs_menu_present": true,
   "autoclose": false,
   "autocomplete": true,
   "bibliofile": "biblio.bib",
   "cite_by": "apalike",
   "current_citInitial": 1,
   "eqLabelWithNumbers": true,
   "eqNumInitial": 1,
   "hotkeys": {
    "equation": "Ctrl-E",
    "itemize": "Ctrl-I"
   },
   "labels_anchors": false,
   "latex_user_defs": false,
   "report_style_numbering": false,
   "user_envs_cfg": false
  },
  "livereveal": {
   "autolaunch": true
  },
  "nbTranslate": {
   "displayLangs": [
    "*"
   ],
   "hotkey": "alt-t",
   "langInMainMenu": true,
   "sourceLang": "en",
   "targetLang": "fr",
   "useGoogleTranslate": true
  },
  "toc": {
   "base_numbering": 1,
   "nav_menu": {},
   "number_sections": true,
   "sideBar": true,
   "skip_h1_title": true,
   "title_cell": "Contents",
   "title_sidebar": "Contents",
   "toc_cell": true,
   "toc_position": {},
   "toc_section_display": true,
   "toc_window_display": false
  },
  "varInspector": {
   "cols": {
    "lenName": 16,
    "lenType": 16,
    "lenVar": 40
   },
   "kernels_config": {
    "python": {
     "delete_cmd_postfix": "",
     "delete_cmd_prefix": "del ",
     "library": "var_list.py",
     "varRefreshCmd": "print(var_dic_list())"
    },
    "r": {
     "delete_cmd_postfix": ") ",
     "delete_cmd_prefix": "rm(",
     "library": "var_list.r",
     "varRefreshCmd": "cat(var_dic_list()) "
    }
   },
   "types_to_exclude": [
    "module",
    "function",
    "builtin_function_or_method",
    "instance",
    "_Feature"
   ],
   "window_display": false
  }
 },
 "nbformat": 4,
 "nbformat_minor": 4
}

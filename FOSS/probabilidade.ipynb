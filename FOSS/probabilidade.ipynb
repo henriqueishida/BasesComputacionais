{
  "cells": [
    {
      "attachments": {},
      "cell_type": "markdown",
      "metadata": {
        "colab_type": "text",
        "id": "view-in-github"
      },
      "source": [
        "<a href=\"https://colab.research.google.com/github/BMClab/BasesComputacionais/blob/master/FOSS/probabilidade.ipynb\" target=\"_parent\"><img src=\"https://colab.research.google.com/assets/colab-badge.svg\" alt=\"Open In Colab\"/></a>"
      ]
    },
    {
      "cell_type": "markdown",
      "metadata": {
        "id": "BXHVgceToRty"
      },
      "source": [
        "Trabalho destinado a disciplina de **Bases Computacionais da Ciência**, tendo por objetivo identificar desafios da disciplina de Introdução à Probabilidade e Estatística, buscando solucionar (ou aliviar a dor do processo) através da programação em Python. \n",
        "\n",
        "**Alunos:** Kelly Maria Torres Azevedo, **RA:11202022099**; Diego Domingos França Silva, **RA: 11202232278**\n",
        "\n",
        "**Professor:** Marcos Duarte"
      ]
    },
    {
      "cell_type": "markdown",
      "metadata": {
        "id": "_0zvNtyjpD2n"
      },
      "source": [
        "#**Introdução à Probabilidade e Estatística**"
      ]
    },
    {
      "cell_type": "markdown",
      "metadata": {
        "id": "bFM-8i-vIkr6"
      },
      "source": [
        "<figure><center><img src=\"https://th.bing.com/th/id/R.d9cc88a40213036b43955fbff17bf629?rik=p1Uc7cLGBaygAQ&pid=ImgRaw&r=0\" width=300/></center></figure> \n",
        "\n",
        "* **Objetivo da Disciplina:** Fornecer aos alunos os conceitos fundamentais para tomada de decisão com base em estudosestatísticos. Ela é obrigatória aos Bacharelados em Ciências e Humanidades e em Ciências e Tecnologia. \n",
        "\n",
        "* **TPI:** 2-2-4\n",
        "\n",
        "* **Dificuldade encontrada:** Ao conversar com colegas que já fizeram a disciplina, foi identidificado uma dificuldade na aplicação de fórmulas complexas "
      ]
    },
    {
      "cell_type": "markdown",
      "metadata": {
        "id": "mMIncb1pKyvi"
      },
      "source": [
        "##Distribuição de Poisson"
      ]
    },
    {
      "cell_type": "markdown",
      "metadata": {
        "id": "zn0Bsxy5pl9h"
      },
      "source": [
        "\n",
        "A distribuição de Poisson parte da distribuição binominal, discreta e aplicável, ou seja, resulta em números distintos de eventos em um intervalo específico.\n",
        "\n",
        "* Por exemplo, quando há Uma probabilidade pequena de ser ganhador de um sorteio,  contudo, é um sorteio que ocorre muitas vezes.  \n"
      ]
    },
    {
      "cell_type": "markdown",
      "metadata": {
        "id": "vbedl0cM6p6c"
      },
      "source": [
        "--------------\n",
        "###Calculando a distribuição"
      ]
    },
    {
      "cell_type": "markdown",
      "metadata": {
        "id": "g9z1fs5ZwicC"
      },
      "source": [
        "\n",
        "Para calcular a probabilidade de uma distribuição de Poisson, basta seguir a seguinte função:\n",
        "$$P(X=k)=\\frac{e^{-\\mu}\\cdot\\mu^k}{k!}$$\n",
        "\n",
        "Regra básica: \n",
        "* A variavel 'n' - que corresponde ao número de vezes que ocorre o sorteio - deve ser grande, e a variável 'p' - que é a probabilidade de ser sorteado- pequena.\n",
        "* O produto de 'n' e 'p' devem ser menor ou igual a sete."
      ]
    },
    {
      "cell_type": "markdown",
      "metadata": {
        "id": "AqSjGkh2zgzL"
      },
      "source": [
        "Podemos deduzir que a Esperança, o valor médio \"esperado\", de x é igual a variancia de x, que é igual a μ:\n",
        "\n",
        "$$E(X)=Var(X)=\\mu$$"
      ]
    },
    {
      "cell_type": "markdown",
      "metadata": {
        "id": "Mhtgkh0h68Qr"
      },
      "source": [
        "####Exemplo prático"
      ]
    },
    {
      "cell_type": "markdown",
      "metadata": {
        "id": "kEkoNRvH7zPr"
      },
      "source": [
        "Determinada loja está realizando uma promoção onde a cada compra seus clientes podem escolher entre 33 sacolas, sendo que apenas 10 destas contem brindes. Em uma conta rápida, Jéssica calculou que em apenas uma tentativa a probabilidade de conseguir pegar o brinde seria de 0,3. Como ela poderia usar python para analisar quantas tentativas são ideias para conseguir ganhar o brinde?"
      ]
    },
    {
      "cell_type": "markdown",
      "metadata": {
        "id": "Hq3E18877k3F"
      },
      "source": [
        "1. Importando bibliotecas do python"
      ]
    },
    {
      "cell_type": "code",
      "execution_count": null,
      "metadata": {
        "id": "nuskdbbS66Uk"
      },
      "outputs": [],
      "source": [
        "import numpy as np\n",
        "from matplotlib import pyplot as plt\n",
        "import scipy #A biblioteca SciPy foi desenvolvida para trabalhar com arrays NumPy\n",
        "from scipy import special "
      ]
    },
    {
      "cell_type": "markdown",
      "metadata": {
        "id": "YtmD6MT47SfU"
      },
      "source": [
        "2. Definindo as variáveis e verificando se atendem as necessidades:"
      ]
    },
    {
      "cell_type": "code",
      "execution_count": null,
      "metadata": {
        "colab": {
          "base_uri": "https://localhost:8080/"
        },
        "id": "hpP469fs7Sr1",
        "outputId": "276b3772-f890-4523-8bf2-923341a7db50"
      },
      "outputs": [
        {
          "name": "stdout",
          "output_type": "stream",
          "text": [
            "satisfaz a regra, e a distribuição de Poisson pode ser usada\n"
          ]
        }
      ],
      "source": [
        "p= 0.3 #Probabilidade de ser sorteado para cada sorteio\n",
        "K = 10 #n⁰ de brindes\n",
        "n = 10  #n⁰ de sorteios realizados\n",
        "x_k = np.array([1,2,3,4,5,6,7,8,9,10]) #Valores possíveis de X=k=0,...,5\n",
        "\n",
        "VerRegra = p*n\n",
        "def Regra(VerRegra): #criando função para verificar a regra e poder replicar em outros exercícios com maior praticidade\n",
        "  if VerRegra <= 7:\n",
        "    print('satisfaz a regra, e a distribuição de Poisson pode ser usada')\n",
        "  else:\n",
        "    print('inadequada para a distribuição de Poisson')\n",
        "Regra(VerRegra)"
      ]
    },
    {
      "cell_type": "markdown",
      "metadata": {
        "id": "e5Lu_l8N7Lp9"
      },
      "source": [
        "3. Criando Vetor:"
      ]
    },
    {
      "cell_type": "code",
      "execution_count": null,
      "metadata": {
        "id": "fQuY1BI76MHn"
      },
      "outputs": [],
      "source": [
        "p_poiss = np.zeros(10) #função para criar matriz em zeros\n",
        "i=0\n",
        "for k in x_k:\n",
        "    p_poiss[i]=np.exp(-n*p)*(n*p)**k/special.factorial(k)\n",
        "    i += 1"
      ]
    },
    {
      "cell_type": "markdown",
      "metadata": {
        "id": "DLyZQi636iAF"
      },
      "source": [
        "4. Criando gráfico de comparação:"
      ]
    },
    {
      "cell_type": "code",
      "execution_count": null,
      "metadata": {
        "colab": {
          "base_uri": "https://localhost:8080/",
          "height": 312
        },
        "id": "r4bO7yPZ6gc2",
        "outputId": "348dd2dc-d94a-495e-c4b0-5efcc2cad286"
      },
      "outputs": [
        {
          "name": "stderr",
          "output_type": "stream",
          "text": [
            "WARNING:matplotlib.legend:No handles with labels found to put in legend.\n"
          ]
        },
        {
          "data": {
            "image/png": "[encoded data removed]",
            "text/plain": [
              "<Figure size 432x288 with 1 Axes>"
            ]
          },
          "metadata": {
            "needs_background": "light"
          },
          "output_type": "display_data"
        }
      ],
      "source": [
        "def poisson(x_k, p_poiss): #mais uma vez criando uma função para melhor repricidade\n",
        "  plt.scatter(x_k,p_poiss, color='r') #coordenadas x e y e designer\n",
        "  plt.plot(x_k,p_poiss,color='g') \n",
        "  plt.xlabel('x') #legenda para label x\n",
        "  plt.ylabel('p(x)') #legenda para label y\n",
        "  plt.title('Poisson')\n",
        "  plt.legend()\n",
        "  plt.show()\n",
        "poisson(x_k, p_poiss)"
      ]
    }
  ],
  "metadata": {
    "colab": {
      "authorship_tag": "ABX9TyNIiTsUJ7QS362jkyjkcgko",
      "include_colab_link": true,
      "provenance": []
    },
    "kernelspec": {
      "display_name": "Python 3",
      "name": "python3"
    },
    "language_info": {
      "name": "python"
    }
  },
  "nbformat": 4,
  "nbformat_minor": 0
}

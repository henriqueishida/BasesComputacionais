{
  "cells": [
    {
      "attachments": {},
      "cell_type": "markdown",
      "metadata": {},
      "source": [
        "<a href=\"https://colab.research.google.com/github/BMClab/BasesComputacionais/blob/master/FOSS/fuv.ipynb\" target=\"_parent\"><img src=\"https://colab.research.google.com/assets/colab-badge.svg\" alt=\"Open In Colab\"/></a>"
      ]
    },
    {
      "cell_type": "markdown",
      "metadata": {
        "id": "sRZwd0TMHs-J"
      },
      "source": [
        "# **Funções de Uma Variável (FUV)**\n",
        "**Aplicação da biblioteca Sympy em Limites**\n",
        "\n",
        "\n",
        "\n",
        "\n",
        "\n",
        "\n",
        "\n",
        "\n",
        "Taís Fernandes de Oliveira e Tharik Assam Rodrigues\n",
        "\n",
        "**Universidade Federal do ABC**"
      ]
    },
    {
      "cell_type": "markdown",
      "metadata": {
        "id": "_rRkOxbqIX-m"
      },
      "source": [
        "# Qual o objetivo de FUV?\n",
        "\n",
        "- Sistematizar a noção de uma função de uma variável real;\n",
        "- Introduzir os principais conceitos do cálculo diferencial e integral:\n",
        "\n",
        "  + Derivadas;\n",
        "  + Integrais de uma função de uma variável.\n",
        "\n",
        "\n",
        "\n",
        "\n",
        "\n",
        "\n",
        "\n",
        "\n",
        "\n",
        "\n",
        "\n",
        "\n"
      ]
    },
    {
      "cell_type": "markdown",
      "metadata": {
        "id": "_SvI4sc9KGcy"
      },
      "source": [
        "# Principais tópicos abordados em FUV\n",
        "\n",
        "* Limites e Continuidade; \n",
        "* Derivadas;\n",
        "* Integrais.\n"
      ]
    },
    {
      "cell_type": "markdown",
      "metadata": {
        "id": "enqjuguQ71vT"
      },
      "source": [
        "# Conceito de limite\n",
        "\n",
        "A função **f** aproxima-se de um limite **l** próximo a **a** se pudermos fazer **f**(**x**) tão próximo quanto desejado de **l** tomando **x** suficientemente próximo de **a**, mas não igual a, **a**.\n",
        "\n"
      ]
    },
    {
      "cell_type": "markdown",
      "metadata": {
        "id": "NTAw-R-L-fp_"
      },
      "source": [
        "# A biblioteca sympy\n",
        "\n",
        "SymPy é uma biblioteca Python para computação simbólica. Ela fornece ferramentas de álgebra computacional tanto como uma aplicação independente como, também, uma biblioteca para outras aplicações."
      ]
    },
    {
      "cell_type": "markdown",
      "metadata": {
        "id": "IFm0ZFe13U7q"
      },
      "source": [
        "# Definindo infinito\n",
        "\n",
        "No código abaixo estamos definindo o conceito de infinito\n",
        "para o computador entender as principais utilizações de \n",
        "limite. "
      ]
    },
    {
      "cell_type": "code",
      "execution_count": null,
      "metadata": {
        "colab": {
          "base_uri": "https://localhost:8080/"
        },
        "id": "RRdIwUkP2UHl",
        "outputId": "1c2d1764-028d-42da-aa5c-b32fbd185655"
      },
      "outputs": [
        {
          "data": {
            "text/plain": [
              "sympy.core.numbers.Infinity"
            ]
          },
          "execution_count": 8,
          "metadata": {},
          "output_type": "execute_result"
        }
      ],
      "source": [
        "from sympy import init_printing\n",
        "init_printing(use_latex='png', scale=1.05, order='grlex',\n",
        "              forecolor='Black', backcolor='White', fontsize=10)\n",
        "\n",
        "from sympy import oo\n",
        "\n",
        "type(oo)"
      ]
    },
    {
      "cell_type": "markdown",
      "metadata": {
        "id": "2DVkQGUy4VYx"
      },
      "source": [
        "# Função \"limit\"\n",
        "\n",
        "Nessa função testamos o cálculo utilizado para chegar ao número **e**"
      ]
    },
    {
      "cell_type": "code",
      "execution_count": null,
      "metadata": {
        "colab": {
          "base_uri": "https://localhost:8080/",
          "height": 34
        },
        "id": "ZRxpv4NG3j3Z",
        "outputId": "4a84880d-50f9-49d0-b7ed-f1286bb9cbe4"
      },
      "outputs": [
        {
          "data": {
            "image/png": "[encoded data removed]",
            "text/plain": [
              "ℯ"
            ]
          },
          "execution_count": 9,
          "metadata": {},
          "output_type": "execute_result"
        }
      ],
      "source": [
        "from sympy import limit, Symbol\n",
        "\n",
        "x = Symbol('x')\n",
        "\n",
        "limit( (1 + 1 / x)**x, x, oo)\n",
        "\n"
      ]
    },
    {
      "cell_type": "markdown",
      "metadata": {
        "id": "Rle9f02B4pCo"
      },
      "source": [
        "# Limites laterais"
      ]
    },
    {
      "cell_type": "code",
      "execution_count": null,
      "metadata": {
        "colab": {
          "base_uri": "https://localhost:8080/",
          "height": 297
        },
        "id": "rlklfv2p4C25",
        "outputId": "a6ea8307-f923-4bb4-da22-a9a956ed3448"
      },
      "outputs": [
        {
          "data": {
            "image/png": "[encoded data removed]",
            "text/plain": [
              "<Figure size 432x288 with 1 Axes>"
            ]
          },
          "metadata": {
            "needs_background": "light"
          },
          "output_type": "display_data"
        }
      ],
      "source": [
        "from sympy.plotting import plot\n",
        "\n",
        "x = Symbol('x')\n",
        "f = 1 / x\n",
        "\n",
        "plot(f, (x, -10, 10), ylim=(-10, 10));"
      ]
    },
    {
      "cell_type": "code",
      "execution_count": null,
      "metadata": {
        "colab": {
          "base_uri": "https://localhost:8080/",
          "height": 34
        },
        "id": "-mv_TP534yXA",
        "outputId": "9729bd7b-c2eb-4b49-b95c-4e6b4f293fff"
      },
      "outputs": [
        {
          "data": {
            "image/png": "[encoded data removed]",
            "text/plain": [
              "∞"
            ]
          },
          "execution_count": 11,
          "metadata": {},
          "output_type": "execute_result"
        }
      ],
      "source": [
        "limit(f, x, 0, dir='+')"
      ]
    },
    {
      "cell_type": "code",
      "execution_count": null,
      "metadata": {
        "colab": {
          "base_uri": "https://localhost:8080/",
          "height": 34
        },
        "id": "LW1_dj4240YA",
        "outputId": "c4028fbd-f97a-4022-b756-03e0292f255e"
      },
      "outputs": [
        {
          "data": {
            "image/png": "[encoded data removed]",
            "text/plain": [
              "-∞"
            ]
          },
          "execution_count": 12,
          "metadata": {},
          "output_type": "execute_result"
        }
      ],
      "source": [
        "limit(f, x, 0, dir='-')"
      ]
    },
    {
      "cell_type": "markdown",
      "metadata": {
        "id": "wAsCgw-l5HtH"
      },
      "source": [
        "# Duas funções oscilantes"
      ]
    },
    {
      "cell_type": "code",
      "execution_count": null,
      "metadata": {
        "colab": {
          "base_uri": "https://localhost:8080/",
          "height": 297
        },
        "id": "TeHESpG049lQ",
        "outputId": "16adad93-efcf-4f8e-df35-862beeacbe99"
      },
      "outputs": [
        {
          "data": {
            "image/png": "[encoded data removed]",
            "text/plain": [
              "<Figure size 432x288 with 1 Axes>"
            ]
          },
          "metadata": {
            "needs_background": "light"
          },
          "output_type": "display_data"
        }
      ],
      "source": [
        "from sympy import sin, exp\n",
        "\n",
        "g = sin(x) / x\n",
        "\n",
        "plot(g, (x, -30, 30));"
      ]
    },
    {
      "cell_type": "code",
      "execution_count": null,
      "metadata": {
        "colab": {
          "base_uri": "https://localhost:8080/",
          "height": 37
        },
        "id": "lrTI2bYs5DB5",
        "outputId": "ac5ec485-d2a4-464b-d172-8a4cc3c57783"
      },
      "outputs": [
        {
          "data": {
            "image/png": "[encoded data removed]",
            "text/plain": [
              "1"
            ]
          },
          "execution_count": 14,
          "metadata": {},
          "output_type": "execute_result"
        }
      ],
      "source": [
        "limit(g, x, 0)"
      ]
    },
    {
      "cell_type": "code",
      "execution_count": null,
      "metadata": {
        "colab": {
          "base_uri": "https://localhost:8080/",
          "height": 37
        },
        "id": "u86drUSj5FN3",
        "outputId": "39fb1e08-b617-4a31-9cdb-ce6a331b954b"
      },
      "outputs": [
        {
          "data": {
            "image/png": "[encoded data removed]",
            "text/plain": [
              "0"
            ]
          },
          "execution_count": 15,
          "metadata": {},
          "output_type": "execute_result"
        }
      ],
      "source": [
        "limit(g, x, oo)"
      ]
    },
    {
      "cell_type": "code",
      "execution_count": null,
      "metadata": {
        "colab": {
          "base_uri": "https://localhost:8080/",
          "height": 297
        },
        "id": "KC7aKTCY5aBX",
        "outputId": "aa734b53-d7b0-4976-ade7-279e967fbdb8"
      },
      "outputs": [
        {
          "data": {
            "image/png": "[encoded data removed]",
            "text/plain": [
              "<Figure size 432x288 with 1 Axes>"
            ]
          },
          "metadata": {
            "needs_background": "light"
          },
          "output_type": "display_data"
        }
      ],
      "source": [
        "h = sin(x)**2 / x\n",
        "\n",
        "plot(h, (x, -30, 30));\n"
      ]
    },
    {
      "cell_type": "code",
      "execution_count": null,
      "metadata": {
        "colab": {
          "base_uri": "https://localhost:8080/",
          "height": 37
        },
        "id": "tXEJQj9e5hff",
        "outputId": "1d96d395-22ed-4f20-a6f9-431f9edb486c"
      },
      "outputs": [
        {
          "data": {
            "image/png": "[encoded data removed]",
            "text/plain": [
              "0"
            ]
          },
          "execution_count": 17,
          "metadata": {},
          "output_type": "execute_result"
        }
      ],
      "source": [
        "limit(h, x, 0)"
      ]
    },
    {
      "cell_type": "code",
      "execution_count": null,
      "metadata": {
        "colab": {
          "base_uri": "https://localhost:8080/",
          "height": 37
        },
        "id": "NCgb4_6-5lCf",
        "outputId": "7845776a-b0b4-4ad2-9d09-258aff4107cf"
      },
      "outputs": [
        {
          "data": {
            "image/png": "[encoded data removed]",
            "text/plain": [
              "0"
            ]
          },
          "execution_count": 18,
          "metadata": {},
          "output_type": "execute_result"
        }
      ],
      "source": [
        "limit(h, x, oo)"
      ]
    },
    {
      "cell_type": "markdown",
      "metadata": {
        "id": "UcBovJJOpccu"
      },
      "source": [
        "# Limites de uma sequência \n",
        "\n",
        "- Calcular o limite de uma sequência no infinito\n"
      ]
    },
    {
      "cell_type": "code",
      "execution_count": null,
      "metadata": {
        "colab": {
          "base_uri": "https://localhost:8080/",
          "height": 37
        },
        "id": "jqmPGH9Rpd0x",
        "outputId": "177c80a2-f613-486b-ee13-62f0c9f6a28e"
      },
      "outputs": [
        {
          "data": {
            "image/png": "[encoded data removed]",
            "text/plain": [
              "2⋅n + 2"
            ]
          },
          "execution_count": 20,
          "metadata": {},
          "output_type": "execute_result"
        }
      ],
      "source": [
        "from sympy import difference_delta as dd\n",
        "from sympy.abc import n\n",
        "dd(n*(n + 1), n)"
      ]
    },
    {
      "cell_type": "code",
      "execution_count": null,
      "metadata": {
        "colab": {
          "base_uri": "https://localhost:8080/",
          "height": 37
        },
        "id": "nAct4E91p5eI",
        "outputId": "3845820e-cf72-46b3-dd28-5c77af7b5b87"
      },
      "outputs": [
        {
          "data": {
            "image/png": "[encoded data removed]",
            "text/plain": [
              "4⋅n + 6"
            ]
          },
          "execution_count": 21,
          "metadata": {},
          "output_type": "execute_result"
        }
      ],
      "source": [
        "dd(n*(n + 1), n, 2)"
      ]
    },
    {
      "cell_type": "markdown",
      "metadata": {
        "id": "-ZvP6h6KsoAA"
      },
      "source": [
        " - Encontra o termo dominante em uma soma, ou seja, um termo que domina todos os outros termos.\n",
        "\n",
        "     - Se limit(a/b, n, oo) é oo então a domina b. Se limit(a/b, n, oo) for 0, então b domina a. Caso contrário, a e b são comparáveis;\n",
        "\n",
        "     - Se não houver um termo dominante único, nenhum retorna."
      ]
    },
    {
      "cell_type": "code",
      "execution_count": null,
      "metadata": {
        "colab": {
          "base_uri": "https://localhost:8080/",
          "height": 43
        },
        "id": "T56wS7DvtSnO",
        "outputId": "402fe858-956e-437f-9393-03de9a91d5c0"
      },
      "outputs": [
        {
          "data": {
            "image/png": "[encoded data removed]",
            "text/plain": [
              "   3\n",
              "5⋅n "
            ]
          },
          "execution_count": 26,
          "metadata": {},
          "output_type": "execute_result"
        }
      ],
      "source": [
        "from sympy import Sum\n",
        "from sympy.series.limitseq import dominant\n",
        "from sympy.abc import n, k\n",
        "dominant(5*n**3 + 4*n**2 + n + 1, n)"
      ]
    },
    {
      "cell_type": "code",
      "execution_count": null,
      "metadata": {
        "colab": {
          "base_uri": "https://localhost:8080/",
          "height": 39
        },
        "id": "7wphav2staBl",
        "outputId": "42b5d64b-4b86-45f8-bd84-a98b784b577f"
      },
      "outputs": [
        {
          "data": {
            "image/png": "[encoded data removed]",
            "text/plain": [
              " n\n",
              "2 "
            ]
          },
          "execution_count": 32,
          "metadata": {},
          "output_type": "execute_result"
        }
      ],
      "source": [
        "dominant(2**n + Sum(k, (k, 0, n)), n)"
      ]
    },
    {
      "cell_type": "markdown",
      "metadata": {
        "id": "xyD1v40cvKYr"
      },
      "source": [
        "- Encontra o limite de uma sequência quando o índice n tende ao infinito.\n",
        "\n",
        "   - O algoritmo é projetado para sequências construídas a partir de funções racionais, somas indefinidas e produtos indefinidos sobre um n indeterminado. Termos de sinal alternado também são permitidos, mas comportamento oscilatório mais complexo não é suportado."
      ]
    },
    {
      "cell_type": "code",
      "execution_count": null,
      "metadata": {
        "colab": {
          "base_uri": "https://localhost:8080/",
          "height": 38
        },
        "id": "l7czX5fzvJjK",
        "outputId": "fa0f2fa1-5ad1-495b-a37a-e5c1a1483108"
      },
      "outputs": [
        {
          "data": {
            "image/png": "[encoded data removed]",
            "text/plain": [
              "5/3"
            ]
          },
          "execution_count": 38,
          "metadata": {},
          "output_type": "execute_result"
        }
      ],
      "source": [
        "from sympy import limit_seq, Sum, binomial\n",
        "from sympy.abc import n, k, m\n",
        "limit_seq((5*n**3 + 3*n**2 + 4) / (3*n**3 + 4*n - 5), n)"
      ]
    },
    {
      "cell_type": "code",
      "execution_count": null,
      "metadata": {
        "colab": {
          "base_uri": "https://localhost:8080/",
          "height": 38
        },
        "id": "Zdp8ylygvjkH",
        "outputId": "48242dba-0e47-4a16-e06e-57d639f7aa3f"
      },
      "outputs": [
        {
          "data": {
            "image/png": "[encoded data removed]",
            "text/plain": [
              "3/4"
            ]
          },
          "execution_count": 39,
          "metadata": {},
          "output_type": "execute_result"
        }
      ],
      "source": [
        "limit_seq(binomial(2*n, n) / Sum(binomial(2*k, k), (k, 1, n)), n)"
      ]
    },
    {
      "cell_type": "code",
      "execution_count": null,
      "metadata": {
        "colab": {
          "base_uri": "https://localhost:8080/",
          "height": 37
        },
        "id": "mIdCZ-3_wCEF",
        "outputId": "35415b04-ca35-4b8c-8af8-2772117f2b1e"
      },
      "outputs": [
        {
          "data": {
            "image/png": "[encoded data removed]",
            "text/plain": [
              "4"
            ]
          },
          "execution_count": 40,
          "metadata": {},
          "output_type": "execute_result"
        }
      ],
      "source": [
        "limit_seq(Sum(k**2 * Sum(2**m/m, (m, 1, k)), (k, 1, n)) / (2**n*n), n)"
      ]
    },
    {
      "cell_type": "markdown",
      "metadata": {
        "id": "31cwn_tniu8Q"
      },
      "source": [
        "#Conclusão\n",
        "A biblioteca Sympy facilita o cálculo de limites aos alunos de FUV, além de possuir ferramentas para outras áreas do cálculo."
      ]
    },
    {
      "cell_type": "markdown",
      "metadata": {
        "id": "eJ_iUlzxDUKq"
      },
      "source": [
        "# Referências\n",
        "- https://docs.sympy.org/latest/index.html;\n",
        "- https://docs.sympy.org/latest/modules/series/limitseq.html#sympy.series.limitseq.dominant"
      ]
    }
  ],
  "metadata": {
    "colab": {
      "provenance": []
    },
    "kernelspec": {
      "display_name": "Python 3",
      "name": "python3"
    },
    "language_info": {
      "name": "python"
    }
  },
  "nbformat": 4,
  "nbformat_minor": 0
}

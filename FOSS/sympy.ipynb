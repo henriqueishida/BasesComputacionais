{
  "cells": [
    {
      "attachments": {},
      "cell_type": "markdown",
      "metadata": {
        "colab_type": "text",
        "id": "view-in-github"
      },
      "source": [
        "<a href=\"https://colab.research.google.com/github/BMClab/BasesComputacionais/blob/master/FOSS/sympy.ipynb\" target=\"_parent\"><img src=\"https://colab.research.google.com/assets/colab-badge.svg\" alt=\"Open In Colab\"/></a>"
      ]
    },
    {
      "cell_type": "markdown",
      "metadata": {
        "id": "4I8hS3nktc7T"
      },
      "source": [
        "**Vinicius Elias da Silva           \n",
        "RA:11202230234**    "
      ]
    },
    {
      "cell_type": "markdown",
      "metadata": {
        "id": "AcvagcoetdFZ"
      },
      "source": [
        " #  **conteúdo**\n",
        "\n",
        "  **Introdução**\n",
        "\n",
        "*   **1. Introdução**\n",
        "*   **2. Biblioteca Sympy**\n",
        " +  **2.1 Apresentação da Biblioteca**\n",
        " +  **2.2 Exemplos de utilização**\n",
        "\n",
        "*   **3. Limite**\n",
        " +  **3.1 Achando limites**\n",
        " +  **3.2 Limites laterais**\n",
        "\n",
        "*   **4. Derivada**\n",
        " +  **4.1 Resultados da derivada**\n",
        " +  **4.2 Derivadas Mais complexas**\n",
        " +  **4.3 Usando forma literal para representar a derivada**\n",
        "\n",
        "\n",
        "*   **5. Integrais**\n",
        " +  **5.2 Resolvendo Integrais indefinidas**\n",
        " +  **5.2 Resolvendo Integrais definidas**\n",
        " +  **5.1 Usando a forma literal para representar a Integral**\n",
        "\n",
        "\n",
        "\n",
        " \n",
        "\n",
        "\n",
        "\n",
        "\n",
        "\n",
        "\n",
        "\n",
        "\n",
        "\n",
        "\n",
        "\n",
        "\n",
        "\n",
        "\n"
      ]
    },
    {
      "cell_type": "markdown",
      "metadata": {
        "id": "KCo299nhw1Za"
      },
      "source": [
        "# Introdução\n",
        "\n",
        "  O objetivo desse Trabalho é auxiliar alunos que estão cursando ou já cursaram a disciplina **Funções de uma Variável (FUV)** a utilizarem o Python como ferramenta para complementar seus estudos.\n",
        "\n",
        "  A principal ferramenta do python que será utilizada será a biblioteca Sympy.  \n",
        "\n",
        "\n",
        "\n"
      ]
    },
    {
      "cell_type": "markdown",
      "metadata": {
        "id": "T4xCAUtY3-Vd"
      },
      "source": [
        "# Biblioteca Sympy\n",
        "\n",
        "  Nesse trabalho a biblioteca Sympy foi a escolhida para o estudo da matéria **FUV**, pois ela apesar de ter um processamento de dados mais lento do que outras bibliotecas, tem funções boas para o estudo de calculo.\n",
        "\n",
        "  A biblioteca Sympy diferente de muitas bibliotecas é um modúlo simbolico, ou seja, ela tem funções que mostram os \"resultados\" de uma forma algébrica.   "
      ]
    },
    {
      "cell_type": "markdown",
      "metadata": {
        "id": "iAH3uwh36UA-"
      },
      "source": [
        "Exemplo do Python sem o Sympy "
      ]
    },
    {
      "cell_type": "code",
      "execution_count": null,
      "metadata": {
        "id": "359wHwYy7Un0"
      },
      "outputs": [],
      "source": [
        "x**2 + 2"
      ]
    },
    {
      "cell_type": "markdown",
      "metadata": {
        "id": "43VJAmRl7bdI"
      },
      "source": [
        "A equação acima não foi mostrada porque a variável \"X\" para o programa precisa receber algum valor para ter alguma função.  "
      ]
    },
    {
      "cell_type": "markdown",
      "metadata": {
        "id": "-8KpVouG8CHn"
      },
      "source": [
        "Utilizando a biblibioteca Sympy conseguimos mostrar a equação, Por exemplo."
      ]
    },
    {
      "cell_type": "code",
      "execution_count": 2,
      "metadata": {
        "colab": {
          "base_uri": "https://localhost:8080/",
          "height": 38
        },
        "id": "eZUEv8e28WA9",
        "outputId": "a573a0b0-600a-4035-94bc-f2468019b802"
      },
      "outputs": [
        {
          "data": {
            "text/latex": [
              "$\\displaystyle x^{2} + 2$"
            ],
            "text/plain": [
              "x**2 + 2"
            ]
          },
          "execution_count": 2,
          "metadata": {},
          "output_type": "execute_result"
        }
      ],
      "source": [
        "import sympy as sp #Importando Biblioteca Sympy.\n",
        "\n",
        "x = sp.Symbol('x') #Transformando o X em uma variavel matemática (Simbolica).\n",
        "\n",
        "expre1 = x**2 + 2\n",
        "expre1\n"
      ]
    },
    {
      "cell_type": "markdown",
      "metadata": {
        "id": "vYPiYIMPBfwq"
      },
      "source": [
        "Também podemos utilizar com o Sympy expressões matemáticas, Por exemplo.\n",
        "\n",
        "\n",
        "\n"
      ]
    },
    {
      "cell_type": "code",
      "execution_count": 3,
      "metadata": {
        "colab": {
          "base_uri": "https://localhost:8080/",
          "height": 38
        },
        "id": "2R-vVm_WByvk",
        "outputId": "cc737958-828e-4220-f6d3-67bb70d4c0ce"
      },
      "outputs": [
        {
          "data": {
            "text/latex": [
              "$\\displaystyle \\pi$"
            ],
            "text/plain": [
              "pi"
            ]
          },
          "execution_count": 3,
          "metadata": {},
          "output_type": "execute_result"
        }
      ],
      "source": [
        "n = sp.pi #Utilizando o valor de PI do Sympy\n",
        "n"
      ]
    },
    {
      "cell_type": "code",
      "execution_count": 4,
      "metadata": {
        "colab": {
          "base_uri": "https://localhost:8080/",
          "height": 39
        },
        "id": "6RRRvfT7CXae",
        "outputId": "5d9afd10-1a7f-46b8-fb2e-d1cf4a513751"
      },
      "outputs": [
        {
          "data": {
            "text/latex": [
              "$\\displaystyle \\sqrt{2}$"
            ],
            "text/plain": [
              "sqrt(2)"
            ]
          },
          "execution_count": 4,
          "metadata": {},
          "output_type": "execute_result"
        }
      ],
      "source": [
        "sp.sqrt(2) #Utilizando a raiz do Sympy "
      ]
    },
    {
      "cell_type": "code",
      "execution_count": 5,
      "metadata": {
        "colab": {
          "base_uri": "https://localhost:8080/",
          "height": 37
        },
        "id": "MqhkT8KlDCnQ",
        "outputId": "ecaf026e-c565-4c43-ef25-b51bf051afd2"
      },
      "outputs": [
        {
          "data": {
            "text/latex": [
              "$\\displaystyle \\infty$"
            ],
            "text/plain": [
              "oo"
            ]
          },
          "execution_count": 5,
          "metadata": {},
          "output_type": "execute_result"
        }
      ],
      "source": [
        "sp.oo # Utilizando o simbolo de infinito"
      ]
    },
    {
      "cell_type": "markdown",
      "metadata": {
        "id": "ZLzGsV6lDLvD"
      },
      "source": [
        "#  **Limite**\n",
        "\n",
        " Limites são uma importante ferramenta utilizado na disciplina de **FUV**\n",
        "\n",
        "  **Definição basica de limite**\n",
        "\n",
        "  A função f aproxima-se de um limite l próximo a a se pudermos fazer f(x) tão próximo quanto desejado de l tomando x suficientemente próximo de, mas não igual a, a."
      ]
    },
    {
      "cell_type": "markdown",
      "metadata": {
        "id": "WYrqBeuNTtaD"
      },
      "source": [
        "##  Achando limites\n",
        " \n",
        "  O Python junto a biblioteca sympy pode auxiliar a achar o resultado desses tipos de problemas.\n",
        "\n",
        "\n",
        "o código usado para o limite é :\n",
        "```\n",
        "# sp.limit(equação, x , a)\n",
        "```\n",
        "\n"
      ]
    },
    {
      "cell_type": "markdown",
      "metadata": {
        "id": "JdlF9YpmQg_l"
      },
      "source": [
        "**Primeiro exemplo** o limite da equação (1 + 1/x)**2 com x tendendo ao infinito que resulta no número de Euler. "
      ]
    },
    {
      "cell_type": "code",
      "execution_count": 6,
      "metadata": {
        "colab": {
          "base_uri": "https://localhost:8080/",
          "height": 59
        },
        "id": "Zz3ha-wRUUCK",
        "outputId": "e610d709-2b7f-425b-d451-162c13878b40"
      },
      "outputs": [
        {
          "data": {
            "text/latex": [
              "$\\displaystyle \\left(1 + \\frac{1}{x}\\right)^{x}$"
            ],
            "text/plain": [
              "(1 + 1/x)**x"
            ]
          },
          "execution_count": 6,
          "metadata": {},
          "output_type": "execute_result"
        }
      ],
      "source": [
        "import sympy as sp #Importando Biblioteca Sympy.\n",
        "\n",
        "x = sp.Symbol('x') #Transformando o X em uma variavel matemática (Simbolica).\n",
        "\n",
        "expre2 = (1 + 1 / x)**x\n",
        "expre2"
      ]
    },
    {
      "cell_type": "code",
      "execution_count": 7,
      "metadata": {
        "colab": {
          "base_uri": "https://localhost:8080/",
          "height": 38
        },
        "id": "FiQcpXi3QtgR",
        "outputId": "4e03a24e-3b0c-4a8d-9bb7-8f6d99389e9c"
      },
      "outputs": [
        {
          "data": {
            "text/latex": [
              "$\\displaystyle e$"
            ],
            "text/plain": [
              "E"
            ]
          },
          "execution_count": 7,
          "metadata": {},
          "output_type": "execute_result"
        }
      ],
      "source": [
        "sp.limit( expre2, x, sp.oo)"
      ]
    },
    {
      "cell_type": "markdown",
      "metadata": {
        "id": "nx7KvpybRH_5"
      },
      "source": [
        "**Segundo exemplo** o limite de uma equação f(x)= sen(x)/x  com x tendendo ao infinito"
      ]
    },
    {
      "cell_type": "code",
      "execution_count": 8,
      "metadata": {
        "colab": {
          "base_uri": "https://localhost:8080/",
          "height": 53
        },
        "id": "9s05FMegUpuB",
        "outputId": "571467d8-7550-49c4-bdf5-ca21fc4e54e6"
      },
      "outputs": [
        {
          "data": {
            "text/latex": [
              "$\\displaystyle \\frac{\\sin{\\left(x \\right)}}{x}$"
            ],
            "text/plain": [
              "sin(x)/x"
            ]
          },
          "execution_count": 8,
          "metadata": {},
          "output_type": "execute_result"
        }
      ],
      "source": [
        "import sympy as sp #Importando Biblioteca Sympy.\n",
        "\n",
        "x = sp.Symbol('x') #Transformando o X em uma variavel matemática (Simbolica).\n",
        "\n",
        "expre3 = sp.sin(x)/ x\n",
        "expre3"
      ]
    },
    {
      "cell_type": "code",
      "execution_count": 9,
      "metadata": {
        "colab": {
          "base_uri": "https://localhost:8080/",
          "height": 37
        },
        "id": "jtJlUZ7YRf4T",
        "outputId": "d6be807e-8fcf-488a-d7c3-3372b4087156"
      },
      "outputs": [
        {
          "data": {
            "text/latex": [
              "$\\displaystyle 0$"
            ],
            "text/plain": [
              "0"
            ]
          },
          "execution_count": 9,
          "metadata": {},
          "output_type": "execute_result"
        }
      ],
      "source": [
        "sp.limit( expre3, x, sp.oo)\n"
      ]
    },
    {
      "cell_type": "markdown",
      "metadata": {
        "id": "BRNrZzZjaMDA"
      },
      "source": [
        "**Terceiro exemplo** o limite de uma equação f(x)= (x**2 + 1)/x com x tendendo ao infinito"
      ]
    },
    {
      "cell_type": "code",
      "execution_count": 10,
      "metadata": {
        "colab": {
          "base_uri": "https://localhost:8080/",
          "height": 54
        },
        "id": "O9AGEG3CaYtn",
        "outputId": "8fbc6402-2a11-4719-8f2f-cd8a1eadb41b"
      },
      "outputs": [
        {
          "data": {
            "text/latex": [
              "$\\displaystyle \\frac{x^{2} + 1}{x}$"
            ],
            "text/plain": [
              "(x**2 + 1)/x"
            ]
          },
          "execution_count": 10,
          "metadata": {},
          "output_type": "execute_result"
        }
      ],
      "source": [
        "import sympy as sp #Importando Biblioteca Sympy.\n",
        "\n",
        "x = sp.Symbol('x') #Transformando o X em uma variavel matemática (Simbolica).\n",
        "\n",
        "expre4 =  (x**2 + 1)/x\n",
        "expre4"
      ]
    },
    {
      "cell_type": "code",
      "execution_count": 11,
      "metadata": {
        "colab": {
          "base_uri": "https://localhost:8080/",
          "height": 37
        },
        "id": "wlmsM_DsaYyT",
        "outputId": "d642ff43-2772-4e4a-9057-17d12bbdeb1e"
      },
      "outputs": [
        {
          "data": {
            "text/latex": [
              "$\\displaystyle \\infty$"
            ],
            "text/plain": [
              "oo"
            ]
          },
          "execution_count": 11,
          "metadata": {},
          "output_type": "execute_result"
        }
      ],
      "source": [
        "sp.limit( expre4, x, sp.oo)"
      ]
    },
    {
      "cell_type": "markdown",
      "metadata": {
        "id": "ct7jC4FIYZQ6"
      },
      "source": [
        "##Limites Laterais\n",
        " \n",
        " Ocorre quando por exemplo os valores de x se aproximam de alguma assintota vertical os valores de y podem ir de um lado a mais finito de de outro ir para o menos infinito "
      ]
    },
    {
      "cell_type": "markdown",
      "metadata": {
        "id": "RgzLZz9gSGZm"
      },
      "source": [
        "**Primeiro exemplo*** o limite de f(x)= 1/x com x tendendo a zero pela direita\n",
        "\n",
        "para mostrar que o valor de x está tendendo pela direita usamos: \n",
        "```\n",
        "# dir= '+'\n",
        "```\n",
        "\n"
      ]
    },
    {
      "cell_type": "code",
      "execution_count": 12,
      "metadata": {
        "colab": {
          "base_uri": "https://localhost:8080/",
          "height": 51
        },
        "id": "wFVPuQ0bVYbx",
        "outputId": "a33c520c-86c2-442b-88ca-559bdc1f5fd1"
      },
      "outputs": [
        {
          "data": {
            "text/latex": [
              "$\\displaystyle \\frac{1}{x}$"
            ],
            "text/plain": [
              "1/x"
            ]
          },
          "execution_count": 12,
          "metadata": {},
          "output_type": "execute_result"
        }
      ],
      "source": [
        "import sympy as sp \n",
        "\n",
        "x = sp.Symbol('x') \n",
        "\n",
        "expre5 = 1/ x\n",
        "expre5"
      ]
    },
    {
      "cell_type": "code",
      "execution_count": 13,
      "metadata": {
        "colab": {
          "base_uri": "https://localhost:8080/",
          "height": 37
        },
        "id": "HIGTsZHPXcKO",
        "outputId": "8e118ed5-65fd-4a79-eb07-1eab5061bcca"
      },
      "outputs": [
        {
          "data": {
            "text/latex": [
              "$\\displaystyle \\infty$"
            ],
            "text/plain": [
              "oo"
            ]
          },
          "execution_count": 13,
          "metadata": {},
          "output_type": "execute_result"
        }
      ],
      "source": [
        "sp.limit(expre4, x, 0, dir='+')"
      ]
    },
    {
      "cell_type": "markdown",
      "metadata": {
        "id": "fvNEFqrAT7Zi"
      },
      "source": [
        "**Segundo exemplo** o limite de f(x)= 1/x com x tendendo a zero pela esquerda\n",
        "\n",
        "para mostrar que o valor de x está tendendo pela esquerda usamos: \n",
        "```\n",
        "# dir= '-'\n",
        "```"
      ]
    },
    {
      "cell_type": "code",
      "execution_count": 14,
      "metadata": {
        "colab": {
          "base_uri": "https://localhost:8080/",
          "height": 51
        },
        "id": "QVl7hBjCZzZf",
        "outputId": "e5c9c9ec-65f8-4ab4-dba5-de1160d639e0"
      },
      "outputs": [
        {
          "data": {
            "text/latex": [
              "$\\displaystyle \\frac{1}{x}$"
            ],
            "text/plain": [
              "1/x"
            ]
          },
          "execution_count": 14,
          "metadata": {},
          "output_type": "execute_result"
        }
      ],
      "source": [
        "import sympy as sp \n",
        "\n",
        "x = sp.Symbol('x') \n",
        "\n",
        "expre5 = 1/ x\n",
        "expre5"
      ]
    },
    {
      "cell_type": "code",
      "execution_count": 15,
      "metadata": {
        "colab": {
          "base_uri": "https://localhost:8080/",
          "height": 37
        },
        "id": "Qf609Xn7Z0zt",
        "outputId": "0cc28d7f-1206-4da7-c905-37a35d3b82a9"
      },
      "outputs": [
        {
          "data": {
            "text/latex": [
              "$\\displaystyle -\\infty$"
            ],
            "text/plain": [
              "-oo"
            ]
          },
          "execution_count": 15,
          "metadata": {},
          "output_type": "execute_result"
        }
      ],
      "source": [
        "sp.limit(expre5, x, 0, dir='-')"
      ]
    },
    {
      "cell_type": "markdown",
      "metadata": {
        "id": "gwo8vWgzcL83"
      },
      "source": [
        "# **Derivadas**\n",
        "\n",
        "Derivadas são outra importante ferramenta utilizado na disciplina de **FUV**\n",
        "\n",
        "O Sympy lida com todos os tipos de derivada das mais simples até as mais complexas que exigem regras como a regra do produto, regra divisão de cadeias, regra do conciente, dentre outras.\n"
      ]
    },
    {
      "cell_type": "markdown",
      "metadata": {
        "id": "-gupY2KAe78s"
      },
      "source": [
        "## Resultado de derivadas\n",
        "\n",
        "para calcular a derivada usamos:\n",
        "\n",
        "\n",
        "```\n",
        "# sp.diff(equação, variavel, ordem da derivada)\n",
        "```"
      ]
    },
    {
      "cell_type": "markdown",
      "metadata": {
        "id": "Tk-4BRZrf8L7"
      },
      "source": [
        "**Exemplo um de derivada de primeira ordem** da equação 5x^2+3x+4"
      ]
    },
    {
      "cell_type": "code",
      "execution_count": 16,
      "metadata": {
        "colab": {
          "base_uri": "https://localhost:8080/",
          "height": 38
        },
        "id": "2kPAz9GVgOs9",
        "outputId": "b79125ad-1444-4057-e369-b7d9f6aed077"
      },
      "outputs": [
        {
          "data": {
            "text/latex": [
              "$\\displaystyle 5 x^{3} + 3 x + 4$"
            ],
            "text/plain": [
              "5*x**3 + 3*x + 4"
            ]
          },
          "execution_count": 16,
          "metadata": {},
          "output_type": "execute_result"
        }
      ],
      "source": [
        "import sympy as sp \n",
        "\n",
        "x = sp.Symbol('x') \n",
        "\n",
        "expre6 = 5*x**3 + 3*x + 4\n",
        "expre6"
      ]
    },
    {
      "cell_type": "code",
      "execution_count": 17,
      "metadata": {
        "colab": {
          "base_uri": "https://localhost:8080/",
          "height": 38
        },
        "id": "w2dQAEVJgesg",
        "outputId": "42c82987-335a-4ec2-ad2e-fc1361b72c82"
      },
      "outputs": [
        {
          "data": {
            "text/latex": [
              "$\\displaystyle 15 x^{2} + 3$"
            ],
            "text/plain": [
              "15*x**2 + 3"
            ]
          },
          "execution_count": 17,
          "metadata": {},
          "output_type": "execute_result"
        }
      ],
      "source": [
        "sp.diff(expre6, x, 1)"
      ]
    },
    {
      "cell_type": "markdown",
      "metadata": {
        "id": "plaEHkuwhGYH"
      },
      "source": [
        "**Exemplo dois de derivada de primeira ordem** da equação 3x^4+3x^2+4"
      ]
    },
    {
      "cell_type": "code",
      "execution_count": 18,
      "metadata": {
        "colab": {
          "base_uri": "https://localhost:8080/",
          "height": 38
        },
        "id": "VpTyd7adhGAL",
        "outputId": "5b501e88-3ba3-442f-c6f8-5e121668433e"
      },
      "outputs": [
        {
          "data": {
            "text/latex": [
              "$\\displaystyle 3 x^{4} + 3 x^{2} + 4$"
            ],
            "text/plain": [
              "3*x**4 + 3*x**2 + 4"
            ]
          },
          "execution_count": 18,
          "metadata": {},
          "output_type": "execute_result"
        }
      ],
      "source": [
        "import sympy as sp \n",
        "\n",
        "x = sp.Symbol('x') \n",
        "\n",
        "expre7 = 3*x**4 + 3*x**2 + 4\n",
        "expre7"
      ]
    },
    {
      "cell_type": "code",
      "execution_count": 19,
      "metadata": {
        "colab": {
          "base_uri": "https://localhost:8080/",
          "height": 38
        },
        "id": "vhDinVznhHRX",
        "outputId": "8e40d5ca-217a-46ed-88e5-ff7acb3bf976"
      },
      "outputs": [
        {
          "data": {
            "text/latex": [
              "$\\displaystyle 12 x^{3} + 6 x$"
            ],
            "text/plain": [
              "12*x**3 + 6*x"
            ]
          },
          "execution_count": 19,
          "metadata": {},
          "output_type": "execute_result"
        }
      ],
      "source": [
        "sp.diff(expre7, x, 1)"
      ]
    },
    {
      "cell_type": "markdown",
      "metadata": {
        "id": "XM1m_2mPh68u"
      },
      "source": [
        "**Exemplo um de derivada de segunda ordem** da equação 5x^2+3x+4"
      ]
    },
    {
      "cell_type": "code",
      "execution_count": 20,
      "metadata": {
        "colab": {
          "base_uri": "https://localhost:8080/",
          "height": 38
        },
        "id": "MhnthqARiBNy",
        "outputId": "8feb70d6-8751-470e-f9d5-ed3e33539587"
      },
      "outputs": [
        {
          "data": {
            "text/latex": [
              "$\\displaystyle 30 x$"
            ],
            "text/plain": [
              "30*x"
            ]
          },
          "execution_count": 20,
          "metadata": {},
          "output_type": "execute_result"
        }
      ],
      "source": [
        "sp.diff(expre6, x, 2)"
      ]
    },
    {
      "cell_type": "markdown",
      "metadata": {
        "id": "sTer_TeWiXxV"
      },
      "source": [
        "**Exemplo dois de derivada de segunda ordem** da equação 3x^4+3x^2+4"
      ]
    },
    {
      "cell_type": "code",
      "execution_count": 21,
      "metadata": {
        "colab": {
          "base_uri": "https://localhost:8080/",
          "height": 38
        },
        "id": "THL_qb_Ki4-v",
        "outputId": "1999d0cc-6452-434c-8716-78b5f6299ab2"
      },
      "outputs": [
        {
          "data": {
            "text/latex": [
              "$\\displaystyle 6 \\left(6 x^{2} + 1\\right)$"
            ],
            "text/plain": [
              "6*(6*x**2 + 1)"
            ]
          },
          "execution_count": 21,
          "metadata": {},
          "output_type": "execute_result"
        }
      ],
      "source": [
        "sp.diff(expre7, x, 2)"
      ]
    },
    {
      "cell_type": "markdown",
      "metadata": {
        "id": "_O80l00xjNrY"
      },
      "source": [
        "**Exemplo um de derivada de terceira ordem** da equação 5x^2+3x+4"
      ]
    },
    {
      "cell_type": "code",
      "execution_count": 22,
      "metadata": {
        "colab": {
          "base_uri": "https://localhost:8080/",
          "height": 37
        },
        "id": "pRBlvaDyjTX9",
        "outputId": "2b92f4f4-7abe-4962-ca24-d67d42b8965a"
      },
      "outputs": [
        {
          "data": {
            "text/latex": [
              "$\\displaystyle 30$"
            ],
            "text/plain": [
              "30"
            ]
          },
          "execution_count": 22,
          "metadata": {},
          "output_type": "execute_result"
        }
      ],
      "source": [
        "sp.diff(expre6, x, 3)"
      ]
    },
    {
      "cell_type": "markdown",
      "metadata": {
        "id": "tVV2TBtTjeHH"
      },
      "source": [
        "**Exemplo dois de derivada de terceira ordem** da equação 3x^4+3x^2+4"
      ]
    },
    {
      "cell_type": "code",
      "execution_count": 23,
      "metadata": {
        "colab": {
          "base_uri": "https://localhost:8080/",
          "height": 38
        },
        "id": "0pmYBz3EjeSs",
        "outputId": "a13ef844-6dee-4964-8510-43be079608e3"
      },
      "outputs": [
        {
          "data": {
            "text/latex": [
              "$\\displaystyle 72 x$"
            ],
            "text/plain": [
              "72*x"
            ]
          },
          "execution_count": 23,
          "metadata": {},
          "output_type": "execute_result"
        }
      ],
      "source": [
        "sp.diff(expre7, x, 3)"
      ]
    },
    {
      "cell_type": "markdown",
      "metadata": {
        "id": "vrup7pU0kuN3"
      },
      "source": [
        "###  Derivadas Mais complexas\n"
      ]
    },
    {
      "cell_type": "markdown",
      "metadata": {
        "id": "xlHI9Tyammq6"
      },
      "source": [
        "**Exemplo um** da equação x^2 + sin(x)"
      ]
    },
    {
      "cell_type": "code",
      "execution_count": 24,
      "metadata": {
        "colab": {
          "base_uri": "https://localhost:8080/",
          "height": 38
        },
        "id": "ENwA9YsIlJ6m",
        "outputId": "51b52018-ced5-4648-d938-28e8a540ea97"
      },
      "outputs": [
        {
          "data": {
            "text/latex": [
              "$\\displaystyle x^{2} \\sin{\\left(x \\right)}$"
            ],
            "text/plain": [
              "x**2*sin(x)"
            ]
          },
          "execution_count": 24,
          "metadata": {},
          "output_type": "execute_result"
        }
      ],
      "source": [
        "import sympy as sp \n",
        "\n",
        "x = sp.Symbol('x') \n",
        "\n",
        "expre8 = x**2 * sp.sin(x)\n",
        "expre8"
      ]
    },
    {
      "cell_type": "code",
      "execution_count": 25,
      "metadata": {
        "colab": {
          "base_uri": "https://localhost:8080/",
          "height": 38
        },
        "id": "Uz6MYOwGlk4v",
        "outputId": "1aaef4f2-a44d-4682-ab90-52b2255eb509"
      },
      "outputs": [
        {
          "data": {
            "text/latex": [
              "$\\displaystyle x^{2} \\cos{\\left(x \\right)} + 2 x \\sin{\\left(x \\right)}$"
            ],
            "text/plain": [
              "x**2*cos(x) + 2*x*sin(x)"
            ]
          },
          "execution_count": 25,
          "metadata": {},
          "output_type": "execute_result"
        }
      ],
      "source": [
        "sp.diff(expre8, x, 1)"
      ]
    },
    {
      "cell_type": "markdown",
      "metadata": {
        "id": "bw9_94pMmtLj"
      },
      "source": [
        "**Exemplo dois** da equação x^2 / cos(x)"
      ]
    },
    {
      "cell_type": "code",
      "execution_count": 26,
      "metadata": {
        "colab": {
          "base_uri": "https://localhost:8080/",
          "height": 58
        },
        "id": "TxcoB5E5mkvS",
        "outputId": "3bced3e9-6536-4820-8855-18969a458b8e"
      },
      "outputs": [
        {
          "data": {
            "text/latex": [
              "$\\displaystyle \\frac{x^{2}}{\\cos{\\left(x \\right)}}$"
            ],
            "text/plain": [
              "x**2/cos(x)"
            ]
          },
          "execution_count": 26,
          "metadata": {},
          "output_type": "execute_result"
        }
      ],
      "source": [
        "import sympy as sp \n",
        "\n",
        "x = sp.Symbol('x') \n",
        "\n",
        "expre9 = x**2 / sp.cos(x)\n",
        "expre9"
      ]
    },
    {
      "cell_type": "code",
      "execution_count": 27,
      "metadata": {
        "colab": {
          "base_uri": "https://localhost:8080/",
          "height": 58
        },
        "id": "gVva2Iw4nNgH",
        "outputId": "289911d4-406a-4931-f325-f0b5303ba4bd"
      },
      "outputs": [
        {
          "data": {
            "text/latex": [
              "$\\displaystyle \\frac{x^{2} \\sin{\\left(x \\right)}}{\\cos^{2}{\\left(x \\right)}} + \\frac{2 x}{\\cos{\\left(x \\right)}}$"
            ],
            "text/plain": [
              "x**2*sin(x)/cos(x)**2 + 2*x/cos(x)"
            ]
          },
          "execution_count": 27,
          "metadata": {},
          "output_type": "execute_result"
        }
      ],
      "source": [
        "sp.diff(expre9, x, 1)"
      ]
    },
    {
      "cell_type": "markdown",
      "metadata": {
        "id": "JsGUv-r1oQiy"
      },
      "source": [
        "## **Usando forma literal para representar a derivada**\n",
        "\n",
        "\n",
        "Notação\n",
        "```\n",
        "# sp.Derivative(equação, variavel)\n",
        "```\n",
        "Resultados\n",
        "\n",
        "\n",
        "```\n",
        "# expre10.doit\n",
        "```\n",
        "\n",
        "\n",
        "\n"
      ]
    },
    {
      "cell_type": "markdown",
      "metadata": {
        "id": "jAwGLv1ip5i9"
      },
      "source": [
        "**Notação** da equação 5x^2 - x"
      ]
    },
    {
      "cell_type": "code",
      "execution_count": 28,
      "metadata": {
        "colab": {
          "base_uri": "https://localhost:8080/",
          "height": 52
        },
        "id": "YlPmKHygpaeJ",
        "outputId": "a987b046-7f27-4a6f-a464-2e28db855297"
      },
      "outputs": [
        {
          "data": {
            "text/latex": [
              "$\\displaystyle \\frac{d}{d x} \\left(5 x^{2} - x\\right)$"
            ],
            "text/plain": [
              "Derivative(5*x**2 - x, x)"
            ]
          },
          "execution_count": 28,
          "metadata": {},
          "output_type": "execute_result"
        }
      ],
      "source": [
        "expre10 = sp.Derivative(5*x**2 - x, x)\n",
        "expre10"
      ]
    },
    {
      "cell_type": "markdown",
      "metadata": {
        "id": "wcZsWyqUp_pu"
      },
      "source": [
        "**Resultado** da equação 5x^2 - x"
      ]
    },
    {
      "cell_type": "code",
      "execution_count": 29,
      "metadata": {
        "colab": {
          "base_uri": "https://localhost:8080/",
          "height": 38
        },
        "id": "yukQg2pwqBRk",
        "outputId": "899fa2fa-2850-4216-9205-cc5b1ffb2432"
      },
      "outputs": [
        {
          "data": {
            "text/latex": [
              "$\\displaystyle 10 x - 1$"
            ],
            "text/plain": [
              "10*x - 1"
            ]
          },
          "execution_count": 29,
          "metadata": {},
          "output_type": "execute_result"
        }
      ],
      "source": [
        "expre10.doit()"
      ]
    },
    {
      "cell_type": "markdown",
      "metadata": {
        "id": "HPUGcHuxncQV"
      },
      "source": [
        "#  **Integrais**\n",
        "\n",
        "Integrais são outra importante ferramenta utilizado na disciplina de **FUV**\n",
        "\n",
        "O Sympy é capaz de lidar com integrais definidas e indefinidas "
      ]
    },
    {
      "cell_type": "markdown",
      "metadata": {
        "id": "hURYbTbZzmgs"
      },
      "source": [
        "##  Resolvendo Integrais indefinidas\n",
        "\n",
        "para resolver integrais indefinidas utilizamos\n",
        "\n",
        "\n",
        "```\n",
        "# sp.integrate(equação)\n",
        "```\n",
        "\n"
      ]
    },
    {
      "cell_type": "markdown",
      "metadata": {
        "id": "IBDI56mh0Q9i"
      },
      "source": [
        "**Exemplo um de Integral indefinida** da equação x^2 +sin(x)"
      ]
    },
    {
      "cell_type": "code",
      "execution_count": 30,
      "metadata": {
        "colab": {
          "base_uri": "https://localhost:8080/",
          "height": 38
        },
        "id": "sbXJwaVj0f0S",
        "outputId": "e26d5035-45a6-473e-a072-9cff9fc4a78a"
      },
      "outputs": [
        {
          "data": {
            "text/latex": [
              "$\\displaystyle x^{2} + \\sin{\\left(x \\right)}$"
            ],
            "text/plain": [
              "x**2 + sin(x)"
            ]
          },
          "execution_count": 30,
          "metadata": {},
          "output_type": "execute_result"
        }
      ],
      "source": [
        "import sympy as sp \n",
        "\n",
        "x = sp.Symbol('x') \n",
        "\n",
        "expre11 = x**2 + sp.sin(x)\n",
        "expre11"
      ]
    },
    {
      "cell_type": "code",
      "execution_count": 31,
      "metadata": {
        "colab": {
          "base_uri": "https://localhost:8080/",
          "height": 54
        },
        "id": "z5FY4g-51I8_",
        "outputId": "0fbd743f-8282-4389-a654-7f2923d61e07"
      },
      "outputs": [
        {
          "data": {
            "text/latex": [
              "$\\displaystyle \\frac{x^{3}}{3} - \\cos{\\left(x \\right)}$"
            ],
            "text/plain": [
              "x**3/3 - cos(x)"
            ]
          },
          "execution_count": 31,
          "metadata": {},
          "output_type": "execute_result"
        }
      ],
      "source": [
        "sp.integrate(expre11)"
      ]
    },
    {
      "cell_type": "markdown",
      "metadata": {
        "id": "XYar8tvB1kYK"
      },
      "source": [
        "**Exemplo dois de Integral indefinida** da equação 5/(x^2+5) "
      ]
    },
    {
      "cell_type": "code",
      "execution_count": 32,
      "metadata": {
        "colab": {
          "base_uri": "https://localhost:8080/",
          "height": 52
        },
        "id": "6j3tYmBC1k8t",
        "outputId": "b4b6cab0-1a80-4811-9c9f-d90460088eba"
      },
      "outputs": [
        {
          "data": {
            "text/latex": [
              "$\\displaystyle \\frac{5}{x^{2} + 5}$"
            ],
            "text/plain": [
              "5/(x**2 + 5)"
            ]
          },
          "execution_count": 32,
          "metadata": {},
          "output_type": "execute_result"
        }
      ],
      "source": [
        "import sympy as sp \n",
        "\n",
        "x = sp.Symbol('x') \n",
        "\n",
        "expre12 = 5/(x**2 + 5)\n",
        "expre12"
      ]
    },
    {
      "cell_type": "code",
      "execution_count": 33,
      "metadata": {
        "colab": {
          "base_uri": "https://localhost:8080/",
          "height": 68
        },
        "id": "LH1Nz4ov1lBo",
        "outputId": "f28a592d-7764-418b-8045-f59a29a52ece"
      },
      "outputs": [
        {
          "data": {
            "text/latex": [
              "$\\displaystyle \\sqrt{5} \\operatorname{atan}{\\left(\\frac{\\sqrt{5} x}{5} \\right)}$"
            ],
            "text/plain": [
              "sqrt(5)*atan(sqrt(5)*x/5)"
            ]
          },
          "execution_count": 33,
          "metadata": {},
          "output_type": "execute_result"
        }
      ],
      "source": [
        "sp.integrate(expre12)"
      ]
    },
    {
      "cell_type": "markdown",
      "metadata": {
        "id": "CZz3Yhhk1lWR"
      },
      "source": [
        "**Exemplo três de Integral indefinida** da equação 5x^4 - 1"
      ]
    },
    {
      "cell_type": "code",
      "execution_count": 34,
      "metadata": {
        "colab": {
          "base_uri": "https://localhost:8080/",
          "height": 38
        },
        "id": "lWca7GIR1lkp",
        "outputId": "39bd8b0e-6a42-4a74-8183-c4a918fb33ed"
      },
      "outputs": [
        {
          "data": {
            "text/latex": [
              "$\\displaystyle 5 x^{4} - 1$"
            ],
            "text/plain": [
              "5*x**4 - 1"
            ]
          },
          "execution_count": 34,
          "metadata": {},
          "output_type": "execute_result"
        }
      ],
      "source": [
        "import sympy as sp \n",
        "\n",
        "x = sp.Symbol('x') \n",
        "\n",
        "expre13 = 5*x**4 - 1\n",
        "expre13"
      ]
    },
    {
      "cell_type": "code",
      "execution_count": 35,
      "metadata": {
        "colab": {
          "base_uri": "https://localhost:8080/",
          "height": 38
        },
        "id": "n-MUuZzp1lpx",
        "outputId": "6e1dc5a0-3c9d-47b5-d0fc-4c040f5e5829"
      },
      "outputs": [
        {
          "data": {
            "text/latex": [
              "$\\displaystyle x^{5} - x$"
            ],
            "text/plain": [
              "x**5 - x"
            ]
          },
          "execution_count": 35,
          "metadata": {},
          "output_type": "execute_result"
        }
      ],
      "source": [
        "sp.integrate(expre13)"
      ]
    },
    {
      "cell_type": "markdown",
      "metadata": {
        "id": "Anrt9nTW1nWp"
      },
      "source": [
        "**Exemplo quatro de Integral indefinida** da equação 2x^6"
      ]
    },
    {
      "cell_type": "code",
      "execution_count": 36,
      "metadata": {
        "colab": {
          "base_uri": "https://localhost:8080/",
          "height": 38
        },
        "id": "eSrMYLLC1ni_",
        "outputId": "991022bf-4cb5-4d48-b765-ae721dd5f38e"
      },
      "outputs": [
        {
          "data": {
            "text/latex": [
              "$\\displaystyle 2 x^{6}$"
            ],
            "text/plain": [
              "2*x**6"
            ]
          },
          "execution_count": 36,
          "metadata": {},
          "output_type": "execute_result"
        }
      ],
      "source": [
        "import sympy as sp \n",
        "\n",
        "x = sp.Symbol('x') \n",
        "\n",
        "expre14 = 2*x**6\n",
        "expre14"
      ]
    },
    {
      "cell_type": "code",
      "execution_count": 37,
      "metadata": {
        "colab": {
          "base_uri": "https://localhost:8080/",
          "height": 54
        },
        "id": "jWRuDjBJ1npR",
        "outputId": "0fc63b1a-5351-41e8-8152-530e3a55c635"
      },
      "outputs": [
        {
          "data": {
            "text/latex": [
              "$\\displaystyle \\frac{2 x^{7}}{7}$"
            ],
            "text/plain": [
              "2*x**7/7"
            ]
          },
          "execution_count": 37,
          "metadata": {},
          "output_type": "execute_result"
        }
      ],
      "source": [
        "sp.integrate(expre14)"
      ]
    },
    {
      "cell_type": "markdown",
      "metadata": {
        "id": "QILLKUrM4UXt"
      },
      "source": [
        "## Resolvendo Integrais definidas\n",
        "\n",
        "Para resolver integrais definidas utilizamos:\n",
        "\n",
        "\n",
        "```\n",
        "# sp.integrate(equação, (variavel, intervalo, intervalo)\n",
        "```\n",
        "\n"
      ]
    },
    {
      "cell_type": "markdown",
      "metadata": {
        "id": "4FAcEQpt42Zc"
      },
      "source": [
        "**Exemplo um de Integral definida** da equação e^-2 no intervalo menos infinito até infinito "
      ]
    },
    {
      "cell_type": "code",
      "execution_count": 38,
      "metadata": {
        "colab": {
          "base_uri": "https://localhost:8080/",
          "height": 41
        },
        "id": "DOiq4n0o42pK",
        "outputId": "79b1ddf9-2f75-4dd2-a794-4bebca2449fe"
      },
      "outputs": [
        {
          "data": {
            "text/latex": [
              "$\\displaystyle e^{- x^{2}}$"
            ],
            "text/plain": [
              "exp(-x**2)"
            ]
          },
          "execution_count": 38,
          "metadata": {},
          "output_type": "execute_result"
        }
      ],
      "source": [
        "import sympy as sp \n",
        "\n",
        "x = sp.Symbol('x') \n",
        "\n",
        "expre15 = sp.exp(-x**2)\n",
        "expre15"
      ]
    },
    {
      "cell_type": "code",
      "execution_count": 39,
      "metadata": {
        "colab": {
          "base_uri": "https://localhost:8080/",
          "height": 37
        },
        "id": "eQB5OhJf42vx",
        "outputId": "9268ae63-5054-48f6-efa4-61c26ee36743"
      },
      "outputs": [
        {
          "data": {
            "text/latex": [
              "$\\displaystyle \\sqrt{\\pi}$"
            ],
            "text/plain": [
              "sqrt(pi)"
            ]
          },
          "execution_count": 39,
          "metadata": {},
          "output_type": "execute_result"
        }
      ],
      "source": [
        "sp.integrate(expre15, (x, -sp.oo, sp.oo))"
      ]
    },
    {
      "cell_type": "markdown",
      "metadata": {
        "id": "WI0pADZB4228"
      },
      "source": [
        "**Exemplo dois de Integral definida** da equação x^2 +  2 + sin(x)*exp(x)"
      ]
    },
    {
      "cell_type": "code",
      "execution_count": 40,
      "metadata": {
        "colab": {
          "base_uri": "https://localhost:8080/",
          "height": 38
        },
        "id": "e-NB68SO42-w",
        "outputId": "c3468961-bcfd-43e9-dafc-0846e585543d"
      },
      "outputs": [
        {
          "data": {
            "text/latex": [
              "$\\displaystyle x^{2} + e^{x} \\sin{\\left(x \\right)} + 2$"
            ],
            "text/plain": [
              "x**2 + exp(x)*sin(x) + 2"
            ]
          },
          "execution_count": 40,
          "metadata": {},
          "output_type": "execute_result"
        }
      ],
      "source": [
        "import sympy as sp \n",
        "\n",
        "x = sp.Symbol('x') \n",
        "\n",
        "expre16 = x**2 +  2 + sp.sin(x)*sp.exp(x)\n",
        "expre16"
      ]
    },
    {
      "cell_type": "code",
      "execution_count": 41,
      "metadata": {
        "colab": {
          "base_uri": "https://localhost:8080/",
          "height": 54
        },
        "id": "CB2oBGIh43D9",
        "outputId": "d6a859df-bd57-4e86-8d59-efcbe27d8a0a"
      },
      "outputs": [
        {
          "data": {
            "text/latex": [
              "$\\displaystyle - \\frac{e^{2} \\cos{\\left(2 \\right)}}{2} + \\frac{e^{2} \\sin{\\left(2 \\right)}}{2} + \\frac{43}{6}$"
            ],
            "text/plain": [
              "-exp(2)*cos(2)/2 + exp(2)*sin(2)/2 + 43/6"
            ]
          },
          "execution_count": 41,
          "metadata": {},
          "output_type": "execute_result"
        }
      ],
      "source": [
        "sp.integrate(expre16, (x, 0, 2))"
      ]
    },
    {
      "cell_type": "markdown",
      "metadata": {
        "id": "9y1tfCs643MD"
      },
      "source": [
        "A integral acima não deu o resultado númerico para obter o resultado é necessário adicionar ao final da integral\n",
        "\n",
        "```\n",
        "# .evalf()\n",
        "```\n",
        "\n"
      ]
    },
    {
      "cell_type": "code",
      "execution_count": 42,
      "metadata": {
        "colab": {
          "base_uri": "https://localhost:8080/",
          "height": 37
        },
        "id": "iMwckBCE43Uq",
        "outputId": "a2e72095-8c95-4dcc-b6b8-10b3c9878d8d"
      },
      "outputs": [
        {
          "data": {
            "text/latex": [
              "$\\displaystyle 12.0635576757005$"
            ],
            "text/plain": [
              "12.0635576757005"
            ]
          },
          "execution_count": 42,
          "metadata": {},
          "output_type": "execute_result"
        }
      ],
      "source": [
        "sp.integrate(expre16, (x, 0, 2)).evalf()"
      ]
    },
    {
      "cell_type": "markdown",
      "metadata": {
        "id": "pfWU08TG9Nwb"
      },
      "source": [
        "##  **Usando a forma literal para representar a Integral**\n",
        "\n",
        "É possível com o Sympy representar as integrais definidas e indefinidas de maneira literal.\n",
        " \n",
        "Para essa representação se utiliza \n",
        "\n",
        "\n",
        "```\n",
        "# sp.integral(equação,(variavel, intervalo, intervalo)\n",
        "```\n",
        "\n"
      ]
    },
    {
      "cell_type": "markdown",
      "metadata": {
        "id": "KGSP7mr39f0J"
      },
      "source": [
        "**Exemplo um** representação da equação x^2 + 2 + sin(x)*exp(x)"
      ]
    },
    {
      "cell_type": "code",
      "execution_count": 43,
      "metadata": {
        "colab": {
          "base_uri": "https://localhost:8080/",
          "height": 80
        },
        "id": "osvxqI-n9jUr",
        "outputId": "fd6b0f2d-387d-4c6a-fe2b-47294b0fb3e8"
      },
      "outputs": [
        {
          "data": {
            "text/latex": [
              "$\\displaystyle \\int\\limits_{0}^{2} \\left(x^{2} + e^{x} \\sin{\\left(x \\right)} + 2\\right)\\, dx$"
            ],
            "text/plain": [
              "Integral(x**2 + exp(x)*sin(x) + 2, (x, 0, 2))"
            ]
          },
          "execution_count": 43,
          "metadata": {},
          "output_type": "execute_result"
        }
      ],
      "source": [
        "sp.Integral(expre16, (x, 0, 2))"
      ]
    },
    {
      "cell_type": "markdown",
      "metadata": {
        "id": "_SXinFDd9j5E"
      },
      "source": [
        "**Exemplo dois** representação da equação 5*x**4 - 1"
      ]
    },
    {
      "cell_type": "code",
      "execution_count": 44,
      "metadata": {
        "colab": {
          "base_uri": "https://localhost:8080/",
          "height": 55
        },
        "id": "ngvTGx9B9kCF",
        "outputId": "9fff0eac-c7cd-48f4-92a6-af5f49bdd336"
      },
      "outputs": [
        {
          "data": {
            "text/latex": [
              "$\\displaystyle \\int \\left(5 x^{4} - 1\\right)\\, dx$"
            ],
            "text/plain": [
              "Integral(5*x**4 - 1, x)"
            ]
          },
          "execution_count": 44,
          "metadata": {},
          "output_type": "execute_result"
        }
      ],
      "source": [
        "sp.Integral(expre13)"
      ]
    },
    {
      "cell_type": "markdown",
      "metadata": {
        "id": "xedDkb4q-4fj"
      },
      "source": [
        "**Para obter o resultado das represetações se utiliza no final da função**\n",
        "\n",
        "```\n",
        "# .doit()\n",
        "```\n",
        "\n"
      ]
    },
    {
      "cell_type": "code",
      "execution_count": 45,
      "metadata": {
        "colab": {
          "base_uri": "https://localhost:8080/",
          "height": 37
        },
        "id": "OQrviEKf_Txq",
        "outputId": "7b548bb7-f945-4363-9e5a-8e6f714cbd81"
      },
      "outputs": [
        {
          "data": {
            "text/latex": [
              "$\\displaystyle 12.0635576757005$"
            ],
            "text/plain": [
              "12.0635576757005"
            ]
          },
          "execution_count": 45,
          "metadata": {},
          "output_type": "execute_result"
        }
      ],
      "source": [
        "sp.Integral(expre16, (x, 0, 2)).doit().evalf()"
      ]
    },
    {
      "cell_type": "code",
      "execution_count": 46,
      "metadata": {
        "colab": {
          "base_uri": "https://localhost:8080/",
          "height": 38
        },
        "id": "4xVzHSGP_T7B",
        "outputId": "7e85b770-82e4-40bd-cc19-284aa6c3e1f5"
      },
      "outputs": [
        {
          "data": {
            "text/latex": [
              "$\\displaystyle x^{5} - x$"
            ],
            "text/plain": [
              "x**5 - x"
            ]
          },
          "execution_count": 46,
          "metadata": {},
          "output_type": "execute_result"
        }
      ],
      "source": [
        "sp.Integral(expre13).doit()"
      ]
    }
  ],
  "metadata": {
    "colab": {
      "authorship_tag": "ABX9TyPe/rWDRygucqO4WKD4Mz/J",
      "include_colab_link": true,
      "provenance": []
    },
    "kernelspec": {
      "display_name": "Python 3",
      "name": "python3"
    },
    "language_info": {
      "name": "python"
    }
  },
  "nbformat": 4,
  "nbformat_minor": 0
}

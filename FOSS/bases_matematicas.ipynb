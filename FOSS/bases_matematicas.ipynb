{
  "cells": [
    {
      "attachments": {},
      "cell_type": "markdown",
      "metadata": {
        "colab_type": "text",
        "id": "view-in-github"
      },
      "source": [
        "<a href=\"https://colab.research.google.com/github/BMClab/BasesComputacionais/blob/master/FOSS/bases_matematicas.ipynb\" target=\"_parent\"><img src=\"https://colab.research.google.com/assets/colab-badge.svg\" alt=\"Open In Colab\"/></a>"
      ]
    },
    {
      "cell_type": "markdown",
      "metadata": {
        "id": "_RmZpHH4tccf"
      },
      "source": [
        "Carolina Bossolane Carvalho RA: 11202232153\n",
        "\n",
        "Gabriel Bernardes Chaves Sousa RA: 11202212454"
      ]
    },
    {
      "cell_type": "markdown",
      "metadata": {
        "id": "EY9rh7f6txUY"
      },
      "source": [
        "Projeto Final de Bases Computacionais da Ciência \n",
        "\n",
        "Relacionado à Bases matemáticas "
      ]
    },
    {
      "cell_type": "code",
      "execution_count": null,
      "metadata": {
        "colab": {
          "base_uri": "https://localhost:8080/"
        },
        "id": "NYHWTxwwt_Zr",
        "outputId": "2a25bbed-3e8c-47ef-d1eb-beb65888a682"
      },
      "outputs": [
        {
          "name": "stdout",
          "output_type": "stream",
          "text": [
            " ____________CALCULADORA____________\n",
            " 1 soma + \n",
            " 2 subtração - \n",
            " 3 divisão / \n",
            " 4 multiplicação * \n",
            " 5 elevado ^ \n",
            " 6 raiz V \n",
            "\n",
            "Escolha o número da operação desejada:\n"
          ]
        }
      ],
      "source": [
        "import numpy as np\n",
        "\n",
        "def soma(x,y):\n",
        "  sum= x+y\n",
        "  print('\\nO resultado é:',sum,'\\n')\n",
        "\n",
        "def sub(x,y):\n",
        "  sub= x-y\n",
        "  print('\\nO resultado é:',sub,'\\n')\n",
        "\n",
        "def div(x,y):\n",
        "  div= x/y\n",
        "  print('\\nO resultado é:',div,'\\n')\n",
        "\n",
        "def mult(x,y):\n",
        "  mult= x*y\n",
        "  print('\\nO resultado é:',mult,'\\n')\n",
        "\n",
        "def elev(x,y):\n",
        "  elev= x**y\n",
        "  print('\\nO resultado é:',elev,'\\n')\n",
        "\n",
        "\n",
        "def raiz(x):\n",
        "  raiz= x**0.5\n",
        "  print('\\nO resultado é:',raiz,'\\n')\n",
        "\n",
        "sum='soma +'\n",
        "men='subtração -'\n",
        "divi='divisão /'\n",
        "multi='multiplicação *'\n",
        "eleva='elevado ^'\n",
        "raizq='raiz V'\n",
        "\n",
        "while(True):\n",
        "  print(' ____________CALCULADORA____________\\n',1,sum,'\\n',2,men,'\\n',3,divi,'\\n',4,multi,'\\n',5,eleva,'\\n',6,raizq,'\\n\\nEscolha o número da operação desejada:')\n",
        "  escolha=int(input())\n",
        "  \n",
        "  if escolha == 1:\n",
        "    print('\\nDigite o 1º número:')\n",
        "    x=int(input())\n",
        "    print('\\nDigite o 2° número:')\n",
        "    y=int(input())\n",
        "    soma(x,y)\n",
        "  elif escolha == 2:\n",
        "    print('\\nDigite o 1º número:')\n",
        "    x=int(input())\n",
        "    print('\\nDigite o 2° número:')\n",
        "    y=int(input())\n",
        "    sub(x,y)\n",
        "  elif escolha == 3:\n",
        "    print('\\nDigite o 1º número:')\n",
        "    x=int(input())\n",
        "    print('\\nDigite o 2° número:')\n",
        "    y=int(input())\n",
        "    div(x,y)\n",
        "  elif escolha == 4:\n",
        "    print('\\nDigite o 1º número:')\n",
        "    x=int(input())\n",
        "    print('\\nDigite o 2° número:')\n",
        "    y=int(input())\n",
        "    mult(x,y)\n",
        "  elif escolha == 5:\n",
        "    print('\\nDigite o 1º número:')\n",
        "    x=int(input())\n",
        "    print('\\nDigite o 2° número:')\n",
        "    y=int(input())\n",
        "    elev(x,y)\n",
        "  elif escolha == 6:\n",
        "    print('\\nDigite o número:')\n",
        "    x=int(input())\n",
        "    raiz(x)\n",
        "  else:\n",
        "    print('\\nNão pudemos reconhecer o valor, tente novamente!\\n')\n",
        "\n"
      ]
    }
  ],
  "metadata": {
    "colab": {
      "authorship_tag": "ABX9TyMVCVhxQv19LeaUToqYTGr+",
      "include_colab_link": true,
      "provenance": []
    },
    "kernelspec": {
      "display_name": "Python 3",
      "name": "python3"
    },
    "language_info": {
      "name": "python"
    }
  },
  "nbformat": 4,
  "nbformat_minor": 0
}

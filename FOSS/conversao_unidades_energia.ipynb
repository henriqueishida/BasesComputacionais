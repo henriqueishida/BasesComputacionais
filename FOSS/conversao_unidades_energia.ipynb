{
  "cells": [
    {
      "attachments": {},
      "cell_type": "markdown",
      "metadata": {},
      "source": [
        "<a href=\"https://colab.research.google.com/github/BMClab/BasesComputacionais/blob/master/FOSS/conversao_unidades_energia.ipynb\" target=\"_parent\"><img src=\"https://colab.research.google.com/assets/colab-badge.svg\" alt=\"Open In Colab\"/></a>"
      ]
    },
    {
      "cell_type": "markdown",
      "metadata": {
        "id": "g4pH_Pz_iyHd"
      },
      "source": [
        "# **Bases Conceituais da Energia:** Conversão de unidades de energia com o SymPy\n",
        "\n",
        "Gabriela Reisch, RA 11202230747;\n",
        "\n",
        "Guilherme Hugo, RA 11202230757.\n",
        "\n",
        "\\\n",
        "Universidade Federal do ABC\n"
      ]
    },
    {
      "cell_type": "markdown",
      "metadata": {
        "id": "ybSpY6bUmZWC"
      },
      "source": [
        "<h1>Sumário<span\n",
        " class=\"tocSkip\"></span></h1>\n",
        "<div \n",
        "class=\"toc\"><ul \n",
        "class=\"toc-item\"><li><span><a \n",
        "href=\"#Unidades de Energia\" \n",
        "data-toc-modified-id=\"Unidades de Energia-1\"><span class=\"toc-item-num\">1&nbsp;&nbsp;</span>Unidades de Energia</a></span></li><li><span><a \n",
        "href=\"#Biblioteca SymPy\" \n",
        "data-toc-modified-id=\"Biblioteca SymPy-2\"><span\n",
        "class=\"toc-item-num\">2&nbsp;&nbsp;</span>Biblioteca SymPy</a></span></li><li><span><a \n",
        "href=\"#Conversão de Unidades\" \n",
        "data-toc-modified-id=\"Conversão de Unidades-3\"><span class=\"toc-item-num\">3&nbsp;&nbsp;</span>Conversão de Unidades</a></span></li><li><span><a \n",
        "href=\"#Exemplo\" \n",
        "data-toc-modified-id=\"Exemplo-3.1\"><span class=\"toc-item-num\">3.1&nbsp;&nbsp;</span>Exemplo</a></span></li></ul></li><li><span><a href=\"#Conclusão\" \n",
        "data-toc-modified-id=\"Conclusão-4\"><span \n",
        "class=\"toc-item-num\">4&nbsp;&nbsp;</span>Conclusão</a>"
      ]
    },
    {
      "cell_type": "markdown",
      "metadata": {
        "id": "joeEE7Mhdxym"
      },
      "source": [
        "# Unidades de Energia \n",
        "\n",
        "\n",
        " Na matéria de Bases Conceituais da Energia, estudamos que a energia pode ser representada e transformada de diversas formas, como por exemplo térmica, luminosa, elétrica, química e etc... \n",
        " \n",
        " A unidade de energia no Sistema Internacional de Unidades (SI) é o Joule (J). Assim, é de suma importância conhecer a relação entre as principais unidades utilizadas na disciplina e o Joule:\n",
        "\n",
        "\n",
        "* **Caloria** *(cal)*: utilizada nos estudos de fenômenos térmicos.\n",
        "\n",
        "       Em relação ao Joule, temos aproximadamente: 1 cal = 4,186 J\n",
        "\n",
        "* **Quilowatt-hora** *(KWh)*: muito comum em dispositivos e sistemas elétricos. \n",
        "\n",
        "      Em relação ao Joule, temos: 1 KWh = 3,6.10^6 J\n",
        "\n",
        "* **Elétron-Volt** *(eV)*: unidade usada principalmente em estudos atrelados à física quântica, por representar uma quantidade relativamente baixa de energia. \n",
        "\n",
        "      Em relação ao Joule, temos: 1 eV = 1,602.10^-19 J\n"
      ]
    },
    {
      "cell_type": "markdown",
      "metadata": {
        "id": "IXnYL1_4foKE"
      },
      "source": [
        "# Biblioteca SymPy\n",
        "\n",
        " Computadores podem nos auxiliar em etapas mais complexas e tediosas dessas manipulações aritméticas. Neste projeto, iremos explorar a biblioteca SymPy, utilizada para cálculos com expressões matemáticas, resolução de equações e simulações, enquanto mantém o código simples para ser compreensível e facilmente empregado.\n",
        " \n",
        "  \n"
      ]
    },
    {
      "cell_type": "markdown",
      "metadata": {
        "id": "v3jV3lpPliJA"
      },
      "source": [
        "* **Instalação:**\n",
        "\n",
        "Se você já utiliza o *Anaconda*, a biblioteca já está instalada. Caso contrário, a instalação pode ser feita de modo simples:"
      ]
    },
    {
      "cell_type": "code",
      "execution_count": null,
      "metadata": {
        "id": "N5vifxYLi9UB"
      },
      "outputs": [],
      "source": [
        "pip install sympy"
      ]
    },
    {
      "cell_type": "markdown",
      "metadata": {
        "id": "Ge-3BOsL0xFG"
      },
      "source": [
        "O SymPy é escrito inteiramente em Python e depende apenas do mpmath, uma biblioteca Python pura para aritmética de números decimais, tornando-o fácil de usar. Assim, essa biblioteca se baseia em um sistema algébrico computacional simbólico. Ou seja, números e operações são representados simbolicamente, permitindo obter resultados exatos, sem muitas aproximações. "
      ]
    },
    {
      "cell_type": "code",
      "execution_count": null,
      "metadata": {
        "colab": {
          "base_uri": "https://localhost:8080/",
          "height": 39
        },
        "id": "eVAiA60FhrkO",
        "outputId": "fb5dece3-45bf-4dbb-e4aa-6f83d0cccd76"
      },
      "outputs": [
        {
          "data": {
            "text/latex": [
              "$\\displaystyle \\sqrt{2}$"
            ],
            "text/plain": [
              "sqrt(2)"
            ]
          },
          "execution_count": 2,
          "metadata": {},
          "output_type": "execute_result"
        }
      ],
      "source": [
        "import sympy\n",
        "sympy.sqrt(2)"
      ]
    },
    {
      "cell_type": "markdown",
      "metadata": {
        "id": "xSaSYzIOh9R7"
      },
      "source": [
        "Observe que o output foi o símbolo √2, e não uma aproximação na forma decimal."
      ]
    },
    {
      "cell_type": "markdown",
      "metadata": {
        "id": "i-VcOlr5j8tp"
      },
      "source": [
        "# Conversão das unidades\n",
        "\n",
        "O sistema do SymPy permite converter entre diferentes unidades da mesma dimensão, como converter comprimentos entre metros e polegadas.\n",
        "\n",
        "**Sistemas de unidades físicas** *(sympy.physics.units)*: este módulo contém o sistemas das unidades no SymPy, permitindo ao usuário escolher qual unidade ou dados utilizar ao fazer seus cálculos e converter unidades.\n",
        "\n",
        "\n",
        "\n",
        "\n",
        " "
      ]
    },
    {
      "cell_type": "markdown",
      "metadata": {
        "id": "KmEjjY_8k3NJ"
      },
      "source": [
        "Exemplos de unidades físicas no módulo:\n",
        "\n",
        "> from sympy.physics.units import speed_of_light, meter, gram, second, day, newton, kilogram, atomic_mass_constant..."
      ]
    },
    {
      "cell_type": "markdown",
      "metadata": {
        "id": "y6NaPK9h6boR"
      },
      "source": [
        "1. O primeiro passo é importar o módulo e definir a unidade que vai ser \n",
        "transformada: *sympy.physics.units.Quantity*"
      ]
    },
    {
      "cell_type": "code",
      "execution_count": null,
      "metadata": {
        "id": "vLWw3viEAYHt"
      },
      "outputs": [],
      "source": [
        " import sympy.physics.units as spu\n",
        " eV = spu.Quantity('eV')"
      ]
    },
    {
      "cell_type": "markdown",
      "metadata": {
        "id": "dnB4XO8M_7t1"
      },
      "source": [
        "2. Depois, importar o módulo do sistema desejado, no caso para essa disciplina, o internacional.  e definir sua dimensão:  porque você deve definir a dimensão de uma quantidade usando um determinado sistema de unidades.\n"
      ]
    },
    {
      "cell_type": "code",
      "execution_count": null,
      "metadata": {
        "id": "900Oj5VTBQ6e"
      },
      "outputs": [],
      "source": [
        "from sympy.physics.units.systems import SI\n",
        "SI.set_quantity_dimension(eV, spu.energy)"
      ]
    },
    {
      "cell_type": "markdown",
      "metadata": {
        "id": "2EAIbaheBODk"
      },
      "source": [
        "3. Indicar a quantidade que se deseja transformar:\n"
      ]
    },
    {
      "cell_type": "code",
      "execution_count": null,
      "metadata": {
        "id": "r40VN36ACFq3"
      },
      "outputs": [],
      "source": [
        "SI.set_quantity_scale_factor(eV, 15 * spu.electronvolt)"
      ]
    },
    {
      "cell_type": "markdown",
      "metadata": {
        "id": "AQ3O0LVrDwk5"
      },
      "source": [
        "A função find_unit pode ajudá-lo a encontrar unidades para uma determinada quantidade (o nome genérico como 'length', 'mass', etc...):"
      ]
    },
    {
      "cell_type": "code",
      "execution_count": null,
      "metadata": {
        "colab": {
          "base_uri": "https://localhost:8080/"
        },
        "id": "ktzpwL4pJIou",
        "outputId": "18b82af0-ce7c-4d8f-bc2b-d6cc5dc88089"
      },
      "outputs": [
        {
          "data": {
            "text/plain": [
              "['W', 'watt', 'watts', 'planck_power']"
            ]
          },
          "execution_count": 6,
          "metadata": {},
          "output_type": "execute_result"
        }
      ],
      "source": [
        "spu.find_unit(spu.power)"
      ]
    },
    {
      "cell_type": "markdown",
      "metadata": {
        "id": "crXcNaJGCBUR"
      },
      "source": [
        "4. Por último, converter para a unidade final desejada:"
      ]
    },
    {
      "cell_type": "code",
      "execution_count": null,
      "metadata": {
        "colab": {
          "base_uri": "https://localhost:8080/",
          "height": 37
        },
        "id": "RjtCYu9MLAMH",
        "outputId": "4a3f1dc7-111b-4b3c-b284-4214525bfdaf"
      },
      "outputs": [
        {
          "data": {
            "text/latex": [
              "$\\displaystyle 2.403264951 \\cdot 10^{-18} \\text{J}$"
            ],
            "text/plain": [
              "2.403264951e-18*joule"
            ]
          },
          "execution_count": 7,
          "metadata": {},
          "output_type": "execute_result"
        }
      ],
      "source": [
        "spu.convert_to(eV, spu.joule)"
      ]
    },
    {
      "cell_type": "markdown",
      "metadata": {
        "id": "RHLjFzxd7Cue"
      },
      "source": [
        "Conversão de duas ou mais unidades:\n",
        "\n",
        "> convert_to(speed_of_light, [meter, second])\n",
        "299792458*meter/second\n",
        "\n",
        "\n",
        "> convert_to(3*newton, [centimeter, gram, second])\n",
        "300000*centimeter*gram/second**2"
      ]
    },
    {
      "cell_type": "markdown",
      "metadata": {
        "id": "Kr9LR_nJlEQt"
      },
      "source": [
        "# Exemplo\n",
        "Como exemplo, veja quantos Joules tem em 5 KWh:\n",
        "\n",
        " * Consumo = (potência em watt*1000) x (tempo em horas) = total em KWh.\n",
        "\n"
      ]
    },
    {
      "cell_type": "code",
      "execution_count": null,
      "metadata": {
        "colab": {
          "base_uri": "https://localhost:8080/",
          "height": 37
        },
        "id": "RUba7inazkmz",
        "outputId": "f6ce5165-35f8-432d-dff2-aec0751a7366"
      },
      "outputs": [
        {
          "data": {
            "text/latex": [
              "$\\displaystyle 18000000 \\text{J}$"
            ],
            "text/plain": [
              "18000000*joule"
            ]
          },
          "execution_count": 7,
          "metadata": {},
          "output_type": "execute_result"
        }
      ],
      "source": [
        "import sympy.physics.units as spu\n",
        "from sympy.physics.units.systems import SI\n",
        "\n",
        "KWh = spu.Quantity('KWh')\n",
        "SI.set_quantity_dimension(KWh, spu.energy) \n",
        "SI.set_quantity_scale_factor(KWh, 5 * spu.watt * 1000 * 1 * spu.hour) #watt*1000 (Quilowatt) * 1 hora\n",
        "spu.convert_to(KWh, spu.joule)"
      ]
    },
    {
      "cell_type": "markdown",
      "metadata": {
        "id": "N3qpFcHEloHd"
      },
      "source": [
        "# Conclusão\n",
        "\n",
        "O sistema de unidades físicas do SymPy nos permite converter entre diferentes unidades, auxiliando no estudo de Bases Conceituais da Energia."
      ]
    },
    {
      "cell_type": "markdown",
      "metadata": {
        "id": "r_-nf163lVHB"
      },
      "source": [
        "# Referências\n",
        "\n",
        "\n",
        "*   SYMPY DEVELOPMENT TEAM. **Physical quantities.** 2022. Disponível em: https://docs.sympy.org/latest/modules/physics/units/quantities.html#module-sympy.physics.units.util. Acesso em: 01 dez. 2022.\n",
        "\n",
        "* BUGLIA, Fernando. **Unidades de Energia**: joule, caloria, quilowatt-hora e elétron-volt. 2018. Disponível em: https://infoenem.com.br/unidades-de-energia-joule-caloria-quilowatt-hora-e-eletron-volt/. Acesso em: 01 dez. 2022.\n",
        "\n",
        "* SYMPY DEVELOPMENT TEAM. **Source code for sympy.physics.units.** 2015. Disponível em: http://lidavidm.github.io/sympy/_modules/sympy/physics/units.html. Acesso em: 09 dez. 2022.\n"
      ]
    }
  ],
  "metadata": {
    "colab": {
      "provenance": []
    },
    "kernelspec": {
      "display_name": "Python 3",
      "name": "python3"
    },
    "language_info": {
      "name": "python"
    }
  },
  "nbformat": 4,
  "nbformat_minor": 0
}

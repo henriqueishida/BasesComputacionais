{
 "cells": [
  {
   "attachments": {},
   "cell_type": "markdown",
   "metadata": {},
   "source": [
    "<a href=\"https://colab.research.google.com/github/BMClab/BasesComputacionais/blob/master/FOSS/conversor_monetario.ipynb\" target=\"_parent\"><img src=\"https://colab.research.google.com/assets/colab-badge.svg\" alt=\"Open In Colab\"/></a>"
   ]
  },
  {
   "cell_type": "markdown",
   "metadata": {
    "colab_type": "text",
    "id": "WvMflodMjQKe"
   },
   "source": [
    "# <font color=black size=7>RELAÇÕES MONETÁRIAS E FINANCEIRAS INTERNACIONAIS</font> \n",
    "***\n",
    "\n",
    "# <font color=black size=4>PROJETO DE CONVERSÃO MONETÁRIA</font>\n",
    "\n",
    "\n",
    "\n",
    "## Grupo\n",
    "\n",
    "Debora Domingos da Silva\n",
    "\n",
    "João Augusto Mendes de Oliveira\n",
    "\n",
    "Curso:Bacharelado em Ciência e Tecnologia\n",
    "\n",
    "Universidade Federal do ABC (UFABC)\n",
    "\n",
    "\n",
    "\n",
    "## Conteúdo\n",
    "\n",
    "<b>1</b> ► Introdução\n",
    "\n",
    "<b>2</b> ► Importância da conversão de moedas\n",
    "\n",
    "<b>3</b> ► Conversão Monetária\n",
    "\n",
    "<b>4</b> ► Conclusão\n",
    "\n"
   ]
  },
  {
   "cell_type": "markdown",
   "metadata": {},
   "source": [
    "## Introdução\n",
    "\n",
    "De acordo com José Ultemar da Silva, “o comércio entre países é considerado a base de sobrevivência e satisfação das necessidades humanas”. A troca de mercadorias data do período neolítico, quando o homem viu a necessidade de ter um instrumento para intermediar as relações comerciais, dando origem ao escambo, trocas amigáveis provenientes do excedente de produção, sem equivalência de valor. O conceito da utilização de itens próprios para transações, as moedas, surgiu na Lídia, território grego, no século VIII a.C.\n",
    "\n",
    "\n",
    "## Importância da conversão de moedas\n",
    "\n",
    "Tais trocas evoluíram para a instituição de leis e normas internacionais, quando surgiu a necessidade de realizar transações entre países que, por exemplo, queriam algum recurso que apenas seria obtido em outro território que não fosse o próprio. Dessa forma, surge a necessidade da utilização de diferentes moedas por parte das nações envolvidas, dando origem ao câmbio.\n",
    "\n",
    "Os mercados financeiros são fluídos, o que significa que o valor das moedas estrangeiras está em constante mudança, influenciado por diversos fatores. Pensando nisso, quando você precisa fazer uma transferência internacional, a simulação é obrigatória. Além de saber exatamente quanto você irá ter depois de converter o valor em moeda estrangeira, a simulação também trata de encontrar a forma mais barata e segura de fazer um planejamento financeiro mais preciso – uma forma eficaz de evitar surpresas.\n",
    "\n",
    "Cada moeda tem um valor de transação em relação a outra moeda, que é chamada de taxa de câmbio. Esse fator é influenciado por diversos fatores, por isso os valores das moedas mudam com frequência, o que requer cuidado para evitar prejuízos nas transações internacionais. \n"
   ]
  },
  {
   "cell_type": "markdown",
   "metadata": {
    "colab_type": "text",
    "id": "cVgsZ_E3jQKg"
   },
   "source": [
    "# <font color=black>Conversão Monetária</font>\n",
    "\n",
    "\n",
    "### APIs utilizadas\n",
    "\n",
    "http://openexchangerates.org/api/currencies.json\n",
    "\n",
    "https://api.exchangerate.host/latest\n",
    "\n",
    "\n",
    "### Pacotes utilizados\n",
    "\n",
    "\n",
    "1 - tkinter\n",
    "\n",
    "2 - requests\n",
    "\n",
    "3 - pandas\n",
    "\n",
    "4 - json\n",
    "\n",
    "5 - string\n",
    "\n",
    "6 - urllib\n",
    "\n"
   ]
  },
  {
   "cell_type": "markdown",
   "metadata": {
    "colab_type": "text",
    "id": "OK1IQH5cX7Gb"
   },
   "source": [
    "### Código\n"
   ]
  },
  {
   "cell_type": "markdown",
   "metadata": {
    "colab": {},
    "colab_type": "code",
    "id": "fcTgimHBybMz"
   },
   "source": [
    "Importamos as bibliotecas necessárias para executar o conversor de moedas."
   ]
  },
  {
   "cell_type": "code",
   "execution_count": null,
   "metadata": {},
   "outputs": [],
   "source": [
    "import tkinter as tk                   #pacote para interfaces gráficas do usuário\n",
    "from tkinter import OptionMenu, Label \n",
    "import requests                        #pacote para solicitações HTTP\n",
    "import pandas as pd                    #pacote para manipulação e análise de dados\n",
    "import json                            #pacote para manipular dados no formato JSON no python\n",
    "import urllib.request                  #pacote para manipular urls\n",
    "import string                          #pacote para manipular strings"
   ]
  },
  {
   "cell_type": "markdown",
   "metadata": {},
   "source": [
    "A partir de uma API, pegamos a relação de todas as moedas e criamos uma lista, que servirá como base para o conversor."
   ]
  },
  {
   "cell_type": "code",
   "execution_count": null,
   "metadata": {
    "colab_type": "text",
    "id": "U6V7br1RjQKi"
   },
   "outputs": [],
   "source": [
    "relacao_moedas = \"http://openexchangerates.org/api/currencies.json\"\n",
    "lista_moedas   = urllib.request.urlopen(relacao_moedas)\n",
    "lista_moedas   = lista_moedas.read().decode(\"utf-8\")\n",
    "lista_final    = json.loads(lista_moedas)\n",
    "\n",
    "siglas  = list(lista_final.keys())\n",
    "paises  = list(lista_final.values())\n",
    "choices = siglas"
   ]
  },
  {
   "cell_type": "markdown",
   "metadata": {
    "colab_type": "text",
    "id": "2a-gvBvCULwt"
   },
   "source": [
    "Criamos a estrutura gráfica do conversor e os cálculos que o conversor precisará executar antes de mostrar o resultado."
   ]
  },
  {
   "cell_type": "code",
   "execution_count": null,
   "metadata": {
    "colab": {},
    "colab_type": "code",
    "id": "ufRZ7TLwjQKo"
   },
   "outputs": [],
   "source": [
    "class ConversorMoeda(tk.Frame):\n",
    "    \n",
    "    def __init__(self, parent, *args, **kwargs):\n",
    "        \n",
    "        tk.Frame.__init__(self, parent, *args,**kwargs)\n",
    "        self.grid(padx=(10,20), pady=(20,10))\n",
    "        self.app_font = ('arial', 16, 'bold')\n",
    "        self.parent = parent\n",
    "        self.parent.title('Conversor de moeda')\n",
    "        self.parent.columnconfigure(0, weight=2)\n",
    "        \n",
    "        self.source_currency = tk.StringVar()\n",
    "        self.source_currency.set('Converter de')\n",
    "        self.target_currency = tk.StringVar()\n",
    "        self.target_currency.set('Converter para')\n",
    "        self.source_text = tk.StringVar()\n",
    "        self.source_text.set('Converter de:')\n",
    "        self.target_text = tk.StringVar()\n",
    "        self.target_text.set('Para:')\n",
    "        self.amount = tk.StringVar()\n",
    "        self.amount.set('0')\n",
    "        self.var_result = tk.StringVar()\n",
    "        self.var_result.set('')        \n",
    "        self.choice_from = tk.StringVar()\n",
    "        self.choice_to = tk.StringVar()\n",
    "        self.choice_from.set('EUR')\n",
    "        self.choice_to.set('BRL')\n",
    "\n",
    "        lbl_source = tk.Label(self, textvariable=self.source_text, fg='black', font=self.app_font)\n",
    "        lbl_source.grid(row=0, column=0, sticky='N')\n",
    "        popupMenuFrom = OptionMenu(self, self.choice_from, *choices)\n",
    "        popupMenuFrom.grid(row=0, column=1, sticky='W')\n",
    "        \n",
    "        lbl_target = tk.Label(self, textvariable=self.target_text, fg='black', font=self.app_font)\n",
    "        lbl_target.grid(row=0, column=2, sticky='N')\n",
    "        popupMenuTo = OptionMenu(self, self.choice_to, *choices)\n",
    "        popupMenuTo.grid(row=0, column=3, sticky='W')\n",
    "\n",
    "        lbl_result = tk.Label(self, textvariable=self.var_result, fg='black', font=self.app_font)\n",
    "        lbl_result.grid(row=1,column=3,sticky='E')\n",
    "\n",
    "        self.input_entry = tk.Entry(self, textvariable=self.amount, font=self.app_font, width=7)\n",
    "        self.input_entry.grid(row=1, column=1)\n",
    "\n",
    "        button_compute = tk.Button(self, text='Converter', command=self.calculadora, bg='grey', fg='black', font=self.app_font)\n",
    "        button_compute.grid(row=8, column=1,sticky='W')\n",
    "        button_close   = tk.Button(self, text='Fechar', command=self.close, bg='grey', fg='black', font=self.app_font)\n",
    "        button_close.grid(row=8, column=3, sticky='E')\n",
    "\n",
    "        \n",
    "        \n",
    "    def calculadora(self):\n",
    "        \n",
    "        from_ = self.choice_from.get()\n",
    "        to_   = self.choice_to.get()\n",
    "        response = requests.get(f'https://api.exchangerate.host/latest&base={from_}&symbols={to_}')\n",
    "        data = response.json()\n",
    "        todos_rates = data['rates']\n",
    "        \n",
    "        amount = float(self.input_entry.get())     \n",
    "        exchange_rate = data['rates'] [to_]\n",
    "        amount = float(self.input_entry.get())\n",
    "        result = amount * exchange_rate\n",
    "        result = format(result, '.2f')\n",
    "        self.var_result.set(result)\n",
    "        \n",
    "        \n",
    "        if self.choice_from != 'BRL':\n",
    "            amount = amount / todos_rates[self.choice_from]\n",
    "        amount = round(amount * todos_rates[self.choice_to], 2) \n",
    "        return amount\n",
    "            \n",
    "\n",
    "    def close(self):\n",
    "        \n",
    "        self.parent.destroy()\n",
    "\n",
    "\n",
    "if __name__ == '__main__':\n",
    "    root = tk.Tk()\n",
    "    root.title('Conversor')\n",
    "    ConversorMoeda(root)\n",
    "    root.mainloop()\n"
   ]
  },
  {
   "cell_type": "markdown",
   "metadata": {},
   "source": [
    "# <font color=black size=5>Conclusões</font>\n",
    "\n",
    "Com isso em mente, a conversão de moeda é o processo de mostrar ao usuário qual é a taxa de câmbio da moeda que você está convertendo. Assim, será possível entender a diferença de valor entre as moedas de forma prática. Portanto, a conversão ajuda a entender quanto dinheiro você precisa para chegar ao valor em moedas internacionais. Por exemplo, se a conversão for de reais para dólares, usar o conversor permite saber quantos reais são necessários para atingir o valor do dólar desejado.\n",
    "\n"
   ]
  },
  {
   "cell_type": "markdown",
   "metadata": {
    "colab_type": "text",
    "id": "1Rm1n7a_Tg2u"
   },
   "source": [
    "# <font color=black size=5>Código final completo</font>\n",
    "\n",
    "\n",
    "\n"
   ]
  },
  {
   "cell_type": "code",
   "execution_count": 3,
   "metadata": {},
   "outputs": [
    {
     "name": "stderr",
     "output_type": "stream",
     "text": [
      "Exception in Tkinter callback\n",
      "Traceback (most recent call last):\n",
      "  File \"C:\\Users\\User\\anaconda3\\lib\\tkinter\\__init__.py\", line 1892, in __call__\n",
      "    return self.func(*args)\n",
      "  File \"C:\\Users\\User\\AppData\\Local\\Temp\\ipykernel_11704\\3663430787.py\", line 104, in calculadora\n",
      "    amount = amount / todos_rates[self.choice_from]\n",
      "TypeError: unhashable type: 'StringVar'\n"
     ]
    }
   ],
   "source": [
    "import tkinter as tk\n",
    "from tkinter import OptionMenu, Label\n",
    "import requests\n",
    "import pandas as pd\n",
    "import json\n",
    "import urllib.request\n",
    "import string\n",
    "\n",
    "\n",
    "##########################################\n",
    "####         LISTA DE MOEDAS          ####\n",
    "##########################################\n",
    "\n",
    "relacao_moedas = \"http://openexchangerates.org/api/currencies.json\"\n",
    "lista_moedas   = urllib.request.urlopen(relacao_moedas)\n",
    "lista_moedas   = lista_moedas.read().decode(\"utf-8\")\n",
    "lista_final    = json.loads(lista_moedas)\n",
    "\n",
    "siglas  = list(lista_final.keys())\n",
    "paises  = list(lista_final.values())\n",
    "choices = siglas\n",
    "\n",
    "\n",
    "##########################################\n",
    "#####\n",
    "##########################################\n",
    "\n",
    "\n",
    "class ConversorMoeda(tk.Frame):\n",
    "    \n",
    "    def __init__(self, parent, *args, **kwargs):\n",
    "        \n",
    "        tk.Frame.__init__(self, parent, *args,**kwargs)\n",
    "        self.grid(padx=(10,20), pady=(20,10))\n",
    "        self.app_font = ('arial', 16, 'bold')\n",
    "        self.parent = parent\n",
    "        self.parent.title('Conversor de moeda')\n",
    "        self.parent.columnconfigure(0, weight=2)\n",
    "        \n",
    "\n",
    "        self.source_currency = tk.StringVar()\n",
    "        self.source_currency.set('Converter de')\n",
    "        self.target_currency = tk.StringVar()\n",
    "        self.target_currency.set('Converter para')\n",
    "        self.source_text = tk.StringVar()\n",
    "        self.source_text.set('Converter de:')\n",
    "        self.target_text = tk.StringVar()\n",
    "        self.target_text.set('Para:')\n",
    "        self.amount = tk.StringVar()\n",
    "        self.amount.set('0')\n",
    "        self.var_result = tk.StringVar()\n",
    "        self.var_result.set('')        \n",
    "        self.choice_from = tk.StringVar()\n",
    "        self.choice_to = tk.StringVar()\n",
    "        self.choice_from.set('EUR')\n",
    "        self.choice_to.set('BRL')\n",
    "        \n",
    "\n",
    "        lbl_source = tk.Label(self, textvariable=self.source_text, fg='black', font=self.app_font)\n",
    "        lbl_source.grid(row=0, column=0, sticky='N')\n",
    "        popupMenuFrom = OptionMenu(self, self.choice_from, *choices)\n",
    "        popupMenuFrom.grid(row=0, column=1, sticky='W')\n",
    "        \n",
    "\n",
    "        lbl_target = tk.Label(self, textvariable=self.target_text, fg='black', font=self.app_font)\n",
    "        lbl_target.grid(row=0, column=2, sticky='N')\n",
    "        popupMenuTo = OptionMenu(self, self.choice_to, *choices)\n",
    "        popupMenuTo.grid(row=0, column=3, sticky='W')\n",
    "\n",
    "\n",
    "        lbl_result = tk.Label(self, textvariable=self.var_result, fg='black', font=self.app_font)\n",
    "        lbl_result.grid(row=1,column=3,sticky='E')\n",
    "\n",
    "\n",
    "        self.input_entry = tk.Entry(self, textvariable=self.amount, font=self.app_font, width=7)\n",
    "        self.input_entry.grid(row=1, column=1)\n",
    "\n",
    "\n",
    "        button_compute = tk.Button(self, text='Converter', command=self.calculadora, bg='grey', fg='black', font=self.app_font)\n",
    "        button_compute.grid(row=8, column=1,sticky='W')\n",
    "        button_close   = tk.Button(self, text='Fechar', command=self.close, bg='grey', fg='black', font=self.app_font)\n",
    "        button_close.grid(row=8, column=3, sticky='E')\n",
    "        #button_clear   = tk.Button(self, text='Limpar tudo', command=self.clear, bg='grey', fg='black', font=self.app_font)\n",
    "        #button_clear.grid(row=10, column=1,sticky='E')\n",
    "\n",
    "\n",
    "    def calculadora(self):\n",
    "        \n",
    "        from_ = self.choice_from.get()\n",
    "        to_   = self.choice_to.get()\n",
    "        response = requests.get(f'https://api.exchangerate.host/latest&base={from_}&symbols={to_}')\n",
    "        data = response.json()\n",
    "        todos_rates = data['rates']\n",
    "        \n",
    "        amount = float(self.input_entry.get())     \n",
    "        exchange_rate = data['rates'] [to_]\n",
    "        amount = float(self.input_entry.get())\n",
    "        result = amount * exchange_rate\n",
    "        result = format(result, '.2f')\n",
    "        self.var_result.set(result)\n",
    "        \n",
    "        \n",
    "        if self.choice_from != 'BRL':\n",
    "            amount = amount / todos_rates[self.choice_from]\n",
    "        amount = round(amount * todos_rates[self.choice_to], 2) \n",
    "        return amount\n",
    "            \n",
    "\n",
    "    def close(self):\n",
    "        \n",
    "        self.parent.destroy()\n",
    "\n",
    "\n",
    "if __name__ == '__main__':\n",
    "    root = tk.Tk()\n",
    "    root.title('Conversor')\n",
    "    ConversorMoeda(root)\n",
    "    root.mainloop()\n",
    "\n",
    "\n"
   ]
  }
 ],
 "metadata": {
  "colab": {
   "name": "Análise_Descritiva.ipynb",
   "provenance": [],
   "toc_visible": true,
   "version": "0.3.2"
  },
  "kernelspec": {
   "display_name": "Python 3 (ipykernel)",
   "language": "python",
   "name": "python3"
  },
  "language_info": {
   "codemirror_mode": {
    "name": "ipython",
    "version": 3
   },
   "file_extension": ".py",
   "mimetype": "text/x-python",
   "name": "python",
   "nbconvert_exporter": "python",
   "pygments_lexer": "ipython3",
   "version": "3.9.13"
  }
 },
 "nbformat": 4,
 "nbformat_minor": 1
}

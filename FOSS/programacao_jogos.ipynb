{
  "cells": [
    {
      "attachments": {},
      "cell_type": "markdown",
      "metadata": {
        "colab_type": "text",
        "id": "view-in-github"
      },
      "source": [
        "<a href=\"https://colab.research.google.com/github/BMClab/BasesComputacionais/blob/master/FOSS/programacao_jogos.ipynb\" target=\"_parent\"><img src=\"https://colab.research.google.com/assets/colab-badge.svg\" alt=\"Open In Colab\"/></a>"
      ]
    },
    {
      "cell_type": "markdown",
      "metadata": {
        "id": "_tp0DTwo3zLb"
      },
      "source": [
        "## OPEN SOURCE E A INTRODUÇÃO À PROGRAMAÇÃO DE JOGOS\n",
        "> Roberta Miglioli Tambasco - 11202231703\n",
        ">\n",
        ">Universidade Federal do ABC - UFABC\n",
        ">\n",
        ">BASES COMPUTACIONAIS DA CIÊNCIA\n",
        ">\n",
        "> Professor Marcos Duarte"
      ]
    },
    {
      "cell_type": "markdown",
      "metadata": {
        "id": "gdNGzFzg5ZVw"
      },
      "source": [
        "#  Introdução à Programação de Jogos\n",
        "\n",
        "Disciplina focada na história dos videogames, fundamentos de programação em jogos, apresentação a engines de jogos, game design, áudio e animação de personagens.\n",
        "\n",
        "\n"
      ]
    },
    {
      "cell_type": "markdown",
      "metadata": {
        "id": "Rj1M3D7LLjig"
      },
      "source": [
        "# Open Source\n",
        "\n",
        "Tendo como tradução \"Código Aberto\", é exatamente isso: um software com código aberto, grátis e disponível para edição e uso, geralmente contando com a colaboração de outros desenvolvedores para melhorar o projeto."
      ]
    },
    {
      "cell_type": "markdown",
      "metadata": {
        "id": "Cr_ZpyGsNERi"
      },
      "source": [
        "# <i>\"Quanto mais jogos open source houverem, mais podemos aprender uns com os outros e melhores poderemos ser todos.\"</i>\n",
        "Harmony Honey, criador de jogos, numa entrevista para The ReadME Project."
      ]
    },
    {
      "cell_type": "markdown",
      "metadata": {
        "id": "mJgiMkEVN4kE"
      },
      "source": [
        "# Godot Engine\n",
        "\n",
        "* Criação de jogos 2D e 3D para Android, iOS, PC, web e console.\n",
        "* Linguagens: Script próprio do Godot com base em Python (GDScript), C#, C++, e opção de usar outras linguagens com o GDNative.\n",
        "* Debugger incluído\n",
        "* [Documentação](https://docs.godotengine.org/en/stable/)"
      ]
    },
    {
      "cell_type": "markdown",
      "metadata": {
        "id": "Rb1NT_SBSmnW"
      },
      "source": [
        "<center><img src=\"https://godotengine.org/themes/godotengine/assets/logo.svg\" alt=\"godot\"></center> \n",
        "\n",
        "\n",
        "\n",
        "\n"
      ]
    },
    {
      "cell_type": "markdown",
      "metadata": {
        "id": "HKXGlj8KSp5i"
      },
      "source": [
        "# Phaser\n",
        "\n",
        "* Criação de jogos 2D em HTML5 para celular e desktop\n",
        "* Executado no Python\n",
        "* Jogos podem ser compilados para iOS, Androis e apps nativos\n",
        "* Uma das mais \"estreladas\" ferramentas de criação de jogos no GitHub\n",
        "* Tutoriais publicados toda semana, além de mais de 700 [tutoriais](https://phaser.io/learn) já disponíveis no site oficial\n",
        "* Plataforma utilizada para a criação de alguns jogos da Microsoft, como Mahjong\n",
        "* [Documentação](https://photonstorm.github.io/phaser3-docs/)"
      ]
    },
    {
      "cell_type": "markdown",
      "metadata": {
        "id": "KwJuwuZMS0E4"
      },
      "source": [
        "<center><img src=\"https://cdn.tutsplus.com/cdn-cgi/image/width=600/gamedev/uploads/2013/12/header.jpg\" alt=\"phaser\"></center> \n",
        "\n",
        "\n"
      ]
    },
    {
      "cell_type": "markdown",
      "metadata": {
        "id": "iXNYVBccUaAG"
      },
      "source": [
        "# <i>\"Eu ainda dependo enormemente da comunidade para financiar Phaser e melhorá-lo, o que não teria acontecido se ele não fosse open source.\"</i>\n",
        "Richard Davey, criador do Phaser, numa entrevista para The ReadME Project."
      ]
    },
    {
      "cell_type": "markdown",
      "metadata": {
        "id": "9yTeXi0YXJzZ"
      },
      "source": [
        "# Pygame\n",
        "\n",
        "* Biblioteca digital open-source com ferramentas para arte digital, jogos, música e uma comunidade ativa \n",
        "* Cursores, fontes, sprites, pixelarts, áudio e muito mais\n",
        "* Possibilita a criação de jogos open source e comerciais\n",
        "* Linguagem: Python\n",
        "* Código simples\n",
        "* Ideal para iniciantes: possui inúmeros tutoriais e introduções\n",
        "* Jogos feitos no Pygame já foram publicados e finalistas em festivais de jogos independentes \n",
        "* [Documentação](https://www.pygame.org/docs/)\n",
        "* [Tutorial do freeCodeCamp para criar Stardew Valley usando o Pygame](https://www.freecodecamp.org/news/create-stardew-valley-using-python-and-pygame/)\n"
      ]
    },
    {
      "cell_type": "markdown",
      "metadata": {
        "id": "vMWp1ue3XZ0N"
      },
      "source": [
        "**Instalação**\n",
        "\n",
        "* O pacote é instalado com o <i>[pip](https://pip.pypa.io/en/stable/)</i> (já presente nas novas versões do Python)"
      ]
    },
    {
      "cell_type": "code",
      "execution_count": null,
      "metadata": {
        "id": "9KZDbjvvXu5R"
      },
      "outputs": [],
      "source": [
        "python3 -m pip install -U pygame --user"
      ]
    },
    {
      "cell_type": "markdown",
      "metadata": {
        "id": "55hlJgIVXy1g"
      },
      "source": [
        "Para ver se funciona, basta executar um dos exemplos inclusos na documentação."
      ]
    },
    {
      "cell_type": "code",
      "execution_count": null,
      "metadata": {
        "id": "o3Y5noZ9X4ZP"
      },
      "outputs": [],
      "source": [
        "python3 -m pygame.examples.aliens"
      ]
    },
    {
      "cell_type": "markdown",
      "metadata": {
        "id": "U5EsbflnmOwr"
      },
      "source": [
        "<center><img src=\"https://camo.githubusercontent.com/1971c0a4f776fb5351c765c37e59630c83cabd52/68747470733a2f2f7777772e707967616d652e6f72672f696d616765732f6c6f676f2e706e67\" alt=\"pygame\"></center>\n"
      ]
    },
    {
      "cell_type": "markdown",
      "metadata": {
        "id": "tfvvPKrELxku"
      },
      "source": [
        "# Referências\n",
        "\n",
        "* https://github.com/readme/featured/open-source-democratizing-video-games\n",
        "* https://www.goodfirms.co/game-development-software/blog/best-free-open-source-game-development-software-solutions\n",
        "* https://github.com/Kavex/GameDev-Resources\n",
        "* https://www.freecodecamp.org/"
      ]
    }
  ],
  "metadata": {
    "colab": {
      "authorship_tag": "ABX9TyNxgGkDUUPMWjuq0XyZ1heH",
      "include_colab_link": true,
      "provenance": []
    },
    "kernelspec": {
      "display_name": "Python 3",
      "name": "python3"
    },
    "language_info": {
      "name": "python"
    }
  },
  "nbformat": 4,
  "nbformat_minor": 0
}

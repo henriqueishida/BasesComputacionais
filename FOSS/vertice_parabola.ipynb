{
  "cells": [
    {
      "attachments": {},
      "cell_type": "markdown",
      "metadata": {},
      "source": [
        "<a href=\"https://colab.research.google.com/github/BMClab/BasesComputacionais/blob/master/FOSS/vertice_parabola.ipynb\" target=\"_parent\"><img src=\"https://colab.research.google.com/assets/colab-badge.svg\" alt=\"Open In Colab\"/></a>"
      ]
    },
    {
      "cell_type": "markdown",
      "metadata": {
        "id": "WQUhGtvRv28v"
      },
      "source": [
        "##Alice de Oliveira Rodrigues\n",
        "\n",
        "#Projeto BCC\n",
        "\n",
        "Esse projeto tem como finalidade de encontrar as raizes e o vertice da parabola da função quadratica, da matéria de Bases Matematicas (BM)."
      ]
    },
    {
      "cell_type": "markdown",
      "metadata": {
        "id": "YlmNGU-hYmaq"
      },
      "source": [
        "##Súmario\n",
        "\n",
        "\n",
        "1. Função Quadrática\n",
        "2. Raízes da Função\n",
        "3. Vértice da Parábola\n",
        "4. Gráfico\n",
        "5. Referências\n",
        "\n"
      ]
    },
    {
      "cell_type": "code",
      "execution_count": null,
      "metadata": {
        "id": "9cSgogfh_sQj"
      },
      "outputs": [],
      "source": [
        "import math\n",
        "import numpy as np"
      ]
    },
    {
      "cell_type": "markdown",
      "metadata": {
        "id": "onCUUEvNY-h3"
      },
      "source": [
        "##Função Quadrática\n",
        "\n",
        "\n",
        "A função quadrática, também chamada de função polinomial de 2º grau, é uma função representada pela seguinte expressão:\n",
        "\n",
        "f(x) = ax2 + bx + c\n",
        "\n",
        "Onde a, b e c são números reais e a ≠ 0."
      ]
    },
    {
      "cell_type": "code",
      "execution_count": null,
      "metadata": {
        "colab": {
          "base_uri": "https://localhost:8080/"
        },
        "id": "omrhWP_2eSHY",
        "outputId": "56f90c11-08b1-44d9-80ea-12030f7345fe"
      },
      "outputs": [
        {
          "name": "stdout",
          "output_type": "stream",
          "text": [
            "digite o valor de a²\n",
            "1\n"
          ]
        }
      ],
      "source": [
        "while True:\n",
        "\n",
        "    a=input(\"digite o valor de a²\\n\")\n",
        "    try:\n",
        "     a = int(a)\n",
        "     break\n",
        "    except:\n",
        "      print(\"Digite apenas numeros\\n\")\n",
        "      continue\n",
        "\n"
      ]
    },
    {
      "cell_type": "code",
      "execution_count": null,
      "metadata": {
        "colab": {
          "base_uri": "https://localhost:8080/"
        },
        "id": "9HY3FHQsoE6O",
        "outputId": "c7161075-248b-4816-971b-89c74faf1c76"
      },
      "outputs": [
        {
          "name": "stdout",
          "output_type": "stream",
          "text": [
            "digite o valor de b\n",
            "2\n"
          ]
        }
      ],
      "source": [
        "while True:\n",
        "\n",
        "    b=input(\"digite o valor de b\\n\")\n",
        "    try:\n",
        "     b = int(b)\n",
        "     break\n",
        "    except:\n",
        "      print((\"Digite apenas numeros\\n\"))\n",
        "    continue"
      ]
    },
    {
      "cell_type": "code",
      "execution_count": null,
      "metadata": {
        "colab": {
          "base_uri": "https://localhost:8080/"
        },
        "id": "jOnr6TlmoHgd",
        "outputId": "23da69a9-b5ec-4094-8762-9ddf224c22c9"
      },
      "outputs": [
        {
          "name": "stdout",
          "output_type": "stream",
          "text": [
            "digite o valor de c\n",
            "-15\n",
            "A sua função é 1x²2x-15\n"
          ]
        }
      ],
      "source": [
        "while True:\n",
        "\n",
        "    c=input(\"digite o valor de c\\n\")\n",
        "    try:\n",
        "     c = int(c)\n",
        "     print(f\"A sua função é {a}x²{b}x{c}\")\n",
        "     break\n",
        "    except:\n",
        "     print(\"Digite apenas numeros\\n\")\n",
        "    continue"
      ]
    },
    {
      "cell_type": "markdown",
      "metadata": {
        "id": "tcUTZYcNjjqb"
      },
      "source": [
        "##Raizes da Função\n",
        "\n",
        "As raízes ou zeros da função do segundo grau representam aos valores de x tais que f(x) = 0. As raízes da função são determinadas pela resolução da equação de segundo grau:\n",
        "\n",
        "f(x) = ax2 +bx + c = 0\n",
        "\n",
        "Para resolver a equação do 2º grau podemos utilizar vários métodos, sendo um dos mais utilizados é aplicando a Fórmula de Bhaskara, ou seja:\n",
        "\n",
        "![image.png](data:image/png;base64,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)"
      ]
    },
    {
      "cell_type": "code",
      "execution_count": null,
      "metadata": {
        "colab": {
          "base_uri": "https://localhost:8080/"
        },
        "id": "Q6crOiPxq3go",
        "outputId": "d64b32b7-440f-4bc0-e542-5022bcdd1456"
      },
      "outputs": [
        {
          "data": {
            "text/plain": [
              "64"
            ]
          },
          "execution_count": 24,
          "metadata": {},
          "output_type": "execute_result"
        }
      ],
      "source": [
        "delta = b**2 - 4 * a * c\n",
        "delta"
      ]
    },
    {
      "cell_type": "code",
      "execution_count": null,
      "metadata": {
        "colab": {
          "base_uri": "https://localhost:8080/"
        },
        "id": "AF2o7gXtr_XF",
        "outputId": "9021878c-c714-4d86-92d9-ee126e0e89d7"
      },
      "outputs": [
        {
          "name": "stdout",
          "output_type": "stream",
          "text": [
            "As raizes da equacao sao  3.0 e -5.0\n"
          ]
        }
      ],
      "source": [
        "if delta < 0:\n",
        "    print(\"A equação não possui raizes reais.\")\n",
        "elif delta == 0:\n",
        "    raiz = (-1*b + math.sqrt(delta))/(2 * a)\n",
        "    print(\"A equacao possui apenas uma raiz que e \",raiz)\n",
        "elif delta > 0:\n",
        "    x1 =(-1*b + math.sqrt(delta))/(2 * a)\n",
        "    x2 =(-1*b - math.sqrt(delta))/(2 * a)\n",
        "   \n",
        "    print(\"As raizes da equacao sao \",x1, \"e\",x2)\n"
      ]
    },
    {
      "cell_type": "markdown",
      "metadata": {
        "id": "x9Ly2kqfj2Bw"
      },
      "source": [
        "## Vértice da Parábola\n",
        "\n",
        "Os vertices da parabola são necessários para encontar o ponto máximo e ponto minimo da mesma \n",
        "\n",
        "![image.png](data:image/png;base64,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)"
      ]
    },
    {
      "cell_type": "code",
      "execution_count": null,
      "metadata": {
        "colab": {
          "base_uri": "https://localhost:8080/"
        },
        "id": "rYlnImSBwoZd",
        "outputId": "5c0df5cb-12a7-4072-f5f9-c8713e6ee246"
      },
      "outputs": [
        {
          "name": "stdout",
          "output_type": "stream",
          "text": [
            "as coordenadas da vertice da parabola é  -1.0 e -16.0\n"
          ]
        }
      ],
      "source": [
        "xv= -b/2*a\n",
        "yv= -delta/4*a\n",
        "print(\"as coordenadas da vertice da parabola é \",xv, \"e\" ,yv)"
      ]
    },
    {
      "cell_type": "markdown",
      "metadata": {
        "id": "khVIyzOmRLL5"
      },
      "source": [
        "##Gráfico\n",
        "\n",
        "O vértice irá representar o ponto de valor máximo da função quando a parábola estiver voltada para baixo e o valor mínimo quando estiver para cima.\n",
        "\n",
        "É possível identificar a posição da concavidade da curva analisando apenas o sinal do coeficiente a. Se o coeficiente for positivo, a concavidade ficará voltada para cima e se for negativo ficará para baixo, ou seja:\n"
      ]
    },
    {
      "cell_type": "code",
      "execution_count": null,
      "metadata": {
        "id": "FTlbgDCh8ig9"
      },
      "outputs": [],
      "source": [
        "import numpy as np\n",
        "import matplotlib.pyplot as plt"
      ]
    },
    {
      "cell_type": "code",
      "execution_count": null,
      "metadata": {
        "colab": {
          "base_uri": "https://localhost:8080/",
          "height": 600
        },
        "id": "QyJ3uTFx8kmi",
        "outputId": "d6c0ec75-1662-4383-e53a-0c871bbbd528"
      },
      "outputs": [
        {
          "data": {
            "image/png": "[encoded data removed]",
            "text/plain": [
              "<Figure size 720x720 with 1 Axes>"
            ]
          },
          "metadata": {},
          "output_type": "display_data"
        }
      ],
      "source": [
        "xmin, xmax, ymin, ymax = -8, 8, -20, 20\n",
        "ticks_frequency = 2\n",
        "\n",
        "fig, ax = plt.subplots(figsize=(10, 10))\n",
        "fig.patch.set_facecolor('#ffffff')\n",
        "\n",
        "ax.set(xlim=(xmin-1, xmax+1), ylim=(ymin-1, ymax+1), aspect='equal')\n",
        "\n",
        "ax.spines['bottom'].set_position('zero')\n",
        "ax.spines['left'].set_position('zero')\n",
        "\n",
        "ax.spines['top'].set_visible(False)\n",
        "ax.spines['right'].set_visible(False)\n",
        "\n",
        "ax.set_xlabel('$x$', size=14, labelpad=-24, x=1.02)\n",
        "ax.set_ylabel('$y$', size=14, labelpad=-21, y=1.02, rotation=0)\n",
        " \n",
        "plt.text(0.49, 0.49, r\"$O$\", ha='right', va='top',\n",
        "    transform=ax.transAxes,\n",
        "         horizontalalignment='center', fontsize=14)\n",
        "\n",
        "x_ticks = np.arange(xmin, xmax+1, ticks_frequency)\n",
        "y_ticks = np.arange(ymin, ymax+1, ticks_frequency)\n",
        "ax.set_xticks(x_ticks[x_ticks != 0])\n",
        "ax.set_yticks(y_ticks[y_ticks != 0])\n",
        "ax.set_xticks(np.arange(xmin, xmax+1), minor=True)\n",
        "ax.set_yticks(np.arange(ymin, ymax+1), minor=True)\n",
        "\n",
        "ax.grid(which='both', color='grey', linewidth=1, linestyle='-', alpha=0.2)\n",
        "\n",
        "def plot_quadratic_eq(a, b, c, clr):\n",
        "    x = list(range(-10, 11))\n",
        "    y = [ (a*i**2 + b*i + c) for i in x]\n",
        "    plt.plot(x, y, label='linear', linestyle='-', color=clr)\n",
        "    plt.grid()\n",
        "\n",
        "\n",
        "a = 1  #escolha os valores de a, b, c para ter a visualização do gráfico\n",
        "b = 2\n",
        "c = -15\n",
        "\n",
        "plt.grid()\n",
        "plot_quadratic_eq(a, b, c, 'r')\n",
        "plt.show(block=False)\n",
        "plt.pause(5)\n",
        "plt.close()\n"
      ]
    },
    {
      "cell_type": "code",
      "execution_count": null,
      "metadata": {
        "colab": {
          "base_uri": "https://localhost:8080/",
          "height": 600
        },
        "id": "u-DBoAt-TIMj",
        "outputId": "5dd28795-c471-4612-a0f5-e837bd2bf93f"
      },
      "outputs": [
        {
          "data": {
            "image/png": "[encoded data removed]",
            "text/plain": [
              "<Figure size 720x720 with 1 Axes>"
            ]
          },
          "metadata": {},
          "output_type": "display_data"
        }
      ],
      "source": [
        "xmin, xmax, ymin, ymax = -8, 8, -21, 21\n",
        "ticks_frequency = 2\n",
        "\n",
        "fig, ax = plt.subplots(figsize=(10, 10))\n",
        "fig.patch.set_facecolor('#ffffff')\n",
        "\n",
        "ax.set(xlim=(xmin-1, xmax+1), ylim=(ymin-1, ymax+1), aspect='equal')\n",
        "\n",
        "ax.spines['bottom'].set_position('zero')\n",
        "ax.spines['left'].set_position('zero')\n",
        "\n",
        "ax.spines['top'].set_visible(False)\n",
        "ax.spines['right'].set_visible(False)\n",
        "\n",
        "ax.set_xlabel('$x$', size=14, labelpad=-24, x=1.02)\n",
        "ax.set_ylabel('$y$', size=14, labelpad=-21, y=1.02, rotation=0)\n",
        " \n",
        "plt.text(0.49, 0.49, r\"$O$\", ha='right', va='top',\n",
        "    transform=ax.transAxes,\n",
        "         horizontalalignment='center', fontsize=14)\n",
        "\n",
        "x_ticks = np.arange(xmin, xmax+1, ticks_frequency)\n",
        "y_ticks = np.arange(ymin, ymax+1, ticks_frequency)\n",
        "ax.set_xticks(x_ticks[x_ticks != 0])\n",
        "ax.set_yticks(y_ticks[y_ticks != 0])\n",
        "ax.set_xticks(np.arange(xmin, xmax+1), minor=True)\n",
        "ax.set_yticks(np.arange(ymin, ymax+1), minor=True)\n",
        "\n",
        "ax.grid(which='both', color='grey', linewidth=1, linestyle='solid', alpha=0.2)\n",
        "\n",
        "def plot_quadratic_eq(a, b, c, clr):\n",
        "    x = list(range(-10, 11))\n",
        "    y = [ (a*i**2 + b*i + c) for i in x]\n",
        "    plt.plot(x, y, label='linear', linestyle='solid', color=clr)\n",
        "    plt.grid()\n",
        "\n",
        "a = -1\n",
        "b = 2\n",
        "c = 15\n",
        "\n",
        "plt.grid()\n",
        "plot_quadratic_eq(a, b, c, 'b')\n",
        "plt.show(block=False)\n",
        "plt.pause(5)\n",
        "plt.close()"
      ]
    },
    {
      "cell_type": "markdown",
      "metadata": {
        "id": "XnLGS1sGk8c5"
      },
      "source": [
        "##Referências\n",
        "\n",
        "[Cálculo da Função Quadrática](https://www.todamateria.com.br/funcao-quadratica/)\n",
        "\n",
        "[Coordenadas plano cartesiano](https://https://pygmalion.nitri.org/cartesian-coordinates-with-matplotlib-1263.html)\n"
      ]
    }
  ],
  "metadata": {
    "colab": {
      "provenance": []
    },
    "kernelspec": {
      "display_name": "Python 3",
      "language": "python",
      "name": "python3"
    },
    "language_info": {
      "name": "python",
      "version": "3.10.7 (main, Nov 24 2022, 19:45:47) [GCC 12.2.0]"
    },
    "vscode": {
      "interpreter": {
        "hash": "916dbcbb3f70747c44a77c7bcd40155683ae19c65e1c03b4aa3499c5328201f1"
      }
    }
  },
  "nbformat": 4,
  "nbformat_minor": 0
}

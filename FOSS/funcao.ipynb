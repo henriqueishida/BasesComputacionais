{
  "cells": [
    {
      "attachments": {},
      "cell_type": "markdown",
      "metadata": {
        "colab_type": "text",
        "id": "view-in-github"
      },
      "source": [
        "<a href=\"https://colab.research.google.com/github/BMClab/BasesComputacionais/blob/master/FOSS/funcao.ipynb\" target=\"_parent\"><img src=\"https://colab.research.google.com/assets/colab-badge.svg\" alt=\"Open In Colab\"/></a>"
      ]
    },
    {
      "cell_type": "markdown",
      "metadata": {
        "id": "7D3dKmKd0HqC"
      },
      "source": [
        "**Projeto Final da disciplina Bases Computacionais da Ciência** - Tema: Bases Matemáticas (função de primeiro grau)"
      ]
    },
    {
      "cell_type": "markdown",
      "metadata": {
        "id": "Wje1S9vf4ti2"
      },
      "source": [
        "Nome: Mateus Rocha Amorim\n",
        "RA: 11201922292"
      ]
    },
    {
      "cell_type": "markdown",
      "metadata": {
        "id": "tDeJANCp49Bc"
      },
      "source": [
        "Professor: Marcos Duarte"
      ]
    },
    {
      "cell_type": "markdown",
      "metadata": {
        "id": "iATA5m8v5GcE"
      },
      "source": [
        "# **Índice**\n",
        "\n",
        "\n",
        "\n",
        "*   O que é uma função\n",
        "*   Função de 1º Grau\n",
        "*   O que é a biblioteca numpy\n",
        "*   Construção da função em Python\n",
        "*   Objetivo\n",
        "*   Referências\n",
        "\n",
        "\n",
        "\n",
        "\n",
        "\n",
        "\n"
      ]
    },
    {
      "cell_type": "markdown",
      "metadata": {
        "id": "g5NlrFHo_txM"
      },
      "source": [
        "# **O que é uma função:**"
      ]
    },
    {
      "cell_type": "markdown",
      "metadata": {
        "id": "BoyjIfwgEaz2"
      },
      "source": [
        "Uma função matemática corresponde a uma associação dos elementos de dois conjuntos, ela demonstra como os elementos estão relacionados. Por exemplo, uma função de um conjunto X em um conjunto Y significa uma associação dos elementos de X a algum elemento do conjunto Y. No entanto, um elemento de X não pode estar ligado a dois elementos de Y. "
      ]
    },
    {
      "cell_type": "markdown",
      "metadata": {
        "id": "qrV0qRkTK9xL"
      },
      "source": [
        "Nessa associação de X em Y, denominamos o conjunto X como **Domínio** e o conjunto Y como **Contra-domínio**. O elemento de Y que corresponde ao elemento de X será chamado de **Imagem**\n",
        "<figure><center><img src=\"https://upload.wikimedia.org/wikipedia/commons/thumb/d/df/Function_color_example_3.svg/220px-Function_color_example_3.svg.png\"/></center></figure> "
      ]
    },
    {
      "cell_type": "markdown",
      "metadata": {
        "id": "agVbz5zdOybp"
      },
      "source": [
        "# **Exemplo:**"
      ]
    },
    {
      "cell_type": "markdown",
      "metadata": {
        "id": "BIh3KjQUPFaK"
      },
      "source": [
        "Um conjunto A tem os elementos 1,2,3,4 e B tem os elementos 1,2,3,4,5,6,7,8. A função que determina a associação de A em B é determinada por F(X) = 2X, sendo X a variável de A que será transformada em 2X no conjunto B. Isso significa que para cada valor de X em A, haverá um valor correspondente multiplicado por 2 em B. No entanto, apenas os elementos de B que respeitam os critérios da função são a imagem de A.\n",
        "<figure><center><img src=\"https://static.todamateria.com.br/upload/oq/ue/oqueeeoquenaoeumafuncao.jpg?auto_optimize=low\"/></center></figure> "
      ]
    },
    {
      "cell_type": "markdown",
      "metadata": {
        "id": "6EALa0usR4ZE"
      },
      "source": [
        "# **Função de 1º Grau:**"
      ]
    },
    {
      "cell_type": "markdown",
      "metadata": {
        "id": "JLRRm097SA8e"
      },
      "source": [
        "Uma função de 1º grau (também chamada de função Afim) é uma associação entre os elementos de dois conjuntos, onde o critério da função será representado pela fórmula Y = AX + B. Nesta fórmula, o Y representa os elementos do contradomínio(imagem), X os elementos do domínio, A o coeficiente angular e B o coeficiente linear. Ou seja, em um plano cartesiano o eixo das ordenadas seria representado pelo Y e o eixo das abscissas pelo X. Será formada uma reta decorrente dos pontos onde o critério da função foi respeitado. \n",
        "<figure><center><img src=\"https://i.ytimg.com/vi/aEJb9MU2YQI/maxresdefault.jpg\"/></center></figure>  "
      ]
    },
    {
      "cell_type": "markdown",
      "metadata": {
        "id": "G9uCZVh4Whlm"
      },
      "source": [
        "# **O que é a biblioteca numpy:**"
      ]
    },
    {
      "cell_type": "markdown",
      "metadata": {
        "id": "jtmVrKBzbC8G"
      },
      "source": [
        "A biblioteca numpy é uma ferramenta da linguagem de programação Python que nos permite utilizar algumas funções para facilitar a criação de códigos com números. Uma dessas ferramentas é a função linspace, a qual retorna números espaçados de modo uniforme em um intervalo. Dessa forma, dado um ponto inicial e de parada, assim como a quantidade de valores, linspace irá distribuí-los uniformemente para você em uma matriz NumPy. Ela será útil para estabelecermos os elementos de um conjunto na criação dA função/gráfico em Python."
      ]
    },
    {
      "cell_type": "markdown",
      "metadata": {
        "id": "PQ6yKKCudKJA"
      },
      "source": [
        "# **Construção da Função de primeiro grau em Python:**"
      ]
    },
    {
      "cell_type": "code",
      "execution_count": 2,
      "metadata": {
        "id": "yQXyAkCidevX"
      },
      "outputs": [],
      "source": [
        "import numpy as np #importando a biblioteca numpy\n",
        "a = 2 #atribuindo um valor ao coeficiente angular, a inclinação da reta\n",
        "b = 0  #atribuindo um valor ao coeficiente linear, o ponto que corta o eixo y\n",
        "x = np.linspace(-10,10,20)#utilizando a função linspace para criar os elementos do conjunto X (a função criará um intervalo de -10 até 10 com 20 números)\n",
        "y = a*x+b #utilizando a equação que definirá  os valores do conjunto de imagem Y"
      ]
    },
    {
      "cell_type": "markdown",
      "metadata": {
        "id": "Fpj4yH5liou5"
      },
      "source": [
        "A função está criada, no entanto não conseguimos ver o seu gráfico. Para isso, será necessário utilizar mais uma fórmula do Python chamada de \"matplotlib.pyplot\"."
      ]
    },
    {
      "cell_type": "code",
      "execution_count": 3,
      "metadata": {
        "colab": {
          "base_uri": "https://localhost:8080/",
          "height": 282
        },
        "id": "lTdnL4trjbZi",
        "outputId": "8e662271-5192-4515-f296-d6fa506708e6"
      },
      "outputs": [
        {
          "data": {
            "text/plain": [
              "[<matplotlib.lines.Line2D at 0x7f5692699dc0>]"
            ]
          },
          "execution_count": 3,
          "metadata": {},
          "output_type": "execute_result"
        },
        {
          "data": {
            "image/png": "[encoded data removed]",
            "text/plain": [
              "<Figure size 432x288 with 1 Axes>"
            ]
          },
          "metadata": {
            "needs_background": "light"
          },
          "output_type": "display_data"
        }
      ],
      "source": [
        "import numpy as np #importando a biblioteca numpy\n",
        "a = 2 #atribuindo um valor ao coeficiente angular, a inclinação da reta\n",
        "b = 0  #atribuindo um valor ao coeficiente linear, o ponto que corta o eixo y\n",
        "x = np.linspace(-10,10,20)#utilizando a função linspace para criar os elementos do conjunto X (a função criará um intervalo de -10 até 10 com 20 números)\n",
        "y = a*x+b #utilizando a equação que definirá  os valores do conjunto de imagem Y\n",
        "import matplotlib.pyplot as plt #importando a biblioteca matplotlib.pyplot de uma forma abreviada\n",
        "plt.plot(x,y) #utilização do comando do comando plot da biblioteca matplotlib.pyplot. Ele serve para fazer com que o gráfico apareça na tela."
      ]
    },
    {
      "cell_type": "markdown",
      "metadata": {
        "id": "E13fv-UbkZG7"
      },
      "source": [
        "Pronto! Agora o gráfico está pronto. Percebe-se que a função que utilizamos para criá-lo é definida por F(X) = 2X+0, ou seja se o elemento de A (x) for -10 a imagem (y) será -20. O comando executará a função por todo o intervalo criado pela função linspace, determinando assim uma reta. Para criar uma função e gráfico diferentes, basta mudar os valores de a,b e x (utilizando linspace). Exemplo:"
      ]
    },
    {
      "cell_type": "code",
      "execution_count": 4,
      "metadata": {
        "colab": {
          "base_uri": "https://localhost:8080/",
          "height": 282
        },
        "id": "XjjzAFcMlysC",
        "outputId": "564d4492-fc7e-4e18-8e41-075478989a12"
      },
      "outputs": [
        {
          "data": {
            "text/plain": [
              "[<matplotlib.lines.Line2D at 0x7f5692132df0>]"
            ]
          },
          "execution_count": 4,
          "metadata": {},
          "output_type": "execute_result"
        },
        {
          "data": {
            "image/png": "[encoded data removed]",
            "text/plain": [
              "<Figure size 432x288 with 1 Axes>"
            ]
          },
          "metadata": {
            "needs_background": "light"
          },
          "output_type": "display_data"
        }
      ],
      "source": [
        "import numpy as np #importando a biblioteca numpy\n",
        "a = 3 #atribuindo um valor ao coeficiente angular, a inclinação da reta\n",
        "b = 1  #atribuindo um valor ao coeficiente linear, o ponto que corta o eixo y\n",
        "x = np.linspace(-20,20,20)#utilizando a função linspace para criar os elementos do conjunto X (a função criará um intervalo de -10 até 10 com 20 números)\n",
        "y = a*x+b #utilizando a equação que definirá  os valores do conjunto de imagem Y\n",
        "import matplotlib.pyplot as plt #importando a biblioteca matplotlib.pyplot de uma forma abreviada\n",
        "plt.plot(x,y) #utilização do comando do comando plot da biblioteca matplotlib.pyplot. Ele serve para fazer com que o gráfico apareça na tela."
      ]
    },
    {
      "cell_type": "markdown",
      "metadata": {
        "id": "cKBkoT8SmCPY"
      },
      "source": [
        "Note que acima troquei os valores de a,b e x. O gráfico da função ficou diferente pois os elementos do domínio e da imagem foram alterados."
      ]
    },
    {
      "cell_type": "markdown",
      "metadata": {
        "id": "I2mLOYEymnkO"
      },
      "source": [
        "# **Objetivo:**"
      ]
    },
    {
      "cell_type": "markdown",
      "metadata": {
        "id": "UbYmraJ6mrpS"
      },
      "source": [
        "O objetivo deste trabalho foi criar uma ferramenta simples para auxiliar no entendimento de um tópico da disciplina Bases Matemáticas. A partir de uma explicação didática e uma oportunidade de praticá-la programando em Python, os alunos do BCT e BCH terão sua aprendizagem facilitada e desenvolverão uma aptidão básica à computação."
      ]
    },
    {
      "cell_type": "markdown",
      "metadata": {
        "id": "9pE7s86lnj9f"
      },
      "source": [
        "# **Referencias:**"
      ]
    },
    {
      "cell_type": "markdown",
      "metadata": {
        "id": "zyE3eahZnnGi"
      },
      "source": [
        "CAPUTI, A.; MIRANDA, D. - **Bases Matemáticas**, UFABC 2017"
      ]
    }
  ],
  "metadata": {
    "colab": {
      "authorship_tag": "ABX9TyMpy8ZAT+peu9hRlWpYYWYf",
      "include_colab_link": true,
      "provenance": []
    },
    "kernelspec": {
      "display_name": "Python 3",
      "name": "python3"
    },
    "language_info": {
      "name": "python"
    }
  },
  "nbformat": 4,
  "nbformat_minor": 0
}

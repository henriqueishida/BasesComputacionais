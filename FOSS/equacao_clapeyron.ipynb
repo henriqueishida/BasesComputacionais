{
 "cells": [
  {
   "attachments": {},
   "cell_type": "markdown",
   "id": "1c7994ec",
   "metadata": {},
   "source": [
    "<a href=\"https://colab.research.google.com/github/BMClab/BasesComputacionais/blob/master/FOSS/equacao_clapeyron.ipynb\" target=\"_parent\"><img src=\"https://colab.research.google.com/assets/colab-badge.svg\" alt=\"Open In Colab\"/></a>"
   ]
  },
  {
   "cell_type": "markdown",
   "id": "d84565e9",
   "metadata": {},
   "source": [
    "Phelip Oliveira de Moraes Souza Leite  RA:20221112474\n",
    "Pedro Pontes Sakamoto                  RA:11202231695 \n"
   ]
  },
  {
   "cell_type": "markdown",
   "id": "453497e0",
   "metadata": {},
   "source": [
    "# Estrutura da matéria: Comportamento dos gases\n",
    "Este Notebook tem como objetivo facilitar o estudo dos alunos da Universidade Federal do ABC, na matéria de Estrutura da Matéria"
   ]
  },
  {
   "cell_type": "markdown",
   "id": "b488343d",
   "metadata": {},
   "source": [
    "# Comportamento dos Gases\n",
    "\n",
    "Gases são substâncias que estão no estado físico gasoso da matéria e que têm como principal característica a existência de grandes espaços vazios entre as partículas. Em razão disso, as moléculas que compõem os gases interagem muito pouco umas com as outras.\n",
    "\n",
    "Em razão da reduzida interação entre as partículas, os gases não possuem forma e volume definidos e ocupam totalmente qualquer recipiente que os contenha. Os gases são altamente compressíveis e possuem menor densidade em comparação a líquidos e sólidos. \n",
    "\n",
    "Alterações de pressão, temperatura e volume de um sistema interferem no comportamento dos gases, sendo tais mudanças previstas pela equação dos gases ideais, em que se assume a ausência de interações intermoleculares sob condições de alta temperatura e baixa pressão.\n",
    "\n",
    "# Equação de Clapeyron: lei dos gases ideais\n",
    "\n",
    "A equação de Clapeyron é derivada de três leis empíricas, isto é, leis que foram determinadas a partir de experimentos. Tais leis explicam o comportamento dos gases em transformações gasosas isovolumétricas (lei de Gay-Lussac), isobáricas (lei de Charles) e isotérmicas (lei de Boyle). De acordo com essas leis:\n",
    "\n",
    "-nas transformações isovolumétricas, a razão entre pressão e temperatura termodinâmica de um gás ideal permanece constante;\n",
    "\n",
    "-nas transformações isobáricas, a razão entre o volume e a temperatura termodinâmica de um gás ideal é constante;\n",
    "\n",
    "-nas transformações isotérmicas, o produto da pressão pelo volume de um gás ideal permanece constante\"\n",
    "\n",
    "# Fórmula\n",
    "Confira a seguir a fórmula que é conhecida como equação de Clapeyron:\"\n",
    "\n",
    "### - n= numero de mols\n",
    "### - R = \"constante universal dos gases ideais (R = 0,082 atm.l/mol.K ou 8,314 J.mol/K)\"\n",
    "### - P = Pressão \n",
    "### - V = Volume \n",
    "### - T = Temperatura em Kelvin \n",
    "\n",
    "## Sendo a equação de Clayperon: PV=nRT\n",
    "\n",
    "#### Portanto para facilitar a conta, basta subtituir as variáveis no código abaixo : \n",
    "##### É necessário se atentar ás unidades de medidas"
   ]
  },
  {
   "cell_type": "code",
   "execution_count": null,
   "id": "258918f1",
   "metadata": {},
   "outputs": [],
   "source": [
    "import math\n",
    "import numpy as np\n",
    "\n",
    "# Coloque 0 na variavel que será calculada\n",
    "\n",
    "p = float(input(\"pressão:\"))\n",
    "v = float(input(\"volume:\"))\n",
    "n = float(input(\"número de mols:\"))\n",
    "r = 0.082\n",
    "t = float(input(\"temperatura(em Kelvin):\")) \n",
    "if p == 0:\n",
    "     print(\"Resultado:\", n*r*t/v)\n",
    "elif v == 0:\n",
    "    print(\"Resultado\", n*r*t/p)"
   ]
  }
 ],
 "metadata": {
  "kernelspec": {
   "display_name": "Python 3 (ipykernel)",
   "language": "python",
   "name": "python3"
  },
  "language_info": {
   "codemirror_mode": {
    "name": "ipython",
    "version": 3
   },
   "file_extension": ".py",
   "mimetype": "text/x-python",
   "name": "python",
   "nbconvert_exporter": "python",
   "pygments_lexer": "ipython3",
   "version": "3.9.13"
  }
 },
 "nbformat": 4,
 "nbformat_minor": 5
}

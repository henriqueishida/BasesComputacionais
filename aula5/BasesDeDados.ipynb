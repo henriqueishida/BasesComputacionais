{
 "cells": [
  {
   "cell_type": "markdown",
   "metadata": {
    "slideshow": {
     "slide_type": "slide"
    }
   },
   "source": [
    "# Bases Computacionais: bases de dados\n",
    "\n",
    "Renato Naville Watanabe"
   ]
  },
  {
   "cell_type": "markdown",
   "metadata": {
    "slideshow": {
     "slide_type": "slide"
    },
    "toc": true
   },
   "source": [
    "<h1>Contents<span class=\"tocSkip\"></span></h1>\n",
    "<div class=\"toc\"><ul class=\"toc-item\"><li><span><a href=\"#Bases-de-dados\" data-toc-modified-id=\"Bases-de-dados-1\"><span class=\"toc-item-num\">1&nbsp;&nbsp;</span>Bases de dados</a></span><ul class=\"toc-item\"><li><span><a href=\"#Exemplos-de-base-de-dados-(sistemas-computacionais)\" data-toc-modified-id=\"Exemplos-de-base-de-dados-(sistemas-computacionais)-1.1\"><span class=\"toc-item-num\">1.1&nbsp;&nbsp;</span>Exemplos de base de dados (sistemas computacionais)</a></span></li><li><span><a href=\"#Tabelas\" data-toc-modified-id=\"Tabelas-1.2\"><span class=\"toc-item-num\">1.2&nbsp;&nbsp;</span>Tabelas</a></span></li><li><span><a href=\"#Exemplo-de-tabela\" data-toc-modified-id=\"Exemplo-de-tabela-1.3\"><span class=\"toc-item-num\">1.3&nbsp;&nbsp;</span>Exemplo de tabela</a></span></li><li><span><a href=\"#Organização-de-dados\" data-toc-modified-id=\"Organização-de-dados-1.4\"><span class=\"toc-item-num\">1.4&nbsp;&nbsp;</span>Organização de dados</a></span></li><li><span><a href=\"#Tipos-de-dados\" data-toc-modified-id=\"Tipos-de-dados-1.5\"><span class=\"toc-item-num\">1.5&nbsp;&nbsp;</span>Tipos de dados</a></span></li><li><span><a href=\"#Pandas\" data-toc-modified-id=\"Pandas-1.6\"><span class=\"toc-item-num\">1.6&nbsp;&nbsp;</span>Pandas</a></span></li><li><span><a href=\"#Acessando-os-valores-de-um-campo\" data-toc-modified-id=\"Acessando-os-valores-de-um-campo-1.7\"><span class=\"toc-item-num\">1.7&nbsp;&nbsp;</span>Acessando os valores de um campo</a></span></li><li><span><a href=\"#Arquivos-estruturados\" data-toc-modified-id=\"Arquivos-estruturados-1.8\"><span class=\"toc-item-num\">1.8&nbsp;&nbsp;</span>Arquivos estruturados</a></span></li><li><span><a href=\"#Carregando-arquivos-CSV\" data-toc-modified-id=\"Carregando-arquivos-CSV-1.9\"><span class=\"toc-item-num\">1.9&nbsp;&nbsp;</span>Carregando arquivos CSV</a></span></li><li><span><a href=\"#Manipulação-dos-dados\" data-toc-modified-id=\"Manipulação-dos-dados-1.10\"><span class=\"toc-item-num\">1.10&nbsp;&nbsp;</span>Manipulação dos dados</a></span></li><li><span><a href=\"#Consultas\" data-toc-modified-id=\"Consultas-1.11\"><span class=\"toc-item-num\">1.11&nbsp;&nbsp;</span>Consultas</a></span></li><li><span><a href=\"#Ordenação\" data-toc-modified-id=\"Ordenação-1.12\"><span class=\"toc-item-num\">1.12&nbsp;&nbsp;</span>Ordenação</a></span></li><li><span><a href=\"#Lidando-com-datas\" data-toc-modified-id=\"Lidando-com-datas-1.13\"><span class=\"toc-item-num\">1.13&nbsp;&nbsp;</span>Lidando com datas</a></span></li><li><span><a href=\"#Contando-valores-iguais\" data-toc-modified-id=\"Contando-valores-iguais-1.14\"><span class=\"toc-item-num\">1.14&nbsp;&nbsp;</span>Contando valores iguais</a></span></li><li><span><a href=\"#Criando-um-novo-campo\" data-toc-modified-id=\"Criando-um-novo-campo-1.15\"><span class=\"toc-item-num\">1.15&nbsp;&nbsp;</span>Criando um novo campo</a></span></li><li><span><a href=\"#Selecionando-um-valor-de-uma-coluna\" data-toc-modified-id=\"Selecionando-um-valor-de-uma-coluna-1.16\"><span class=\"toc-item-num\">1.16&nbsp;&nbsp;</span>Selecionando um valor de uma coluna</a></span></li><li><span><a href=\"#Mostrando-o-começo-ou-o-fim-de-uma-tabela\" data-toc-modified-id=\"Mostrando-o-começo-ou-o-fim-de-uma-tabela-1.17\"><span class=\"toc-item-num\">1.17&nbsp;&nbsp;</span>Mostrando o começo ou o fim de uma tabela</a></span></li><li><span><a href=\"#Contando-os-itens-de-uma-tabela-do-Pandas\" data-toc-modified-id=\"Contando-os-itens-de-uma-tabela-do-Pandas-1.18\"><span class=\"toc-item-num\">1.18&nbsp;&nbsp;</span>Contando os itens de uma tabela do Pandas</a></span></li><li><span><a href=\"#Tipos-de-dados\" data-toc-modified-id=\"Tipos-de-dados-1.19\"><span class=\"toc-item-num\">1.19&nbsp;&nbsp;</span>Tipos de dados</a></span></li><li><span><a href=\"#Visualizando-os-tipos-de-cada-campo\" data-toc-modified-id=\"Visualizando-os-tipos-de-cada-campo-1.20\"><span class=\"toc-item-num\">1.20&nbsp;&nbsp;</span>Visualizando os tipos de cada campo</a></span></li><li><span><a href=\"#Agrupamento\" data-toc-modified-id=\"Agrupamento-1.21\"><span class=\"toc-item-num\">1.21&nbsp;&nbsp;</span>Agrupamento</a></span><ul class=\"toc-item\"><li><span><a href=\"#As-funções-possíveis-de-se-usar-com-o-comando-groupby()-são:\" data-toc-modified-id=\"As-funções-possíveis-de-se-usar-com-o-comando-groupby()-são:-1.21.1\"><span class=\"toc-item-num\">1.21.1&nbsp;&nbsp;</span>As funções possíveis de se usar com o comando groupby() são:</a></span></li></ul></li><li><span><a href=\"#Tarefa-(para-agora)\" data-toc-modified-id=\"Tarefa-(para-agora)-1.22\"><span class=\"toc-item-num\">1.22&nbsp;&nbsp;</span>Tarefa (para agora)</a></span></li><li><span><a href=\"#Tarefa-(para-antes-da-próxima-aula)\" data-toc-modified-id=\"Tarefa-(para-antes-da-próxima-aula)-1.23\"><span class=\"toc-item-num\">1.23&nbsp;&nbsp;</span>Tarefa (para antes da próxima aula)</a></span></li><li><span><a href=\"#Referências\" data-toc-modified-id=\"Referências-1.24\"><span class=\"toc-item-num\">1.24&nbsp;&nbsp;</span>Referências</a></span></li></ul></li></ul></div>"
   ]
  },
  {
   "cell_type": "markdown",
   "metadata": {
    "slideshow": {
     "slide_type": "slide"
    }
   },
   "source": [
    "## Bases de dados\n",
    "\n",
    "Termo utilizado para indicar um aglomerado, ou conjunto, de dados que deve ser manipulado pelo computador.\n",
    "\n",
    "Pode ser definida como qualquer conjunto de dados para o qual se deseja:\n",
    "\n",
    "- Armazenar\n",
    "\n",
    "- Recuperar\n",
    "\n",
    "- Visualizar\n",
    "\n",
    "conteúdo."
   ]
  },
  {
   "cell_type": "markdown",
   "metadata": {
    "slideshow": {
     "slide_type": "slide"
    }
   },
   "source": [
    "**Exemplo (sem uso de computador): Lista de supermercado**\n",
    "\n",
    "é uma base simples.\n",
    "\n",
    "- Armazenamento (persistência): permite uso futuro.\n",
    "\n",
    "- Recuperação: acesso deve ser rápido e preciso.\n",
    "\n",
    "- Visualização: forma de apresentação.\n",
    "\n",
    "![lista](imagens/shopping.png)"
   ]
  },
  {
   "cell_type": "markdown",
   "metadata": {
    "slideshow": {
     "slide_type": "slide"
    }
   },
   "source": [
    "### Exemplos de base de dados (sistemas computacionais)\n",
    "\n",
    "- controle de clientes\n",
    "- correntistas\n",
    "- alunos\n",
    "- controle de estoque"
   ]
  },
  {
   "cell_type": "markdown",
   "metadata": {
    "slideshow": {
     "slide_type": "slide"
    }
   },
   "source": [
    "### Tabelas\n",
    "\n",
    "Existem vários modos de organizar uma base de dados: quando representada por uma planilha, a base de dados pode ser vista como uma matriz de dados: \n",
    "\n",
    "- Facilita a visualização global dos dados.\n",
    "- Identifica a posição de cada item de dado (linhas).\n",
    "- Identifica os atributos dos dados (colunas).\n",
    "\n",
    "É muito comum chamar a matriz de tabela.\n",
    "Resultados de buscas e consultas em sistemas gerenciadores de bancos de dados são apresentados em forma de tabelas."
   ]
  },
  {
   "cell_type": "markdown",
   "metadata": {
    "slideshow": {
     "slide_type": "slide"
    }
   },
   "source": [
    "### Exemplo de tabela"
   ]
  },
  {
   "cell_type": "code",
   "execution_count": 1,
   "metadata": {
    "slideshow": {
     "slide_type": "fragment"
    }
   },
   "outputs": [
    {
     "data": {
      "text/html": [
       "<div>\n",
       "<style scoped>\n",
       "    .dataframe tbody tr th:only-of-type {\n",
       "        vertical-align: middle;\n",
       "    }\n",
       "\n",
       "    .dataframe tbody tr th {\n",
       "        vertical-align: top;\n",
       "    }\n",
       "\n",
       "    .dataframe thead th {\n",
       "        text-align: right;\n",
       "    }\n",
       "</style>\n",
       "<table border=\"1\" class=\"dataframe\">\n",
       "  <thead>\n",
       "    <tr style=\"text-align: right;\">\n",
       "      <th></th>\n",
       "      <th>Produto</th>\n",
       "      <th>Fabricante</th>\n",
       "      <th>Qtd</th>\n",
       "      <th>Medida</th>\n",
       "      <th>Preço</th>\n",
       "      <th>Supermercado</th>\n",
       "      <th>Data</th>\n",
       "    </tr>\n",
       "  </thead>\n",
       "  <tbody>\n",
       "    <tr>\n",
       "      <th>0</th>\n",
       "      <td>Suco</td>\n",
       "      <td>ValeSuco</td>\n",
       "      <td>1</td>\n",
       "      <td>l</td>\n",
       "      <td>3.00</td>\n",
       "      <td>Arpoador</td>\n",
       "      <td>12/05/2011</td>\n",
       "    </tr>\n",
       "    <tr>\n",
       "      <th>1</th>\n",
       "      <td>Suco</td>\n",
       "      <td>Flash</td>\n",
       "      <td>1</td>\n",
       "      <td>l</td>\n",
       "      <td>4.50</td>\n",
       "      <td>Arpoador</td>\n",
       "      <td>18/05/2011</td>\n",
       "    </tr>\n",
       "    <tr>\n",
       "      <th>2</th>\n",
       "      <td>Tomate</td>\n",
       "      <td>-</td>\n",
       "      <td>1</td>\n",
       "      <td>kg</td>\n",
       "      <td>3.50</td>\n",
       "      <td>Noite</td>\n",
       "      <td>14/05/2011</td>\n",
       "    </tr>\n",
       "    <tr>\n",
       "      <th>3</th>\n",
       "      <td>Arroz</td>\n",
       "      <td>Tio José</td>\n",
       "      <td>4</td>\n",
       "      <td>kg</td>\n",
       "      <td>8.64</td>\n",
       "      <td>Noite</td>\n",
       "      <td>14/05/2011</td>\n",
       "    </tr>\n",
       "    <tr>\n",
       "      <th>4</th>\n",
       "      <td>Arroz</td>\n",
       "      <td>Sem Broto</td>\n",
       "      <td>5</td>\n",
       "      <td>kg</td>\n",
       "      <td>9.99</td>\n",
       "      <td>Arpoador</td>\n",
       "      <td>10/06/2011</td>\n",
       "    </tr>\n",
       "    <tr>\n",
       "      <th>5</th>\n",
       "      <td>Arroz</td>\n",
       "      <td>Da TV</td>\n",
       "      <td>1</td>\n",
       "      <td>kg</td>\n",
       "      <td>1.99</td>\n",
       "      <td>Noite</td>\n",
       "      <td>14/06/2011</td>\n",
       "    </tr>\n",
       "    <tr>\n",
       "      <th>6</th>\n",
       "      <td>Feijão</td>\n",
       "      <td>Sem Broto</td>\n",
       "      <td>1</td>\n",
       "      <td>kg</td>\n",
       "      <td>4.00</td>\n",
       "      <td>Arpoador</td>\n",
       "      <td>12/05/2011</td>\n",
       "    </tr>\n",
       "    <tr>\n",
       "      <th>7</th>\n",
       "      <td>Tomate</td>\n",
       "      <td>-</td>\n",
       "      <td>1</td>\n",
       "      <td>kg</td>\n",
       "      <td>2.99</td>\n",
       "      <td>Noite</td>\n",
       "      <td>16/05/2011</td>\n",
       "    </tr>\n",
       "    <tr>\n",
       "      <th>8</th>\n",
       "      <td>Ovo</td>\n",
       "      <td>A Granja</td>\n",
       "      <td>12</td>\n",
       "      <td>u</td>\n",
       "      <td>3.19</td>\n",
       "      <td>Arpoador</td>\n",
       "      <td>12/06/2011</td>\n",
       "    </tr>\n",
       "    <tr>\n",
       "      <th>9</th>\n",
       "      <td>Ovo</td>\n",
       "      <td>Caseiro</td>\n",
       "      <td>6</td>\n",
       "      <td>u</td>\n",
       "      <td>1.45</td>\n",
       "      <td>Noite</td>\n",
       "      <td>14/05/2011</td>\n",
       "    </tr>\n",
       "    <tr>\n",
       "      <th>10</th>\n",
       "      <td>Suco</td>\n",
       "      <td>Flash</td>\n",
       "      <td>1</td>\n",
       "      <td>l</td>\n",
       "      <td>3.99</td>\n",
       "      <td>Noite</td>\n",
       "      <td>21/07/2011</td>\n",
       "    </tr>\n",
       "  </tbody>\n",
       "</table>\n",
       "</div>"
      ],
      "text/plain": [
       "   Produto Fabricante  Qtd Medida  Preço Supermercado        Data\n",
       "0     Suco   ValeSuco    1      l   3.00     Arpoador  12/05/2011\n",
       "1     Suco      Flash    1      l   4.50     Arpoador  18/05/2011\n",
       "2   Tomate         -     1     kg   3.50        Noite  14/05/2011\n",
       "3    Arroz   Tio José    4     kg   8.64        Noite  14/05/2011\n",
       "4    Arroz  Sem Broto    5     kg   9.99     Arpoador  10/06/2011\n",
       "5    Arroz      Da TV    1     kg   1.99        Noite  14/06/2011\n",
       "6   Feijão  Sem Broto    1     kg   4.00     Arpoador  12/05/2011\n",
       "7   Tomate         -     1     kg   2.99        Noite  16/05/2011\n",
       "8      Ovo   A Granja   12      u   3.19     Arpoador  12/06/2011\n",
       "9      Ovo    Caseiro    6      u   1.45        Noite  14/05/2011\n",
       "10    Suco      Flash    1      l   3.99        Noite  21/07/2011"
      ]
     },
     "execution_count": 1,
     "metadata": {},
     "output_type": "execute_result"
    }
   ],
   "source": [
    "import pandas as pd\n",
    "compras = pd.read_csv('https://raw.githubusercontent.com/BMClab/BasesComputacionais/master/dados/compras.csv')\n",
    "compras"
   ]
  },
  {
   "cell_type": "markdown",
   "metadata": {
    "slideshow": {
     "slide_type": "slide"
    }
   },
   "source": [
    "### Organização de dados\n",
    "\n",
    "- **Linhas da tabela**: armazenam os itens dos dados.\n",
    "\n",
    "- **Colunas da tabela**: armazenam atributos (propriedades ou características) vinculados a cada item de dado armazenado nas linhas."
   ]
  },
  {
   "cell_type": "code",
   "execution_count": 2,
   "metadata": {
    "slideshow": {
     "slide_type": "fragment"
    }
   },
   "outputs": [
    {
     "data": {
      "text/html": [
       "<div>\n",
       "<style scoped>\n",
       "    .dataframe tbody tr th:only-of-type {\n",
       "        vertical-align: middle;\n",
       "    }\n",
       "\n",
       "    .dataframe tbody tr th {\n",
       "        vertical-align: top;\n",
       "    }\n",
       "\n",
       "    .dataframe thead th {\n",
       "        text-align: right;\n",
       "    }\n",
       "</style>\n",
       "<table border=\"1\" class=\"dataframe\">\n",
       "  <thead>\n",
       "    <tr style=\"text-align: right;\">\n",
       "      <th></th>\n",
       "      <th>Produto</th>\n",
       "      <th>Fabricante</th>\n",
       "      <th>Qtd</th>\n",
       "      <th>Medida</th>\n",
       "      <th>Preço</th>\n",
       "      <th>Supermercado</th>\n",
       "      <th>Data</th>\n",
       "    </tr>\n",
       "  </thead>\n",
       "  <tbody>\n",
       "    <tr>\n",
       "      <th>0</th>\n",
       "      <td>Suco</td>\n",
       "      <td>ValeSuco</td>\n",
       "      <td>1</td>\n",
       "      <td>l</td>\n",
       "      <td>3.0</td>\n",
       "      <td>Arpoador</td>\n",
       "      <td>12/05/2011</td>\n",
       "    </tr>\n",
       "    <tr>\n",
       "      <th>1</th>\n",
       "      <td>Suco</td>\n",
       "      <td>Flash</td>\n",
       "      <td>1</td>\n",
       "      <td>l</td>\n",
       "      <td>4.5</td>\n",
       "      <td>Arpoador</td>\n",
       "      <td>18/05/2011</td>\n",
       "    </tr>\n",
       "    <tr>\n",
       "      <th>2</th>\n",
       "      <td>Tomate</td>\n",
       "      <td>-</td>\n",
       "      <td>1</td>\n",
       "      <td>kg</td>\n",
       "      <td>3.5</td>\n",
       "      <td>Noite</td>\n",
       "      <td>14/05/2011</td>\n",
       "    </tr>\n",
       "  </tbody>\n",
       "</table>\n",
       "</div>"
      ],
      "text/plain": [
       "  Produto Fabricante  Qtd Medida  Preço Supermercado        Data\n",
       "0    Suco   ValeSuco    1      l    3.0     Arpoador  12/05/2011\n",
       "1    Suco      Flash    1      l    4.5     Arpoador  18/05/2011\n",
       "2  Tomate         -     1     kg    3.5        Noite  14/05/2011"
      ]
     },
     "execution_count": 2,
     "metadata": {},
     "output_type": "execute_result"
    }
   ],
   "source": [
    "compras.head(3)"
   ]
  },
  {
   "cell_type": "markdown",
   "metadata": {
    "slideshow": {
     "slide_type": "slide"
    }
   },
   "source": [
    "![tabela](imagens/tabela.png)\n",
    "\n",
    "- **Tabela**: conjunto de tuplas\n",
    "- **Colunas**: atributos\n",
    "- **Linhas**: tuplas, itens de dados ou instâncias\n",
    "- **Campos**: valores dos atributos"
   ]
  },
  {
   "cell_type": "markdown",
   "metadata": {
    "slideshow": {
     "slide_type": "slide"
    }
   },
   "source": [
    "### Tipos de dados\n",
    "\n",
    "Toda a base de dados deve reservar uma especial atenção para a escolha dos tipos de valores armazenados (tipos de dados).\n",
    "\n",
    "A escolha correta dos tipos de dados permite elevar o nível de qualidade da base:\n",
    "\n",
    "- Controlar possíveis erros de cadastramento de valores.\n",
    "- Previne inconsistências. Por exemplo:\n",
    "    + evita o armazenamento de letras em locais destinados a valores numéricos;\n",
    "    + evita datas escritas de forma incorreta."
   ]
  },
  {
   "cell_type": "markdown",
   "metadata": {
    "slideshow": {
     "slide_type": "slide"
    }
   },
   "source": [
    "### Pandas\n",
    "\n",
    "A biblioteca que utilizaremos para trabalhar com bases de dados é o [Pandas](https://pandas.pydata.org/). Esta biblioteca tem ferramentas para trabalhar com diferentes estruturas e realizar diferentes análises de dados. Para usar a biblioteca Pandas, devemos importá-la primeiro. A biblioteca Pandas trabalha muito bem junto com o Numpy. Todos os comandos que funcionam em vetores do Numpy funcionam também em DataFrames do Pandas."
   ]
  },
  {
   "cell_type": "markdown",
   "metadata": {
    "slideshow": {
     "slide_type": "slide"
    }
   },
   "source": [
    "Existem diversas formas de criar um DataFrame do Pandas. O primeiro é inserindo os dados (valores dos campos) de cada um dos campos. Isso é feito com o comando *pd.DataFrame*. Os dados de cada um dos atributos são inseridos com o comando *np.array*."
   ]
  },
  {
   "cell_type": "code",
   "execution_count": 3,
   "metadata": {
    "slideshow": {
     "slide_type": "fragment"
    }
   },
   "outputs": [
    {
     "data": {
      "text/html": [
       "<div>\n",
       "<style scoped>\n",
       "    .dataframe tbody tr th:only-of-type {\n",
       "        vertical-align: middle;\n",
       "    }\n",
       "\n",
       "    .dataframe tbody tr th {\n",
       "        vertical-align: top;\n",
       "    }\n",
       "\n",
       "    .dataframe thead th {\n",
       "        text-align: right;\n",
       "    }\n",
       "</style>\n",
       "<table border=\"1\" class=\"dataframe\">\n",
       "  <thead>\n",
       "    <tr style=\"text-align: right;\">\n",
       "      <th></th>\n",
       "      <th>faltas</th>\n",
       "      <th>notas</th>\n",
       "    </tr>\n",
       "  </thead>\n",
       "  <tbody>\n",
       "    <tr>\n",
       "      <th>0</th>\n",
       "      <td>8</td>\n",
       "      <td>78</td>\n",
       "    </tr>\n",
       "    <tr>\n",
       "      <th>1</th>\n",
       "      <td>2</td>\n",
       "      <td>92</td>\n",
       "    </tr>\n",
       "    <tr>\n",
       "      <th>2</th>\n",
       "      <td>5</td>\n",
       "      <td>90</td>\n",
       "    </tr>\n",
       "    <tr>\n",
       "      <th>3</th>\n",
       "      <td>12</td>\n",
       "      <td>58</td>\n",
       "    </tr>\n",
       "    <tr>\n",
       "      <th>4</th>\n",
       "      <td>15</td>\n",
       "      <td>43</td>\n",
       "    </tr>\n",
       "    <tr>\n",
       "      <th>5</th>\n",
       "      <td>9</td>\n",
       "      <td>74</td>\n",
       "    </tr>\n",
       "    <tr>\n",
       "      <th>6</th>\n",
       "      <td>6</td>\n",
       "      <td>81</td>\n",
       "    </tr>\n",
       "  </tbody>\n",
       "</table>\n",
       "</div>"
      ],
      "text/plain": [
       "   faltas  notas\n",
       "0       8     78\n",
       "1       2     92\n",
       "2       5     90\n",
       "3      12     58\n",
       "4      15     43\n",
       "5       9     74\n",
       "6       6     81"
      ]
     },
     "execution_count": 3,
     "metadata": {},
     "output_type": "execute_result"
    }
   ],
   "source": [
    "import pandas as pd\n",
    "import numpy as np\n",
    "\n",
    "alunos = pd.DataFrame({'faltas':np.array([8, 2, 5, 12, 15, 9, 6]),\n",
    "                      'notas': np.array([78, 92, 90, 58, 43, 74, 81])})\n",
    "alunos"
   ]
  },
  {
   "cell_type": "markdown",
   "metadata": {
    "slideshow": {
     "slide_type": "slide"
    }
   },
   "source": [
    "### Acessando os valores de um campo\n",
    "\n",
    "Para acessar todos os valores de um campo, basta escrever o nome da variável em que o DataFrame, seguido de colchetes com o nome do campo entre aspas. Por exemplo, para acessar os valores do campo *faltas*, basta:"
   ]
  },
  {
   "cell_type": "code",
   "execution_count": 4,
   "metadata": {
    "slideshow": {
     "slide_type": "fragment"
    }
   },
   "outputs": [
    {
     "name": "stdout",
     "output_type": "stream",
     "text": [
      "0     8\n",
      "1     2\n",
      "2     5\n",
      "3    12\n",
      "4    15\n",
      "5     9\n",
      "6     6\n",
      "Name: faltas, dtype: int64\n"
     ]
    }
   ],
   "source": [
    "print(alunos['faltas'])"
   ]
  },
  {
   "cell_type": "markdown",
   "metadata": {
    "slideshow": {
     "slide_type": "fragment"
    }
   },
   "source": [
    "E para acessar o campo *notas*:"
   ]
  },
  {
   "cell_type": "code",
   "execution_count": 5,
   "metadata": {
    "slideshow": {
     "slide_type": "fragment"
    }
   },
   "outputs": [
    {
     "name": "stdout",
     "output_type": "stream",
     "text": [
      "0    78\n",
      "1    92\n",
      "2    90\n",
      "3    58\n",
      "4    43\n",
      "5    74\n",
      "6    81\n",
      "Name: notas, dtype: int64\n"
     ]
    }
   ],
   "source": [
    "print(alunos['notas'])"
   ]
  },
  {
   "cell_type": "markdown",
   "metadata": {
    "slideshow": {
     "slide_type": "slide"
    }
   },
   "source": [
    "A biblioteca de gráficos Matplotlib também funciona com o Pandas. Para fazer o gráfico notas em função do número de faltas, pode-se usar o comando abaixo:"
   ]
  },
  {
   "cell_type": "code",
   "execution_count": 6,
   "metadata": {
    "slideshow": {
     "slide_type": "fragment"
    }
   },
   "outputs": [
    {
     "data": {
      "image/png": "[encoded data removed]",
      "text/plain": [
       "<Figure size 640x480 with 1 Axes>"
      ]
     },
     "metadata": {},
     "output_type": "display_data"
    }
   ],
   "source": [
    "import matplotlib.pyplot as plt\n",
    "\n",
    "plt.figure()\n",
    "plt.plot(alunos['faltas'], alunos['notas'], marker = 'o', linestyle = '', \n",
    "         color = 'red', markersize = 15)\n",
    "plt.grid()\n",
    "plt.xlabel('Faltas')\n",
    "plt.ylabel('Notas')\n",
    "plt.show()\n"
   ]
  },
  {
   "cell_type": "markdown",
   "metadata": {
    "slideshow": {
     "slide_type": "slide"
    }
   },
   "source": [
    "### Arquivos estruturados\n",
    "\n",
    "Arquivos estruturados (ou flat files) são arquivos de dados organizados sob uma estrutura rígida e pré-definida:\n",
    "\n",
    "- Os arquivos estruturados são muito usados para a troca de dados entre sistemas  computacionais diferentes que não mantêm, entre si, um canal direto de comunicação.\n",
    "- Definem-se caracteres (ou sequências de caracteres) que exercerão o papel de delimitadores de linha e de coluna.\n",
    "\n",
    "**[Exemplo](dados/compras.csv)**: Arquivo CSV (“Comma Separated Values”)\n",
    "\n",
    "Produto,Fabricante,Qtd,Medida,Preço,Supermercado,Data  \n",
    "Suco,ValeSuco,1,l,3.00,Arpoador,12/05/2011  \n",
    "Suco,Flash,1,l,4.50,Arpoador,12/05/2011  \n",
    "Tomate, - ,1,kg,3.50,Noite,14/05/2011  \n",
    "Arroz,Tio José,5,kg,8.64,Noite,14/05/2011  "
   ]
  },
  {
   "cell_type": "markdown",
   "metadata": {
    "slideshow": {
     "slide_type": "slide"
    }
   },
   "source": [
    "### Carregando arquivos CSV\n",
    "\n",
    "A forma mais utilizada para criar DataFrames no Pandas é com dados disponíveis em arquivos com dados (por exemplo, arquivos CSV). Para fazer isso, basta usar o comando *pd.read_csv*."
   ]
  },
  {
   "cell_type": "code",
   "execution_count": 8,
   "metadata": {
    "slideshow": {
     "slide_type": "fragment"
    }
   },
   "outputs": [
    {
     "data": {
      "text/html": [
       "<div>\n",
       "<style scoped>\n",
       "    .dataframe tbody tr th:only-of-type {\n",
       "        vertical-align: middle;\n",
       "    }\n",
       "\n",
       "    .dataframe tbody tr th {\n",
       "        vertical-align: top;\n",
       "    }\n",
       "\n",
       "    .dataframe thead th {\n",
       "        text-align: right;\n",
       "    }\n",
       "</style>\n",
       "<table border=\"1\" class=\"dataframe\">\n",
       "  <thead>\n",
       "    <tr style=\"text-align: right;\">\n",
       "      <th></th>\n",
       "      <th>Produto</th>\n",
       "      <th>Fabricante</th>\n",
       "      <th>Qtd</th>\n",
       "      <th>Medida</th>\n",
       "      <th>Preço</th>\n",
       "      <th>Supermercado</th>\n",
       "      <th>Data</th>\n",
       "    </tr>\n",
       "  </thead>\n",
       "  <tbody>\n",
       "    <tr>\n",
       "      <th>0</th>\n",
       "      <td>Suco</td>\n",
       "      <td>ValeSuco</td>\n",
       "      <td>1</td>\n",
       "      <td>l</td>\n",
       "      <td>3.00</td>\n",
       "      <td>Arpoador</td>\n",
       "      <td>12/05/2011</td>\n",
       "    </tr>\n",
       "    <tr>\n",
       "      <th>1</th>\n",
       "      <td>Suco</td>\n",
       "      <td>Flash</td>\n",
       "      <td>1</td>\n",
       "      <td>l</td>\n",
       "      <td>4.50</td>\n",
       "      <td>Arpoador</td>\n",
       "      <td>18/05/2011</td>\n",
       "    </tr>\n",
       "    <tr>\n",
       "      <th>2</th>\n",
       "      <td>Tomate</td>\n",
       "      <td>-</td>\n",
       "      <td>1</td>\n",
       "      <td>kg</td>\n",
       "      <td>3.50</td>\n",
       "      <td>Noite</td>\n",
       "      <td>14/05/2011</td>\n",
       "    </tr>\n",
       "    <tr>\n",
       "      <th>3</th>\n",
       "      <td>Arroz</td>\n",
       "      <td>Tio José</td>\n",
       "      <td>4</td>\n",
       "      <td>kg</td>\n",
       "      <td>8.64</td>\n",
       "      <td>Noite</td>\n",
       "      <td>14/05/2011</td>\n",
       "    </tr>\n",
       "    <tr>\n",
       "      <th>4</th>\n",
       "      <td>Arroz</td>\n",
       "      <td>Sem Broto</td>\n",
       "      <td>5</td>\n",
       "      <td>kg</td>\n",
       "      <td>9.99</td>\n",
       "      <td>Arpoador</td>\n",
       "      <td>10/06/2011</td>\n",
       "    </tr>\n",
       "    <tr>\n",
       "      <th>5</th>\n",
       "      <td>Arroz</td>\n",
       "      <td>Da TV</td>\n",
       "      <td>1</td>\n",
       "      <td>kg</td>\n",
       "      <td>1.99</td>\n",
       "      <td>Noite</td>\n",
       "      <td>14/06/2011</td>\n",
       "    </tr>\n",
       "    <tr>\n",
       "      <th>6</th>\n",
       "      <td>Feijão</td>\n",
       "      <td>Sem Broto</td>\n",
       "      <td>1</td>\n",
       "      <td>kg</td>\n",
       "      <td>4.00</td>\n",
       "      <td>Arpoador</td>\n",
       "      <td>12/05/2011</td>\n",
       "    </tr>\n",
       "    <tr>\n",
       "      <th>7</th>\n",
       "      <td>Tomate</td>\n",
       "      <td>-</td>\n",
       "      <td>1</td>\n",
       "      <td>kg</td>\n",
       "      <td>2.99</td>\n",
       "      <td>Noite</td>\n",
       "      <td>16/05/2011</td>\n",
       "    </tr>\n",
       "    <tr>\n",
       "      <th>8</th>\n",
       "      <td>Ovo</td>\n",
       "      <td>A Granja</td>\n",
       "      <td>12</td>\n",
       "      <td>u</td>\n",
       "      <td>3.19</td>\n",
       "      <td>Arpoador</td>\n",
       "      <td>12/06/2011</td>\n",
       "    </tr>\n",
       "    <tr>\n",
       "      <th>9</th>\n",
       "      <td>Ovo</td>\n",
       "      <td>Caseiro</td>\n",
       "      <td>6</td>\n",
       "      <td>u</td>\n",
       "      <td>1.45</td>\n",
       "      <td>Noite</td>\n",
       "      <td>14/05/2011</td>\n",
       "    </tr>\n",
       "    <tr>\n",
       "      <th>10</th>\n",
       "      <td>Suco</td>\n",
       "      <td>Flash</td>\n",
       "      <td>1</td>\n",
       "      <td>l</td>\n",
       "      <td>3.99</td>\n",
       "      <td>Noite</td>\n",
       "      <td>21/07/2011</td>\n",
       "    </tr>\n",
       "  </tbody>\n",
       "</table>\n",
       "</div>"
      ],
      "text/plain": [
       "   Produto Fabricante  Qtd Medida  Preço Supermercado        Data\n",
       "0     Suco   ValeSuco    1      l   3.00     Arpoador  12/05/2011\n",
       "1     Suco      Flash    1      l   4.50     Arpoador  18/05/2011\n",
       "2   Tomate         -     1     kg   3.50        Noite  14/05/2011\n",
       "3    Arroz   Tio José    4     kg   8.64        Noite  14/05/2011\n",
       "4    Arroz  Sem Broto    5     kg   9.99     Arpoador  10/06/2011\n",
       "5    Arroz      Da TV    1     kg   1.99        Noite  14/06/2011\n",
       "6   Feijão  Sem Broto    1     kg   4.00     Arpoador  12/05/2011\n",
       "7   Tomate         -     1     kg   2.99        Noite  16/05/2011\n",
       "8      Ovo   A Granja   12      u   3.19     Arpoador  12/06/2011\n",
       "9      Ovo    Caseiro    6      u   1.45        Noite  14/05/2011\n",
       "10    Suco      Flash    1      l   3.99        Noite  21/07/2011"
      ]
     },
     "execution_count": 8,
     "metadata": {},
     "output_type": "execute_result"
    }
   ],
   "source": [
    "compras = pd.read_csv('../dados/compras.csv')\n",
    "compras"
   ]
  },
  {
   "cell_type": "markdown",
   "metadata": {
    "slideshow": {
     "slide_type": "slide"
    }
   },
   "source": [
    "Também pode ser o endereço web (URL) do arquivo. Essa é a forma recomendada, se o seu arquivo estiver disponível na internet, já que facilita que uma outra pessoa consiga utilizar o Notebook que você fez sem modificá-lo:"
   ]
  },
  {
   "cell_type": "code",
   "execution_count": 25,
   "metadata": {
    "slideshow": {
     "slide_type": "fragment"
    }
   },
   "outputs": [
    {
     "data": {
      "text/html": [
       "<div>\n",
       "<style scoped>\n",
       "    .dataframe tbody tr th:only-of-type {\n",
       "        vertical-align: middle;\n",
       "    }\n",
       "\n",
       "    .dataframe tbody tr th {\n",
       "        vertical-align: top;\n",
       "    }\n",
       "\n",
       "    .dataframe thead th {\n",
       "        text-align: right;\n",
       "    }\n",
       "</style>\n",
       "<table border=\"1\" class=\"dataframe\">\n",
       "  <thead>\n",
       "    <tr style=\"text-align: right;\">\n",
       "      <th></th>\n",
       "      <th>Produto</th>\n",
       "      <th>Fabricante</th>\n",
       "      <th>Qtd</th>\n",
       "      <th>Medida</th>\n",
       "      <th>Preço</th>\n",
       "      <th>Supermercado</th>\n",
       "      <th>Data</th>\n",
       "    </tr>\n",
       "  </thead>\n",
       "  <tbody>\n",
       "    <tr>\n",
       "      <th>0</th>\n",
       "      <td>Suco</td>\n",
       "      <td>ValeSuco</td>\n",
       "      <td>1</td>\n",
       "      <td>l</td>\n",
       "      <td>3.00</td>\n",
       "      <td>Arpoador</td>\n",
       "      <td>12/05/2011</td>\n",
       "    </tr>\n",
       "    <tr>\n",
       "      <th>1</th>\n",
       "      <td>Suco</td>\n",
       "      <td>Flash</td>\n",
       "      <td>1</td>\n",
       "      <td>l</td>\n",
       "      <td>4.50</td>\n",
       "      <td>Arpoador</td>\n",
       "      <td>18/05/2011</td>\n",
       "    </tr>\n",
       "    <tr>\n",
       "      <th>2</th>\n",
       "      <td>Tomate</td>\n",
       "      <td>-</td>\n",
       "      <td>1</td>\n",
       "      <td>kg</td>\n",
       "      <td>3.50</td>\n",
       "      <td>Noite</td>\n",
       "      <td>14/05/2011</td>\n",
       "    </tr>\n",
       "    <tr>\n",
       "      <th>3</th>\n",
       "      <td>Arroz</td>\n",
       "      <td>Tio José</td>\n",
       "      <td>4</td>\n",
       "      <td>kg</td>\n",
       "      <td>8.64</td>\n",
       "      <td>Noite</td>\n",
       "      <td>14/05/2011</td>\n",
       "    </tr>\n",
       "    <tr>\n",
       "      <th>4</th>\n",
       "      <td>Arroz</td>\n",
       "      <td>Sem Broto</td>\n",
       "      <td>5</td>\n",
       "      <td>kg</td>\n",
       "      <td>9.99</td>\n",
       "      <td>Arpoador</td>\n",
       "      <td>10/06/2011</td>\n",
       "    </tr>\n",
       "    <tr>\n",
       "      <th>5</th>\n",
       "      <td>Arroz</td>\n",
       "      <td>Da TV</td>\n",
       "      <td>1</td>\n",
       "      <td>kg</td>\n",
       "      <td>1.99</td>\n",
       "      <td>Noite</td>\n",
       "      <td>14/06/2011</td>\n",
       "    </tr>\n",
       "    <tr>\n",
       "      <th>6</th>\n",
       "      <td>Feijão</td>\n",
       "      <td>Sem Broto</td>\n",
       "      <td>1</td>\n",
       "      <td>kg</td>\n",
       "      <td>4.00</td>\n",
       "      <td>Arpoador</td>\n",
       "      <td>12/05/2011</td>\n",
       "    </tr>\n",
       "    <tr>\n",
       "      <th>7</th>\n",
       "      <td>Tomate</td>\n",
       "      <td>-</td>\n",
       "      <td>1</td>\n",
       "      <td>kg</td>\n",
       "      <td>2.99</td>\n",
       "      <td>Noite</td>\n",
       "      <td>16/05/2011</td>\n",
       "    </tr>\n",
       "    <tr>\n",
       "      <th>8</th>\n",
       "      <td>Ovo</td>\n",
       "      <td>A Granja</td>\n",
       "      <td>12</td>\n",
       "      <td>u</td>\n",
       "      <td>3.19</td>\n",
       "      <td>Arpoador</td>\n",
       "      <td>12/06/2011</td>\n",
       "    </tr>\n",
       "    <tr>\n",
       "      <th>9</th>\n",
       "      <td>Ovo</td>\n",
       "      <td>Caseiro</td>\n",
       "      <td>6</td>\n",
       "      <td>u</td>\n",
       "      <td>1.45</td>\n",
       "      <td>Noite</td>\n",
       "      <td>14/05/2011</td>\n",
       "    </tr>\n",
       "    <tr>\n",
       "      <th>10</th>\n",
       "      <td>Suco</td>\n",
       "      <td>Flash</td>\n",
       "      <td>1</td>\n",
       "      <td>l</td>\n",
       "      <td>3.99</td>\n",
       "      <td>Noite</td>\n",
       "      <td>21/07/2011</td>\n",
       "    </tr>\n",
       "  </tbody>\n",
       "</table>\n",
       "</div>"
      ],
      "text/plain": [
       "   Produto Fabricante  Qtd Medida  Preço Supermercado        Data\n",
       "0     Suco   ValeSuco    1      l   3.00     Arpoador  12/05/2011\n",
       "1     Suco      Flash    1      l   4.50     Arpoador  18/05/2011\n",
       "2   Tomate         -     1     kg   3.50        Noite  14/05/2011\n",
       "3    Arroz   Tio José    4     kg   8.64        Noite  14/05/2011\n",
       "4    Arroz  Sem Broto    5     kg   9.99     Arpoador  10/06/2011\n",
       "5    Arroz      Da TV    1     kg   1.99        Noite  14/06/2011\n",
       "6   Feijão  Sem Broto    1     kg   4.00     Arpoador  12/05/2011\n",
       "7   Tomate         -     1     kg   2.99        Noite  16/05/2011\n",
       "8      Ovo   A Granja   12      u   3.19     Arpoador  12/06/2011\n",
       "9      Ovo    Caseiro    6      u   1.45        Noite  14/05/2011\n",
       "10    Suco      Flash    1      l   3.99        Noite  21/07/2011"
      ]
     },
     "execution_count": 25,
     "metadata": {},
     "output_type": "execute_result"
    }
   ],
   "source": [
    "compras = pd.read_csv('https://raw.githubusercontent.com/BMClab/BasesComputacionais/master/aula8/dados/compras.csv')\n",
    "compras"
   ]
  },
  {
   "cell_type": "markdown",
   "metadata": {
    "slideshow": {
     "slide_type": "slide"
    }
   },
   "source": [
    "### Manipulação dos dados\n",
    "\n",
    "Duas operações importantes para recuperação (**Consultas**) e visualização (**Ordenação**) dos dados.\n",
    "\n",
    "- **Consultas**: é uma forma de recuperação de dados que consiste em realizar consultas sobre a base de dados, verificando valores e propriedades dos dados armazenados.\n",
    "\n",
    "- **Ordenação**: é uma operação comum quando se trabalha com dados. Dados ordenados facilitam a localização de informação e identificação de padrões. Além disso, a ordenação de dados pode ser considerada uma operação básica e presente em praticamente todos os sistemas que trabalham com visualização de dados."
   ]
  },
  {
   "cell_type": "markdown",
   "metadata": {
    "slideshow": {
     "slide_type": "slide"
    }
   },
   "source": [
    "### Consultas\n",
    "\n",
    "É possivel fazer uma consulta (seleção ou filtragem) com a função query(). Na função query() você coloca toda a expressão entre aspas (duplas ou simples) e pode usar os operadores lógicos comuns (not, and  e or). Na função query() só é necessário colocar os nomes das colunas. Se uma das colunas for do tipo string, o conteúdo deve estar entre aspas (se você tiver colocado aspas duplas para a expressão, colocar aspas simples).\n",
    "\n",
    "Por exemplo, para selecionarmos todos os itens (tuplas) cujo campo Produto tenha o valor Arroz, basta usar o seguinte comando."
   ]
  },
  {
   "cell_type": "code",
   "execution_count": 26,
   "metadata": {
    "slideshow": {
     "slide_type": "fragment"
    }
   },
   "outputs": [
    {
     "data": {
      "text/html": [
       "<div>\n",
       "<style scoped>\n",
       "    .dataframe tbody tr th:only-of-type {\n",
       "        vertical-align: middle;\n",
       "    }\n",
       "\n",
       "    .dataframe tbody tr th {\n",
       "        vertical-align: top;\n",
       "    }\n",
       "\n",
       "    .dataframe thead th {\n",
       "        text-align: right;\n",
       "    }\n",
       "</style>\n",
       "<table border=\"1\" class=\"dataframe\">\n",
       "  <thead>\n",
       "    <tr style=\"text-align: right;\">\n",
       "      <th></th>\n",
       "      <th>Produto</th>\n",
       "      <th>Fabricante</th>\n",
       "      <th>Qtd</th>\n",
       "      <th>Medida</th>\n",
       "      <th>Preço</th>\n",
       "      <th>Supermercado</th>\n",
       "      <th>Data</th>\n",
       "    </tr>\n",
       "  </thead>\n",
       "  <tbody>\n",
       "    <tr>\n",
       "      <th>3</th>\n",
       "      <td>Arroz</td>\n",
       "      <td>Tio José</td>\n",
       "      <td>4</td>\n",
       "      <td>kg</td>\n",
       "      <td>8.64</td>\n",
       "      <td>Noite</td>\n",
       "      <td>14/05/2011</td>\n",
       "    </tr>\n",
       "    <tr>\n",
       "      <th>4</th>\n",
       "      <td>Arroz</td>\n",
       "      <td>Sem Broto</td>\n",
       "      <td>5</td>\n",
       "      <td>kg</td>\n",
       "      <td>9.99</td>\n",
       "      <td>Arpoador</td>\n",
       "      <td>10/06/2011</td>\n",
       "    </tr>\n",
       "    <tr>\n",
       "      <th>5</th>\n",
       "      <td>Arroz</td>\n",
       "      <td>Da TV</td>\n",
       "      <td>1</td>\n",
       "      <td>kg</td>\n",
       "      <td>1.99</td>\n",
       "      <td>Noite</td>\n",
       "      <td>14/06/2011</td>\n",
       "    </tr>\n",
       "  </tbody>\n",
       "</table>\n",
       "</div>"
      ],
      "text/plain": [
       "  Produto Fabricante  Qtd Medida  Preço Supermercado        Data\n",
       "3   Arroz   Tio José    4     kg   8.64        Noite  14/05/2011\n",
       "4   Arroz  Sem Broto    5     kg   9.99     Arpoador  10/06/2011\n",
       "5   Arroz      Da TV    1     kg   1.99        Noite  14/06/2011"
      ]
     },
     "execution_count": 26,
     "metadata": {},
     "output_type": "execute_result"
    }
   ],
   "source": [
    "arroz = compras.query(\"Produto == 'Arroz'\")\n",
    "arroz"
   ]
  },
  {
   "cell_type": "markdown",
   "metadata": {},
   "source": [
    "Repare que o nome da coluna `Arroz` está entre aspas simples. Isso ocorre porque Arroz é uma string."
   ]
  },
  {
   "cell_type": "markdown",
   "metadata": {
    "slideshow": {
     "slide_type": "slide"
    }
   },
   "source": [
    "Aqui selecionamos da tabela compras o produto Arroz e que tenha quantidade maior ou igual a 4."
   ]
  },
  {
   "cell_type": "code",
   "execution_count": 27,
   "metadata": {
    "slideshow": {
     "slide_type": "fragment"
    }
   },
   "outputs": [
    {
     "data": {
      "text/html": [
       "<div>\n",
       "<style scoped>\n",
       "    .dataframe tbody tr th:only-of-type {\n",
       "        vertical-align: middle;\n",
       "    }\n",
       "\n",
       "    .dataframe tbody tr th {\n",
       "        vertical-align: top;\n",
       "    }\n",
       "\n",
       "    .dataframe thead th {\n",
       "        text-align: right;\n",
       "    }\n",
       "</style>\n",
       "<table border=\"1\" class=\"dataframe\">\n",
       "  <thead>\n",
       "    <tr style=\"text-align: right;\">\n",
       "      <th></th>\n",
       "      <th>Produto</th>\n",
       "      <th>Fabricante</th>\n",
       "      <th>Qtd</th>\n",
       "      <th>Medida</th>\n",
       "      <th>Preço</th>\n",
       "      <th>Supermercado</th>\n",
       "      <th>Data</th>\n",
       "    </tr>\n",
       "  </thead>\n",
       "  <tbody>\n",
       "    <tr>\n",
       "      <th>3</th>\n",
       "      <td>Arroz</td>\n",
       "      <td>Tio José</td>\n",
       "      <td>4</td>\n",
       "      <td>kg</td>\n",
       "      <td>8.64</td>\n",
       "      <td>Noite</td>\n",
       "      <td>14/05/2011</td>\n",
       "    </tr>\n",
       "    <tr>\n",
       "      <th>4</th>\n",
       "      <td>Arroz</td>\n",
       "      <td>Sem Broto</td>\n",
       "      <td>5</td>\n",
       "      <td>kg</td>\n",
       "      <td>9.99</td>\n",
       "      <td>Arpoador</td>\n",
       "      <td>10/06/2011</td>\n",
       "    </tr>\n",
       "  </tbody>\n",
       "</table>\n",
       "</div>"
      ],
      "text/plain": [
       "  Produto Fabricante  Qtd Medida  Preço Supermercado        Data\n",
       "3   Arroz   Tio José    4     kg   8.64        Noite  14/05/2011\n",
       "4   Arroz  Sem Broto    5     kg   9.99     Arpoador  10/06/2011"
      ]
     },
     "execution_count": 27,
     "metadata": {},
     "output_type": "execute_result"
    }
   ],
   "source": [
    "arroz4 = compras.query(\"Produto == 'Arroz' and Qtd >= 4\")\n",
    "arroz4"
   ]
  },
  {
   "cell_type": "markdown",
   "metadata": {
    "slideshow": {
     "slide_type": "fragment"
    }
   },
   "source": [
    "Note que o resultado da consulta foi gravado em outra variável, que também é um DataFrame do Pandas."
   ]
  },
  {
   "cell_type": "markdown",
   "metadata": {
    "slideshow": {
     "slide_type": "slide"
    }
   },
   "source": [
    "### Ordenação\n",
    "\n",
    "Para ordenar uma tabela (DataFrame), basta usar o comando *sort_values*. Como argumento da função sort_values, deve vir qual (ou quais) campo você deseja usar para a ordenação.\n",
    "\n",
    "Por exemplo, para ordenar de acordo com o campo Preço, utiliza-se o seguinte comando:"
   ]
  },
  {
   "cell_type": "code",
   "execution_count": 28,
   "metadata": {
    "slideshow": {
     "slide_type": "fragment"
    }
   },
   "outputs": [
    {
     "data": {
      "text/html": [
       "<div>\n",
       "<style scoped>\n",
       "    .dataframe tbody tr th:only-of-type {\n",
       "        vertical-align: middle;\n",
       "    }\n",
       "\n",
       "    .dataframe tbody tr th {\n",
       "        vertical-align: top;\n",
       "    }\n",
       "\n",
       "    .dataframe thead th {\n",
       "        text-align: right;\n",
       "    }\n",
       "</style>\n",
       "<table border=\"1\" class=\"dataframe\">\n",
       "  <thead>\n",
       "    <tr style=\"text-align: right;\">\n",
       "      <th></th>\n",
       "      <th>Produto</th>\n",
       "      <th>Fabricante</th>\n",
       "      <th>Qtd</th>\n",
       "      <th>Medida</th>\n",
       "      <th>Preço</th>\n",
       "      <th>Supermercado</th>\n",
       "      <th>Data</th>\n",
       "    </tr>\n",
       "  </thead>\n",
       "  <tbody>\n",
       "    <tr>\n",
       "      <th>9</th>\n",
       "      <td>Ovo</td>\n",
       "      <td>Caseiro</td>\n",
       "      <td>6</td>\n",
       "      <td>u</td>\n",
       "      <td>1.45</td>\n",
       "      <td>Noite</td>\n",
       "      <td>14/05/2011</td>\n",
       "    </tr>\n",
       "    <tr>\n",
       "      <th>5</th>\n",
       "      <td>Arroz</td>\n",
       "      <td>Da TV</td>\n",
       "      <td>1</td>\n",
       "      <td>kg</td>\n",
       "      <td>1.99</td>\n",
       "      <td>Noite</td>\n",
       "      <td>14/06/2011</td>\n",
       "    </tr>\n",
       "    <tr>\n",
       "      <th>7</th>\n",
       "      <td>Tomate</td>\n",
       "      <td>-</td>\n",
       "      <td>1</td>\n",
       "      <td>kg</td>\n",
       "      <td>2.99</td>\n",
       "      <td>Noite</td>\n",
       "      <td>16/05/2011</td>\n",
       "    </tr>\n",
       "    <tr>\n",
       "      <th>0</th>\n",
       "      <td>Suco</td>\n",
       "      <td>ValeSuco</td>\n",
       "      <td>1</td>\n",
       "      <td>l</td>\n",
       "      <td>3.00</td>\n",
       "      <td>Arpoador</td>\n",
       "      <td>12/05/2011</td>\n",
       "    </tr>\n",
       "    <tr>\n",
       "      <th>8</th>\n",
       "      <td>Ovo</td>\n",
       "      <td>A Granja</td>\n",
       "      <td>12</td>\n",
       "      <td>u</td>\n",
       "      <td>3.19</td>\n",
       "      <td>Arpoador</td>\n",
       "      <td>12/06/2011</td>\n",
       "    </tr>\n",
       "    <tr>\n",
       "      <th>2</th>\n",
       "      <td>Tomate</td>\n",
       "      <td>-</td>\n",
       "      <td>1</td>\n",
       "      <td>kg</td>\n",
       "      <td>3.50</td>\n",
       "      <td>Noite</td>\n",
       "      <td>14/05/2011</td>\n",
       "    </tr>\n",
       "    <tr>\n",
       "      <th>10</th>\n",
       "      <td>Suco</td>\n",
       "      <td>Flash</td>\n",
       "      <td>1</td>\n",
       "      <td>l</td>\n",
       "      <td>3.99</td>\n",
       "      <td>Noite</td>\n",
       "      <td>21/07/2011</td>\n",
       "    </tr>\n",
       "    <tr>\n",
       "      <th>6</th>\n",
       "      <td>Feijão</td>\n",
       "      <td>Sem Broto</td>\n",
       "      <td>1</td>\n",
       "      <td>kg</td>\n",
       "      <td>4.00</td>\n",
       "      <td>Arpoador</td>\n",
       "      <td>12/05/2011</td>\n",
       "    </tr>\n",
       "    <tr>\n",
       "      <th>1</th>\n",
       "      <td>Suco</td>\n",
       "      <td>Flash</td>\n",
       "      <td>1</td>\n",
       "      <td>l</td>\n",
       "      <td>4.50</td>\n",
       "      <td>Arpoador</td>\n",
       "      <td>18/05/2011</td>\n",
       "    </tr>\n",
       "    <tr>\n",
       "      <th>3</th>\n",
       "      <td>Arroz</td>\n",
       "      <td>Tio José</td>\n",
       "      <td>4</td>\n",
       "      <td>kg</td>\n",
       "      <td>8.64</td>\n",
       "      <td>Noite</td>\n",
       "      <td>14/05/2011</td>\n",
       "    </tr>\n",
       "    <tr>\n",
       "      <th>4</th>\n",
       "      <td>Arroz</td>\n",
       "      <td>Sem Broto</td>\n",
       "      <td>5</td>\n",
       "      <td>kg</td>\n",
       "      <td>9.99</td>\n",
       "      <td>Arpoador</td>\n",
       "      <td>10/06/2011</td>\n",
       "    </tr>\n",
       "  </tbody>\n",
       "</table>\n",
       "</div>"
      ],
      "text/plain": [
       "   Produto Fabricante  Qtd Medida  Preço Supermercado        Data\n",
       "9      Ovo    Caseiro    6      u   1.45        Noite  14/05/2011\n",
       "5    Arroz      Da TV    1     kg   1.99        Noite  14/06/2011\n",
       "7   Tomate         -     1     kg   2.99        Noite  16/05/2011\n",
       "0     Suco   ValeSuco    1      l   3.00     Arpoador  12/05/2011\n",
       "8      Ovo   A Granja   12      u   3.19     Arpoador  12/06/2011\n",
       "2   Tomate         -     1     kg   3.50        Noite  14/05/2011\n",
       "10    Suco      Flash    1      l   3.99        Noite  21/07/2011\n",
       "6   Feijão  Sem Broto    1     kg   4.00     Arpoador  12/05/2011\n",
       "1     Suco      Flash    1      l   4.50     Arpoador  18/05/2011\n",
       "3    Arroz   Tio José    4     kg   8.64        Noite  14/05/2011\n",
       "4    Arroz  Sem Broto    5     kg   9.99     Arpoador  10/06/2011"
      ]
     },
     "execution_count": 28,
     "metadata": {},
     "output_type": "execute_result"
    }
   ],
   "source": [
    "compras.sort_values(['Preço'])"
   ]
  },
  {
   "cell_type": "markdown",
   "metadata": {
    "slideshow": {
     "slide_type": "slide"
    }
   },
   "source": [
    "Para ordenar por ordem descendente dos valores, utiliza-se:"
   ]
  },
  {
   "cell_type": "code",
   "execution_count": 29,
   "metadata": {
    "slideshow": {
     "slide_type": "fragment"
    }
   },
   "outputs": [
    {
     "data": {
      "text/html": [
       "<div>\n",
       "<style scoped>\n",
       "    .dataframe tbody tr th:only-of-type {\n",
       "        vertical-align: middle;\n",
       "    }\n",
       "\n",
       "    .dataframe tbody tr th {\n",
       "        vertical-align: top;\n",
       "    }\n",
       "\n",
       "    .dataframe thead th {\n",
       "        text-align: right;\n",
       "    }\n",
       "</style>\n",
       "<table border=\"1\" class=\"dataframe\">\n",
       "  <thead>\n",
       "    <tr style=\"text-align: right;\">\n",
       "      <th></th>\n",
       "      <th>Produto</th>\n",
       "      <th>Fabricante</th>\n",
       "      <th>Qtd</th>\n",
       "      <th>Medida</th>\n",
       "      <th>Preço</th>\n",
       "      <th>Supermercado</th>\n",
       "      <th>Data</th>\n",
       "    </tr>\n",
       "  </thead>\n",
       "  <tbody>\n",
       "    <tr>\n",
       "      <th>4</th>\n",
       "      <td>Arroz</td>\n",
       "      <td>Sem Broto</td>\n",
       "      <td>5</td>\n",
       "      <td>kg</td>\n",
       "      <td>9.99</td>\n",
       "      <td>Arpoador</td>\n",
       "      <td>10/06/2011</td>\n",
       "    </tr>\n",
       "    <tr>\n",
       "      <th>3</th>\n",
       "      <td>Arroz</td>\n",
       "      <td>Tio José</td>\n",
       "      <td>4</td>\n",
       "      <td>kg</td>\n",
       "      <td>8.64</td>\n",
       "      <td>Noite</td>\n",
       "      <td>14/05/2011</td>\n",
       "    </tr>\n",
       "    <tr>\n",
       "      <th>1</th>\n",
       "      <td>Suco</td>\n",
       "      <td>Flash</td>\n",
       "      <td>1</td>\n",
       "      <td>l</td>\n",
       "      <td>4.50</td>\n",
       "      <td>Arpoador</td>\n",
       "      <td>18/05/2011</td>\n",
       "    </tr>\n",
       "    <tr>\n",
       "      <th>6</th>\n",
       "      <td>Feijão</td>\n",
       "      <td>Sem Broto</td>\n",
       "      <td>1</td>\n",
       "      <td>kg</td>\n",
       "      <td>4.00</td>\n",
       "      <td>Arpoador</td>\n",
       "      <td>12/05/2011</td>\n",
       "    </tr>\n",
       "    <tr>\n",
       "      <th>10</th>\n",
       "      <td>Suco</td>\n",
       "      <td>Flash</td>\n",
       "      <td>1</td>\n",
       "      <td>l</td>\n",
       "      <td>3.99</td>\n",
       "      <td>Noite</td>\n",
       "      <td>21/07/2011</td>\n",
       "    </tr>\n",
       "    <tr>\n",
       "      <th>2</th>\n",
       "      <td>Tomate</td>\n",
       "      <td>-</td>\n",
       "      <td>1</td>\n",
       "      <td>kg</td>\n",
       "      <td>3.50</td>\n",
       "      <td>Noite</td>\n",
       "      <td>14/05/2011</td>\n",
       "    </tr>\n",
       "    <tr>\n",
       "      <th>8</th>\n",
       "      <td>Ovo</td>\n",
       "      <td>A Granja</td>\n",
       "      <td>12</td>\n",
       "      <td>u</td>\n",
       "      <td>3.19</td>\n",
       "      <td>Arpoador</td>\n",
       "      <td>12/06/2011</td>\n",
       "    </tr>\n",
       "    <tr>\n",
       "      <th>0</th>\n",
       "      <td>Suco</td>\n",
       "      <td>ValeSuco</td>\n",
       "      <td>1</td>\n",
       "      <td>l</td>\n",
       "      <td>3.00</td>\n",
       "      <td>Arpoador</td>\n",
       "      <td>12/05/2011</td>\n",
       "    </tr>\n",
       "    <tr>\n",
       "      <th>7</th>\n",
       "      <td>Tomate</td>\n",
       "      <td>-</td>\n",
       "      <td>1</td>\n",
       "      <td>kg</td>\n",
       "      <td>2.99</td>\n",
       "      <td>Noite</td>\n",
       "      <td>16/05/2011</td>\n",
       "    </tr>\n",
       "    <tr>\n",
       "      <th>5</th>\n",
       "      <td>Arroz</td>\n",
       "      <td>Da TV</td>\n",
       "      <td>1</td>\n",
       "      <td>kg</td>\n",
       "      <td>1.99</td>\n",
       "      <td>Noite</td>\n",
       "      <td>14/06/2011</td>\n",
       "    </tr>\n",
       "    <tr>\n",
       "      <th>9</th>\n",
       "      <td>Ovo</td>\n",
       "      <td>Caseiro</td>\n",
       "      <td>6</td>\n",
       "      <td>u</td>\n",
       "      <td>1.45</td>\n",
       "      <td>Noite</td>\n",
       "      <td>14/05/2011</td>\n",
       "    </tr>\n",
       "  </tbody>\n",
       "</table>\n",
       "</div>"
      ],
      "text/plain": [
       "   Produto Fabricante  Qtd Medida  Preço Supermercado        Data\n",
       "4    Arroz  Sem Broto    5     kg   9.99     Arpoador  10/06/2011\n",
       "3    Arroz   Tio José    4     kg   8.64        Noite  14/05/2011\n",
       "1     Suco      Flash    1      l   4.50     Arpoador  18/05/2011\n",
       "6   Feijão  Sem Broto    1     kg   4.00     Arpoador  12/05/2011\n",
       "10    Suco      Flash    1      l   3.99        Noite  21/07/2011\n",
       "2   Tomate         -     1     kg   3.50        Noite  14/05/2011\n",
       "8      Ovo   A Granja   12      u   3.19     Arpoador  12/06/2011\n",
       "0     Suco   ValeSuco    1      l   3.00     Arpoador  12/05/2011\n",
       "7   Tomate         -     1     kg   2.99        Noite  16/05/2011\n",
       "5    Arroz      Da TV    1     kg   1.99        Noite  14/06/2011\n",
       "9      Ovo    Caseiro    6      u   1.45        Noite  14/05/2011"
      ]
     },
     "execution_count": 29,
     "metadata": {},
     "output_type": "execute_result"
    }
   ],
   "source": [
    "compras.sort_values(['Preço'], ascending=False)"
   ]
  },
  {
   "cell_type": "markdown",
   "metadata": {
    "slideshow": {
     "slide_type": "slide"
    }
   },
   "source": [
    "Se você colocar mais de um campo como argumento da função sort_values, a ordenação ocorrerá seguindo a ordem de prioridade igual à ordem em que os campos aparecem no argumento da função sort_values.\n",
    "\n",
    "Por exemplo, no comando abaixo a ordenação ocorre seguindo a ordem crescente do campo Preço. Quando o valor do campo Preço é igual, a ordenação ocorre seguindo o valor do campo Qtd."
   ]
  },
  {
   "cell_type": "code",
   "execution_count": 30,
   "metadata": {
    "slideshow": {
     "slide_type": "fragment"
    }
   },
   "outputs": [
    {
     "data": {
      "text/html": [
       "<div>\n",
       "<style scoped>\n",
       "    .dataframe tbody tr th:only-of-type {\n",
       "        vertical-align: middle;\n",
       "    }\n",
       "\n",
       "    .dataframe tbody tr th {\n",
       "        vertical-align: top;\n",
       "    }\n",
       "\n",
       "    .dataframe thead th {\n",
       "        text-align: right;\n",
       "    }\n",
       "</style>\n",
       "<table border=\"1\" class=\"dataframe\">\n",
       "  <thead>\n",
       "    <tr style=\"text-align: right;\">\n",
       "      <th></th>\n",
       "      <th>Produto</th>\n",
       "      <th>Fabricante</th>\n",
       "      <th>Qtd</th>\n",
       "      <th>Medida</th>\n",
       "      <th>Preço</th>\n",
       "      <th>Supermercado</th>\n",
       "      <th>Data</th>\n",
       "    </tr>\n",
       "  </thead>\n",
       "  <tbody>\n",
       "    <tr>\n",
       "      <th>9</th>\n",
       "      <td>Ovo</td>\n",
       "      <td>Caseiro</td>\n",
       "      <td>6</td>\n",
       "      <td>u</td>\n",
       "      <td>1.45</td>\n",
       "      <td>Noite</td>\n",
       "      <td>14/05/2011</td>\n",
       "    </tr>\n",
       "    <tr>\n",
       "      <th>5</th>\n",
       "      <td>Arroz</td>\n",
       "      <td>Da TV</td>\n",
       "      <td>1</td>\n",
       "      <td>kg</td>\n",
       "      <td>1.99</td>\n",
       "      <td>Noite</td>\n",
       "      <td>14/06/2011</td>\n",
       "    </tr>\n",
       "    <tr>\n",
       "      <th>7</th>\n",
       "      <td>Tomate</td>\n",
       "      <td>-</td>\n",
       "      <td>1</td>\n",
       "      <td>kg</td>\n",
       "      <td>2.99</td>\n",
       "      <td>Noite</td>\n",
       "      <td>16/05/2011</td>\n",
       "    </tr>\n",
       "    <tr>\n",
       "      <th>0</th>\n",
       "      <td>Suco</td>\n",
       "      <td>ValeSuco</td>\n",
       "      <td>1</td>\n",
       "      <td>l</td>\n",
       "      <td>3.00</td>\n",
       "      <td>Arpoador</td>\n",
       "      <td>12/05/2011</td>\n",
       "    </tr>\n",
       "    <tr>\n",
       "      <th>8</th>\n",
       "      <td>Ovo</td>\n",
       "      <td>A Granja</td>\n",
       "      <td>12</td>\n",
       "      <td>u</td>\n",
       "      <td>3.19</td>\n",
       "      <td>Arpoador</td>\n",
       "      <td>12/06/2011</td>\n",
       "    </tr>\n",
       "    <tr>\n",
       "      <th>2</th>\n",
       "      <td>Tomate</td>\n",
       "      <td>-</td>\n",
       "      <td>1</td>\n",
       "      <td>kg</td>\n",
       "      <td>3.50</td>\n",
       "      <td>Noite</td>\n",
       "      <td>14/05/2011</td>\n",
       "    </tr>\n",
       "    <tr>\n",
       "      <th>10</th>\n",
       "      <td>Suco</td>\n",
       "      <td>Flash</td>\n",
       "      <td>1</td>\n",
       "      <td>l</td>\n",
       "      <td>3.99</td>\n",
       "      <td>Noite</td>\n",
       "      <td>21/07/2011</td>\n",
       "    </tr>\n",
       "    <tr>\n",
       "      <th>6</th>\n",
       "      <td>Feijão</td>\n",
       "      <td>Sem Broto</td>\n",
       "      <td>1</td>\n",
       "      <td>kg</td>\n",
       "      <td>4.00</td>\n",
       "      <td>Arpoador</td>\n",
       "      <td>12/05/2011</td>\n",
       "    </tr>\n",
       "    <tr>\n",
       "      <th>1</th>\n",
       "      <td>Suco</td>\n",
       "      <td>Flash</td>\n",
       "      <td>1</td>\n",
       "      <td>l</td>\n",
       "      <td>4.50</td>\n",
       "      <td>Arpoador</td>\n",
       "      <td>18/05/2011</td>\n",
       "    </tr>\n",
       "    <tr>\n",
       "      <th>3</th>\n",
       "      <td>Arroz</td>\n",
       "      <td>Tio José</td>\n",
       "      <td>4</td>\n",
       "      <td>kg</td>\n",
       "      <td>8.64</td>\n",
       "      <td>Noite</td>\n",
       "      <td>14/05/2011</td>\n",
       "    </tr>\n",
       "    <tr>\n",
       "      <th>4</th>\n",
       "      <td>Arroz</td>\n",
       "      <td>Sem Broto</td>\n",
       "      <td>5</td>\n",
       "      <td>kg</td>\n",
       "      <td>9.99</td>\n",
       "      <td>Arpoador</td>\n",
       "      <td>10/06/2011</td>\n",
       "    </tr>\n",
       "  </tbody>\n",
       "</table>\n",
       "</div>"
      ],
      "text/plain": [
       "   Produto Fabricante  Qtd Medida  Preço Supermercado        Data\n",
       "9      Ovo    Caseiro    6      u   1.45        Noite  14/05/2011\n",
       "5    Arroz      Da TV    1     kg   1.99        Noite  14/06/2011\n",
       "7   Tomate         -     1     kg   2.99        Noite  16/05/2011\n",
       "0     Suco   ValeSuco    1      l   3.00     Arpoador  12/05/2011\n",
       "8      Ovo   A Granja   12      u   3.19     Arpoador  12/06/2011\n",
       "2   Tomate         -     1     kg   3.50        Noite  14/05/2011\n",
       "10    Suco      Flash    1      l   3.99        Noite  21/07/2011\n",
       "6   Feijão  Sem Broto    1     kg   4.00     Arpoador  12/05/2011\n",
       "1     Suco      Flash    1      l   4.50     Arpoador  18/05/2011\n",
       "3    Arroz   Tio José    4     kg   8.64        Noite  14/05/2011\n",
       "4    Arroz  Sem Broto    5     kg   9.99     Arpoador  10/06/2011"
      ]
     },
     "execution_count": 30,
     "metadata": {},
     "output_type": "execute_result"
    }
   ],
   "source": [
    "compras.sort_values(['Preço', 'Qtd'])"
   ]
  },
  {
   "cell_type": "markdown",
   "metadata": {
    "slideshow": {
     "slide_type": "slide"
    }
   },
   "source": [
    "### Lidando com datas\n",
    "\n",
    "Normalmente após ler algum arquivo que contenha algum campo com datas, a data é entendida como uma string (sequência de caracteres). Isso significa que não é possível ordenar de acordo com a data nem fazer um gráfico em que um dos eixos seja a coluna com datas."
   ]
  },
  {
   "cell_type": "markdown",
   "metadata": {
    "slideshow": {
     "slide_type": "fragment"
    }
   },
   "source": [
    "É necessário converter a string para o formato de datas. Isso é feito com o comando *pd.to_datetime*. Por exemplo, para converter a coluna Data para o formato de data, faz-se:"
   ]
  },
  {
   "cell_type": "code",
   "execution_count": 31,
   "metadata": {
    "slideshow": {
     "slide_type": "fragment"
    }
   },
   "outputs": [
    {
     "data": {
      "text/html": [
       "<div>\n",
       "<style scoped>\n",
       "    .dataframe tbody tr th:only-of-type {\n",
       "        vertical-align: middle;\n",
       "    }\n",
       "\n",
       "    .dataframe tbody tr th {\n",
       "        vertical-align: top;\n",
       "    }\n",
       "\n",
       "    .dataframe thead th {\n",
       "        text-align: right;\n",
       "    }\n",
       "</style>\n",
       "<table border=\"1\" class=\"dataframe\">\n",
       "  <thead>\n",
       "    <tr style=\"text-align: right;\">\n",
       "      <th></th>\n",
       "      <th>Produto</th>\n",
       "      <th>Fabricante</th>\n",
       "      <th>Qtd</th>\n",
       "      <th>Medida</th>\n",
       "      <th>Preço</th>\n",
       "      <th>Supermercado</th>\n",
       "      <th>Data</th>\n",
       "    </tr>\n",
       "  </thead>\n",
       "  <tbody>\n",
       "    <tr>\n",
       "      <th>0</th>\n",
       "      <td>Suco</td>\n",
       "      <td>ValeSuco</td>\n",
       "      <td>1</td>\n",
       "      <td>l</td>\n",
       "      <td>3.00</td>\n",
       "      <td>Arpoador</td>\n",
       "      <td>2011-05-12</td>\n",
       "    </tr>\n",
       "    <tr>\n",
       "      <th>1</th>\n",
       "      <td>Suco</td>\n",
       "      <td>Flash</td>\n",
       "      <td>1</td>\n",
       "      <td>l</td>\n",
       "      <td>4.50</td>\n",
       "      <td>Arpoador</td>\n",
       "      <td>2011-05-18</td>\n",
       "    </tr>\n",
       "    <tr>\n",
       "      <th>2</th>\n",
       "      <td>Tomate</td>\n",
       "      <td>-</td>\n",
       "      <td>1</td>\n",
       "      <td>kg</td>\n",
       "      <td>3.50</td>\n",
       "      <td>Noite</td>\n",
       "      <td>2011-05-14</td>\n",
       "    </tr>\n",
       "    <tr>\n",
       "      <th>3</th>\n",
       "      <td>Arroz</td>\n",
       "      <td>Tio José</td>\n",
       "      <td>4</td>\n",
       "      <td>kg</td>\n",
       "      <td>8.64</td>\n",
       "      <td>Noite</td>\n",
       "      <td>2011-05-14</td>\n",
       "    </tr>\n",
       "    <tr>\n",
       "      <th>4</th>\n",
       "      <td>Arroz</td>\n",
       "      <td>Sem Broto</td>\n",
       "      <td>5</td>\n",
       "      <td>kg</td>\n",
       "      <td>9.99</td>\n",
       "      <td>Arpoador</td>\n",
       "      <td>2011-06-10</td>\n",
       "    </tr>\n",
       "    <tr>\n",
       "      <th>5</th>\n",
       "      <td>Arroz</td>\n",
       "      <td>Da TV</td>\n",
       "      <td>1</td>\n",
       "      <td>kg</td>\n",
       "      <td>1.99</td>\n",
       "      <td>Noite</td>\n",
       "      <td>2011-06-14</td>\n",
       "    </tr>\n",
       "    <tr>\n",
       "      <th>6</th>\n",
       "      <td>Feijão</td>\n",
       "      <td>Sem Broto</td>\n",
       "      <td>1</td>\n",
       "      <td>kg</td>\n",
       "      <td>4.00</td>\n",
       "      <td>Arpoador</td>\n",
       "      <td>2011-05-12</td>\n",
       "    </tr>\n",
       "    <tr>\n",
       "      <th>7</th>\n",
       "      <td>Tomate</td>\n",
       "      <td>-</td>\n",
       "      <td>1</td>\n",
       "      <td>kg</td>\n",
       "      <td>2.99</td>\n",
       "      <td>Noite</td>\n",
       "      <td>2011-05-16</td>\n",
       "    </tr>\n",
       "    <tr>\n",
       "      <th>8</th>\n",
       "      <td>Ovo</td>\n",
       "      <td>A Granja</td>\n",
       "      <td>12</td>\n",
       "      <td>u</td>\n",
       "      <td>3.19</td>\n",
       "      <td>Arpoador</td>\n",
       "      <td>2011-06-12</td>\n",
       "    </tr>\n",
       "    <tr>\n",
       "      <th>9</th>\n",
       "      <td>Ovo</td>\n",
       "      <td>Caseiro</td>\n",
       "      <td>6</td>\n",
       "      <td>u</td>\n",
       "      <td>1.45</td>\n",
       "      <td>Noite</td>\n",
       "      <td>2011-05-14</td>\n",
       "    </tr>\n",
       "    <tr>\n",
       "      <th>10</th>\n",
       "      <td>Suco</td>\n",
       "      <td>Flash</td>\n",
       "      <td>1</td>\n",
       "      <td>l</td>\n",
       "      <td>3.99</td>\n",
       "      <td>Noite</td>\n",
       "      <td>2011-07-21</td>\n",
       "    </tr>\n",
       "  </tbody>\n",
       "</table>\n",
       "</div>"
      ],
      "text/plain": [
       "   Produto Fabricante  Qtd Medida  Preço Supermercado       Data\n",
       "0     Suco   ValeSuco    1      l   3.00     Arpoador 2011-05-12\n",
       "1     Suco      Flash    1      l   4.50     Arpoador 2011-05-18\n",
       "2   Tomate         -     1     kg   3.50        Noite 2011-05-14\n",
       "3    Arroz   Tio José    4     kg   8.64        Noite 2011-05-14\n",
       "4    Arroz  Sem Broto    5     kg   9.99     Arpoador 2011-06-10\n",
       "5    Arroz      Da TV    1     kg   1.99        Noite 2011-06-14\n",
       "6   Feijão  Sem Broto    1     kg   4.00     Arpoador 2011-05-12\n",
       "7   Tomate         -     1     kg   2.99        Noite 2011-05-16\n",
       "8      Ovo   A Granja   12      u   3.19     Arpoador 2011-06-12\n",
       "9      Ovo    Caseiro    6      u   1.45        Noite 2011-05-14\n",
       "10    Suco      Flash    1      l   3.99        Noite 2011-07-21"
      ]
     },
     "execution_count": 31,
     "metadata": {},
     "output_type": "execute_result"
    }
   ],
   "source": [
    "compras['Data'] = pd.to_datetime(compras['Data'], format = '%d/%m/%Y')\n",
    "compras"
   ]
  },
  {
   "cell_type": "markdown",
   "metadata": {
    "slideshow": {
     "slide_type": "fragment"
    }
   },
   "source": [
    "Dentro do comando *to_datetime*, na opção dada pela palavra-chave *format* deve estar contido o formato em que a data está escrita. O %d significa dia, %m, significa mês e %Y significa ano com quatro dígitos (se fosse ano com 2 dígitos seria %y)."
   ]
  },
  {
   "cell_type": "markdown",
   "metadata": {
    "slideshow": {
     "slide_type": "slide"
    }
   },
   "source": [
    "Agora é possível ordenar de acordo com a Data. "
   ]
  },
  {
   "cell_type": "code",
   "execution_count": 32,
   "metadata": {
    "slideshow": {
     "slide_type": "fragment"
    }
   },
   "outputs": [
    {
     "data": {
      "text/html": [
       "<div>\n",
       "<style scoped>\n",
       "    .dataframe tbody tr th:only-of-type {\n",
       "        vertical-align: middle;\n",
       "    }\n",
       "\n",
       "    .dataframe tbody tr th {\n",
       "        vertical-align: top;\n",
       "    }\n",
       "\n",
       "    .dataframe thead th {\n",
       "        text-align: right;\n",
       "    }\n",
       "</style>\n",
       "<table border=\"1\" class=\"dataframe\">\n",
       "  <thead>\n",
       "    <tr style=\"text-align: right;\">\n",
       "      <th></th>\n",
       "      <th>Produto</th>\n",
       "      <th>Fabricante</th>\n",
       "      <th>Qtd</th>\n",
       "      <th>Medida</th>\n",
       "      <th>Preço</th>\n",
       "      <th>Supermercado</th>\n",
       "      <th>Data</th>\n",
       "    </tr>\n",
       "  </thead>\n",
       "  <tbody>\n",
       "    <tr>\n",
       "      <th>0</th>\n",
       "      <td>Suco</td>\n",
       "      <td>ValeSuco</td>\n",
       "      <td>1</td>\n",
       "      <td>l</td>\n",
       "      <td>3.00</td>\n",
       "      <td>Arpoador</td>\n",
       "      <td>2011-05-12</td>\n",
       "    </tr>\n",
       "    <tr>\n",
       "      <th>6</th>\n",
       "      <td>Feijão</td>\n",
       "      <td>Sem Broto</td>\n",
       "      <td>1</td>\n",
       "      <td>kg</td>\n",
       "      <td>4.00</td>\n",
       "      <td>Arpoador</td>\n",
       "      <td>2011-05-12</td>\n",
       "    </tr>\n",
       "    <tr>\n",
       "      <th>9</th>\n",
       "      <td>Ovo</td>\n",
       "      <td>Caseiro</td>\n",
       "      <td>6</td>\n",
       "      <td>u</td>\n",
       "      <td>1.45</td>\n",
       "      <td>Noite</td>\n",
       "      <td>2011-05-14</td>\n",
       "    </tr>\n",
       "    <tr>\n",
       "      <th>2</th>\n",
       "      <td>Tomate</td>\n",
       "      <td>-</td>\n",
       "      <td>1</td>\n",
       "      <td>kg</td>\n",
       "      <td>3.50</td>\n",
       "      <td>Noite</td>\n",
       "      <td>2011-05-14</td>\n",
       "    </tr>\n",
       "    <tr>\n",
       "      <th>3</th>\n",
       "      <td>Arroz</td>\n",
       "      <td>Tio José</td>\n",
       "      <td>4</td>\n",
       "      <td>kg</td>\n",
       "      <td>8.64</td>\n",
       "      <td>Noite</td>\n",
       "      <td>2011-05-14</td>\n",
       "    </tr>\n",
       "    <tr>\n",
       "      <th>7</th>\n",
       "      <td>Tomate</td>\n",
       "      <td>-</td>\n",
       "      <td>1</td>\n",
       "      <td>kg</td>\n",
       "      <td>2.99</td>\n",
       "      <td>Noite</td>\n",
       "      <td>2011-05-16</td>\n",
       "    </tr>\n",
       "    <tr>\n",
       "      <th>1</th>\n",
       "      <td>Suco</td>\n",
       "      <td>Flash</td>\n",
       "      <td>1</td>\n",
       "      <td>l</td>\n",
       "      <td>4.50</td>\n",
       "      <td>Arpoador</td>\n",
       "      <td>2011-05-18</td>\n",
       "    </tr>\n",
       "    <tr>\n",
       "      <th>4</th>\n",
       "      <td>Arroz</td>\n",
       "      <td>Sem Broto</td>\n",
       "      <td>5</td>\n",
       "      <td>kg</td>\n",
       "      <td>9.99</td>\n",
       "      <td>Arpoador</td>\n",
       "      <td>2011-06-10</td>\n",
       "    </tr>\n",
       "    <tr>\n",
       "      <th>8</th>\n",
       "      <td>Ovo</td>\n",
       "      <td>A Granja</td>\n",
       "      <td>12</td>\n",
       "      <td>u</td>\n",
       "      <td>3.19</td>\n",
       "      <td>Arpoador</td>\n",
       "      <td>2011-06-12</td>\n",
       "    </tr>\n",
       "    <tr>\n",
       "      <th>5</th>\n",
       "      <td>Arroz</td>\n",
       "      <td>Da TV</td>\n",
       "      <td>1</td>\n",
       "      <td>kg</td>\n",
       "      <td>1.99</td>\n",
       "      <td>Noite</td>\n",
       "      <td>2011-06-14</td>\n",
       "    </tr>\n",
       "    <tr>\n",
       "      <th>10</th>\n",
       "      <td>Suco</td>\n",
       "      <td>Flash</td>\n",
       "      <td>1</td>\n",
       "      <td>l</td>\n",
       "      <td>3.99</td>\n",
       "      <td>Noite</td>\n",
       "      <td>2011-07-21</td>\n",
       "    </tr>\n",
       "  </tbody>\n",
       "</table>\n",
       "</div>"
      ],
      "text/plain": [
       "   Produto Fabricante  Qtd Medida  Preço Supermercado       Data\n",
       "0     Suco   ValeSuco    1      l   3.00     Arpoador 2011-05-12\n",
       "6   Feijão  Sem Broto    1     kg   4.00     Arpoador 2011-05-12\n",
       "9      Ovo    Caseiro    6      u   1.45        Noite 2011-05-14\n",
       "2   Tomate         -     1     kg   3.50        Noite 2011-05-14\n",
       "3    Arroz   Tio José    4     kg   8.64        Noite 2011-05-14\n",
       "7   Tomate         -     1     kg   2.99        Noite 2011-05-16\n",
       "1     Suco      Flash    1      l   4.50     Arpoador 2011-05-18\n",
       "4    Arroz  Sem Broto    5     kg   9.99     Arpoador 2011-06-10\n",
       "8      Ovo   A Granja   12      u   3.19     Arpoador 2011-06-12\n",
       "5    Arroz      Da TV    1     kg   1.99        Noite 2011-06-14\n",
       "10    Suco      Flash    1      l   3.99        Noite 2011-07-21"
      ]
     },
     "execution_count": 32,
     "metadata": {},
     "output_type": "execute_result"
    }
   ],
   "source": [
    "compras = compras.sort_values(['Data', 'Preço'])\n",
    "compras"
   ]
  },
  {
   "cell_type": "markdown",
   "metadata": {
    "slideshow": {
     "slide_type": "slide"
    }
   },
   "source": [
    "Agora que o Pandas entende que o dado contido no campo 'Data' é uma data você pode extrair informações como o dia ou o mês.\n",
    "\n",
    "Por exemplo, para extrair a informação do ano de cada uma das datas, basta:"
   ]
  },
  {
   "cell_type": "code",
   "execution_count": 33,
   "metadata": {
    "slideshow": {
     "slide_type": "fragment"
    }
   },
   "outputs": [
    {
     "name": "stdout",
     "output_type": "stream",
     "text": [
      "0     2011\n",
      "6     2011\n",
      "9     2011\n",
      "2     2011\n",
      "3     2011\n",
      "7     2011\n",
      "1     2011\n",
      "4     2011\n",
      "8     2011\n",
      "5     2011\n",
      "10    2011\n",
      "Name: Data, dtype: int64\n"
     ]
    }
   ],
   "source": [
    "print(compras['Data'].dt.year)"
   ]
  },
  {
   "cell_type": "markdown",
   "metadata": {
    "slideshow": {
     "slide_type": "slide"
    }
   },
   "source": [
    "De forma similar, para extrair a informação do dia e do mês:"
   ]
  },
  {
   "cell_type": "code",
   "execution_count": 34,
   "metadata": {
    "slideshow": {
     "slide_type": "fragment"
    }
   },
   "outputs": [
    {
     "name": "stdout",
     "output_type": "stream",
     "text": [
      "0     12\n",
      "6     12\n",
      "9     14\n",
      "2     14\n",
      "3     14\n",
      "7     16\n",
      "1     18\n",
      "4     10\n",
      "8     12\n",
      "5     14\n",
      "10    21\n",
      "Name: Data, dtype: int64\n",
      "0     5\n",
      "6     5\n",
      "9     5\n",
      "2     5\n",
      "3     5\n",
      "7     5\n",
      "1     5\n",
      "4     6\n",
      "8     6\n",
      "5     6\n",
      "10    7\n",
      "Name: Data, dtype: int64\n"
     ]
    }
   ],
   "source": [
    "print(compras['Data'].dt.day)\n",
    "print(compras['Data'].dt.month)"
   ]
  },
  {
   "cell_type": "markdown",
   "metadata": {
    "slideshow": {
     "slide_type": "slide"
    }
   },
   "source": [
    "### Contando valores iguais\n",
    "\n",
    "É possível contar quantas vezes os valores de um campo específico aparecem. Isso é feito com o comando *value_counts*."
   ]
  },
  {
   "cell_type": "code",
   "execution_count": 35,
   "metadata": {
    "slideshow": {
     "slide_type": "fragment"
    }
   },
   "outputs": [
    {
     "data": {
      "text/plain": [
       "Suco      3\n",
       "Arroz     3\n",
       "Ovo       2\n",
       "Tomate    2\n",
       "Feijão    1\n",
       "Name: Produto, dtype: int64"
      ]
     },
     "execution_count": 35,
     "metadata": {},
     "output_type": "execute_result"
    }
   ],
   "source": [
    "compras['Produto'].value_counts()\n"
   ]
  },
  {
   "cell_type": "markdown",
   "metadata": {
    "slideshow": {
     "slide_type": "slide"
    }
   },
   "source": [
    "### Criando uma nova coluna\n",
    "\n",
    "É possível criar novas colunas em um DataFrame. Por exemplo, para criar uma nova coluna 'Preço/Un', e atribuir valores iguais aos valores contidos em Preço divididos pelos valores contidos em Qtd, deve-se digitar a seguinte instrução:"
   ]
  },
  {
   "cell_type": "code",
   "execution_count": 37,
   "metadata": {
    "slideshow": {
     "slide_type": "fragment"
    }
   },
   "outputs": [
    {
     "data": {
      "text/html": [
       "<div>\n",
       "<style scoped>\n",
       "    .dataframe tbody tr th:only-of-type {\n",
       "        vertical-align: middle;\n",
       "    }\n",
       "\n",
       "    .dataframe tbody tr th {\n",
       "        vertical-align: top;\n",
       "    }\n",
       "\n",
       "    .dataframe thead th {\n",
       "        text-align: right;\n",
       "    }\n",
       "</style>\n",
       "<table border=\"1\" class=\"dataframe\">\n",
       "  <thead>\n",
       "    <tr style=\"text-align: right;\">\n",
       "      <th></th>\n",
       "      <th>Produto</th>\n",
       "      <th>Fabricante</th>\n",
       "      <th>Qtd</th>\n",
       "      <th>Medida</th>\n",
       "      <th>Preço</th>\n",
       "      <th>Supermercado</th>\n",
       "      <th>Data</th>\n",
       "      <th>Preço/Un</th>\n",
       "    </tr>\n",
       "  </thead>\n",
       "  <tbody>\n",
       "    <tr>\n",
       "      <th>0</th>\n",
       "      <td>Suco</td>\n",
       "      <td>ValeSuco</td>\n",
       "      <td>1</td>\n",
       "      <td>l</td>\n",
       "      <td>3.00</td>\n",
       "      <td>Arpoador</td>\n",
       "      <td>2011-05-12</td>\n",
       "      <td>3.000000</td>\n",
       "    </tr>\n",
       "    <tr>\n",
       "      <th>6</th>\n",
       "      <td>Feijão</td>\n",
       "      <td>Sem Broto</td>\n",
       "      <td>1</td>\n",
       "      <td>kg</td>\n",
       "      <td>4.00</td>\n",
       "      <td>Arpoador</td>\n",
       "      <td>2011-05-12</td>\n",
       "      <td>4.000000</td>\n",
       "    </tr>\n",
       "    <tr>\n",
       "      <th>9</th>\n",
       "      <td>Ovo</td>\n",
       "      <td>Caseiro</td>\n",
       "      <td>6</td>\n",
       "      <td>u</td>\n",
       "      <td>1.45</td>\n",
       "      <td>Noite</td>\n",
       "      <td>2011-05-14</td>\n",
       "      <td>0.241667</td>\n",
       "    </tr>\n",
       "    <tr>\n",
       "      <th>2</th>\n",
       "      <td>Tomate</td>\n",
       "      <td>-</td>\n",
       "      <td>1</td>\n",
       "      <td>kg</td>\n",
       "      <td>3.50</td>\n",
       "      <td>Noite</td>\n",
       "      <td>2011-05-14</td>\n",
       "      <td>3.500000</td>\n",
       "    </tr>\n",
       "    <tr>\n",
       "      <th>3</th>\n",
       "      <td>Arroz</td>\n",
       "      <td>Tio José</td>\n",
       "      <td>4</td>\n",
       "      <td>kg</td>\n",
       "      <td>8.64</td>\n",
       "      <td>Noite</td>\n",
       "      <td>2011-05-14</td>\n",
       "      <td>2.160000</td>\n",
       "    </tr>\n",
       "    <tr>\n",
       "      <th>7</th>\n",
       "      <td>Tomate</td>\n",
       "      <td>-</td>\n",
       "      <td>1</td>\n",
       "      <td>kg</td>\n",
       "      <td>2.99</td>\n",
       "      <td>Noite</td>\n",
       "      <td>2011-05-16</td>\n",
       "      <td>2.990000</td>\n",
       "    </tr>\n",
       "    <tr>\n",
       "      <th>1</th>\n",
       "      <td>Suco</td>\n",
       "      <td>Flash</td>\n",
       "      <td>1</td>\n",
       "      <td>l</td>\n",
       "      <td>4.50</td>\n",
       "      <td>Arpoador</td>\n",
       "      <td>2011-05-18</td>\n",
       "      <td>4.500000</td>\n",
       "    </tr>\n",
       "    <tr>\n",
       "      <th>4</th>\n",
       "      <td>Arroz</td>\n",
       "      <td>Sem Broto</td>\n",
       "      <td>5</td>\n",
       "      <td>kg</td>\n",
       "      <td>9.99</td>\n",
       "      <td>Arpoador</td>\n",
       "      <td>2011-06-10</td>\n",
       "      <td>1.998000</td>\n",
       "    </tr>\n",
       "    <tr>\n",
       "      <th>8</th>\n",
       "      <td>Ovo</td>\n",
       "      <td>A Granja</td>\n",
       "      <td>12</td>\n",
       "      <td>u</td>\n",
       "      <td>3.19</td>\n",
       "      <td>Arpoador</td>\n",
       "      <td>2011-06-12</td>\n",
       "      <td>0.265833</td>\n",
       "    </tr>\n",
       "    <tr>\n",
       "      <th>5</th>\n",
       "      <td>Arroz</td>\n",
       "      <td>Da TV</td>\n",
       "      <td>1</td>\n",
       "      <td>kg</td>\n",
       "      <td>1.99</td>\n",
       "      <td>Noite</td>\n",
       "      <td>2011-06-14</td>\n",
       "      <td>1.990000</td>\n",
       "    </tr>\n",
       "    <tr>\n",
       "      <th>10</th>\n",
       "      <td>Suco</td>\n",
       "      <td>Flash</td>\n",
       "      <td>1</td>\n",
       "      <td>l</td>\n",
       "      <td>3.99</td>\n",
       "      <td>Noite</td>\n",
       "      <td>2011-07-21</td>\n",
       "      <td>3.990000</td>\n",
       "    </tr>\n",
       "  </tbody>\n",
       "</table>\n",
       "</div>"
      ],
      "text/plain": [
       "   Produto Fabricante  Qtd Medida  Preço Supermercado       Data  Preço/Un\n",
       "0     Suco   ValeSuco    1      l   3.00     Arpoador 2011-05-12  3.000000\n",
       "6   Feijão  Sem Broto    1     kg   4.00     Arpoador 2011-05-12  4.000000\n",
       "9      Ovo    Caseiro    6      u   1.45        Noite 2011-05-14  0.241667\n",
       "2   Tomate         -     1     kg   3.50        Noite 2011-05-14  3.500000\n",
       "3    Arroz   Tio José    4     kg   8.64        Noite 2011-05-14  2.160000\n",
       "7   Tomate         -     1     kg   2.99        Noite 2011-05-16  2.990000\n",
       "1     Suco      Flash    1      l   4.50     Arpoador 2011-05-18  4.500000\n",
       "4    Arroz  Sem Broto    5     kg   9.99     Arpoador 2011-06-10  1.998000\n",
       "8      Ovo   A Granja   12      u   3.19     Arpoador 2011-06-12  0.265833\n",
       "5    Arroz      Da TV    1     kg   1.99        Noite 2011-06-14  1.990000\n",
       "10    Suco      Flash    1      l   3.99        Noite 2011-07-21  3.990000"
      ]
     },
     "execution_count": 37,
     "metadata": {},
     "output_type": "execute_result"
    }
   ],
   "source": [
    "compras['Preço/Un'] = compras['Preço']/compras['Qtd']\n",
    "compras"
   ]
  },
  {
   "cell_type": "markdown",
   "metadata": {
    "slideshow": {
     "slide_type": "fragment"
    }
   },
   "source": [
    "Cuidado: se a coluna já existir, os valores já existentes serão sobrepostos pelos novos."
   ]
  },
  {
   "cell_type": "markdown",
   "metadata": {
    "slideshow": {
     "slide_type": "slide"
    }
   },
   "source": [
    "### Selecionando um valor de uma coluna\n",
    "\n",
    "Adicionando '.at' após ter selecionado a coluna e colocando entre colchetes o valor do índice da linha correspondente (o valor em negrito, na primeira coluna do DataFrame):"
   ]
  },
  {
   "cell_type": "markdown",
   "metadata": {
    "slideshow": {
     "slide_type": "fragment"
    }
   },
   "source": [
    "Então, para selecionar o valor da coluna 'Preço' da linha cujo índice é 4, fazemos:"
   ]
  },
  {
   "cell_type": "code",
   "execution_count": 38,
   "metadata": {
    "slideshow": {
     "slide_type": "fragment"
    }
   },
   "outputs": [
    {
     "name": "stdout",
     "output_type": "stream",
     "text": [
      "9.99\n"
     ]
    }
   ],
   "source": [
    "print(compras['Preço'].at[4])"
   ]
  },
  {
   "cell_type": "markdown",
   "metadata": {
    "slideshow": {
     "slide_type": "slide"
    }
   },
   "source": [
    "### Mostrando o começo ou o fim de uma tabela\n",
    "\n",
    "Com o comando '.head()' acrescentado após o nome do DataFrame é mostrado o começo da tabela."
   ]
  },
  {
   "cell_type": "code",
   "execution_count": 40,
   "metadata": {
    "slideshow": {
     "slide_type": "fragment"
    }
   },
   "outputs": [
    {
     "data": {
      "text/html": [
       "<div>\n",
       "<style scoped>\n",
       "    .dataframe tbody tr th:only-of-type {\n",
       "        vertical-align: middle;\n",
       "    }\n",
       "\n",
       "    .dataframe tbody tr th {\n",
       "        vertical-align: top;\n",
       "    }\n",
       "\n",
       "    .dataframe thead th {\n",
       "        text-align: right;\n",
       "    }\n",
       "</style>\n",
       "<table border=\"1\" class=\"dataframe\">\n",
       "  <thead>\n",
       "    <tr style=\"text-align: right;\">\n",
       "      <th></th>\n",
       "      <th>Produto</th>\n",
       "      <th>Fabricante</th>\n",
       "      <th>Qtd</th>\n",
       "      <th>Medida</th>\n",
       "      <th>Preço</th>\n",
       "      <th>Supermercado</th>\n",
       "      <th>Data</th>\n",
       "      <th>Preço/Un</th>\n",
       "    </tr>\n",
       "  </thead>\n",
       "  <tbody>\n",
       "    <tr>\n",
       "      <th>0</th>\n",
       "      <td>Suco</td>\n",
       "      <td>ValeSuco</td>\n",
       "      <td>1</td>\n",
       "      <td>l</td>\n",
       "      <td>3.00</td>\n",
       "      <td>Arpoador</td>\n",
       "      <td>2011-05-12</td>\n",
       "      <td>3.000000</td>\n",
       "    </tr>\n",
       "    <tr>\n",
       "      <th>6</th>\n",
       "      <td>Feijão</td>\n",
       "      <td>Sem Broto</td>\n",
       "      <td>1</td>\n",
       "      <td>kg</td>\n",
       "      <td>4.00</td>\n",
       "      <td>Arpoador</td>\n",
       "      <td>2011-05-12</td>\n",
       "      <td>4.000000</td>\n",
       "    </tr>\n",
       "    <tr>\n",
       "      <th>9</th>\n",
       "      <td>Ovo</td>\n",
       "      <td>Caseiro</td>\n",
       "      <td>6</td>\n",
       "      <td>u</td>\n",
       "      <td>1.45</td>\n",
       "      <td>Noite</td>\n",
       "      <td>2011-05-14</td>\n",
       "      <td>0.241667</td>\n",
       "    </tr>\n",
       "    <tr>\n",
       "      <th>2</th>\n",
       "      <td>Tomate</td>\n",
       "      <td>-</td>\n",
       "      <td>1</td>\n",
       "      <td>kg</td>\n",
       "      <td>3.50</td>\n",
       "      <td>Noite</td>\n",
       "      <td>2011-05-14</td>\n",
       "      <td>3.500000</td>\n",
       "    </tr>\n",
       "    <tr>\n",
       "      <th>3</th>\n",
       "      <td>Arroz</td>\n",
       "      <td>Tio José</td>\n",
       "      <td>4</td>\n",
       "      <td>kg</td>\n",
       "      <td>8.64</td>\n",
       "      <td>Noite</td>\n",
       "      <td>2011-05-14</td>\n",
       "      <td>2.160000</td>\n",
       "    </tr>\n",
       "  </tbody>\n",
       "</table>\n",
       "</div>"
      ],
      "text/plain": [
       "  Produto Fabricante  Qtd Medida  Preço Supermercado       Data  Preço/Un\n",
       "0    Suco   ValeSuco    1      l   3.00     Arpoador 2011-05-12  3.000000\n",
       "6  Feijão  Sem Broto    1     kg   4.00     Arpoador 2011-05-12  4.000000\n",
       "9     Ovo    Caseiro    6      u   1.45        Noite 2011-05-14  0.241667\n",
       "2  Tomate         -     1     kg   3.50        Noite 2011-05-14  3.500000\n",
       "3   Arroz   Tio José    4     kg   8.64        Noite 2011-05-14  2.160000"
      ]
     },
     "execution_count": 40,
     "metadata": {},
     "output_type": "execute_result"
    }
   ],
   "source": [
    "compras.head()"
   ]
  },
  {
   "cell_type": "markdown",
   "metadata": {
    "slideshow": {
     "slide_type": "fragment"
    }
   },
   "source": [
    "Por default (padrão), o número de linhas mostradas é cinco. Se você quiser outro número, é só especificar o número entre os parênteses. Por exemplo, para mostrar as primeiras três linhas:"
   ]
  },
  {
   "cell_type": "code",
   "execution_count": 41,
   "metadata": {
    "slideshow": {
     "slide_type": "fragment"
    }
   },
   "outputs": [
    {
     "data": {
      "text/html": [
       "<div>\n",
       "<style scoped>\n",
       "    .dataframe tbody tr th:only-of-type {\n",
       "        vertical-align: middle;\n",
       "    }\n",
       "\n",
       "    .dataframe tbody tr th {\n",
       "        vertical-align: top;\n",
       "    }\n",
       "\n",
       "    .dataframe thead th {\n",
       "        text-align: right;\n",
       "    }\n",
       "</style>\n",
       "<table border=\"1\" class=\"dataframe\">\n",
       "  <thead>\n",
       "    <tr style=\"text-align: right;\">\n",
       "      <th></th>\n",
       "      <th>Produto</th>\n",
       "      <th>Fabricante</th>\n",
       "      <th>Qtd</th>\n",
       "      <th>Medida</th>\n",
       "      <th>Preço</th>\n",
       "      <th>Supermercado</th>\n",
       "      <th>Data</th>\n",
       "      <th>Preço/Un</th>\n",
       "    </tr>\n",
       "  </thead>\n",
       "  <tbody>\n",
       "    <tr>\n",
       "      <th>0</th>\n",
       "      <td>Suco</td>\n",
       "      <td>ValeSuco</td>\n",
       "      <td>1</td>\n",
       "      <td>l</td>\n",
       "      <td>3.00</td>\n",
       "      <td>Arpoador</td>\n",
       "      <td>2011-05-12</td>\n",
       "      <td>3.000000</td>\n",
       "    </tr>\n",
       "    <tr>\n",
       "      <th>6</th>\n",
       "      <td>Feijão</td>\n",
       "      <td>Sem Broto</td>\n",
       "      <td>1</td>\n",
       "      <td>kg</td>\n",
       "      <td>4.00</td>\n",
       "      <td>Arpoador</td>\n",
       "      <td>2011-05-12</td>\n",
       "      <td>4.000000</td>\n",
       "    </tr>\n",
       "    <tr>\n",
       "      <th>9</th>\n",
       "      <td>Ovo</td>\n",
       "      <td>Caseiro</td>\n",
       "      <td>6</td>\n",
       "      <td>u</td>\n",
       "      <td>1.45</td>\n",
       "      <td>Noite</td>\n",
       "      <td>2011-05-14</td>\n",
       "      <td>0.241667</td>\n",
       "    </tr>\n",
       "  </tbody>\n",
       "</table>\n",
       "</div>"
      ],
      "text/plain": [
       "  Produto Fabricante  Qtd Medida  Preço Supermercado       Data  Preço/Un\n",
       "0    Suco   ValeSuco    1      l   3.00     Arpoador 2011-05-12  3.000000\n",
       "6  Feijão  Sem Broto    1     kg   4.00     Arpoador 2011-05-12  4.000000\n",
       "9     Ovo    Caseiro    6      u   1.45        Noite 2011-05-14  0.241667"
      ]
     },
     "execution_count": 41,
     "metadata": {},
     "output_type": "execute_result"
    }
   ],
   "source": [
    "compras.head(3)"
   ]
  },
  {
   "cell_type": "markdown",
   "metadata": {
    "slideshow": {
     "slide_type": "slide"
    }
   },
   "source": [
    "Com o comando '.tail()' acrescentado após o nome do DataFrame é mostrado o fim da tabela."
   ]
  },
  {
   "cell_type": "code",
   "execution_count": 42,
   "metadata": {
    "slideshow": {
     "slide_type": "fragment"
    }
   },
   "outputs": [
    {
     "data": {
      "text/html": [
       "<div>\n",
       "<style scoped>\n",
       "    .dataframe tbody tr th:only-of-type {\n",
       "        vertical-align: middle;\n",
       "    }\n",
       "\n",
       "    .dataframe tbody tr th {\n",
       "        vertical-align: top;\n",
       "    }\n",
       "\n",
       "    .dataframe thead th {\n",
       "        text-align: right;\n",
       "    }\n",
       "</style>\n",
       "<table border=\"1\" class=\"dataframe\">\n",
       "  <thead>\n",
       "    <tr style=\"text-align: right;\">\n",
       "      <th></th>\n",
       "      <th>Produto</th>\n",
       "      <th>Fabricante</th>\n",
       "      <th>Qtd</th>\n",
       "      <th>Medida</th>\n",
       "      <th>Preço</th>\n",
       "      <th>Supermercado</th>\n",
       "      <th>Data</th>\n",
       "      <th>Preço/Un</th>\n",
       "    </tr>\n",
       "  </thead>\n",
       "  <tbody>\n",
       "    <tr>\n",
       "      <th>1</th>\n",
       "      <td>Suco</td>\n",
       "      <td>Flash</td>\n",
       "      <td>1</td>\n",
       "      <td>l</td>\n",
       "      <td>4.50</td>\n",
       "      <td>Arpoador</td>\n",
       "      <td>2011-05-18</td>\n",
       "      <td>4.500000</td>\n",
       "    </tr>\n",
       "    <tr>\n",
       "      <th>4</th>\n",
       "      <td>Arroz</td>\n",
       "      <td>Sem Broto</td>\n",
       "      <td>5</td>\n",
       "      <td>kg</td>\n",
       "      <td>9.99</td>\n",
       "      <td>Arpoador</td>\n",
       "      <td>2011-06-10</td>\n",
       "      <td>1.998000</td>\n",
       "    </tr>\n",
       "    <tr>\n",
       "      <th>8</th>\n",
       "      <td>Ovo</td>\n",
       "      <td>A Granja</td>\n",
       "      <td>12</td>\n",
       "      <td>u</td>\n",
       "      <td>3.19</td>\n",
       "      <td>Arpoador</td>\n",
       "      <td>2011-06-12</td>\n",
       "      <td>0.265833</td>\n",
       "    </tr>\n",
       "    <tr>\n",
       "      <th>5</th>\n",
       "      <td>Arroz</td>\n",
       "      <td>Da TV</td>\n",
       "      <td>1</td>\n",
       "      <td>kg</td>\n",
       "      <td>1.99</td>\n",
       "      <td>Noite</td>\n",
       "      <td>2011-06-14</td>\n",
       "      <td>1.990000</td>\n",
       "    </tr>\n",
       "    <tr>\n",
       "      <th>10</th>\n",
       "      <td>Suco</td>\n",
       "      <td>Flash</td>\n",
       "      <td>1</td>\n",
       "      <td>l</td>\n",
       "      <td>3.99</td>\n",
       "      <td>Noite</td>\n",
       "      <td>2011-07-21</td>\n",
       "      <td>3.990000</td>\n",
       "    </tr>\n",
       "  </tbody>\n",
       "</table>\n",
       "</div>"
      ],
      "text/plain": [
       "   Produto Fabricante  Qtd Medida  Preço Supermercado       Data  Preço/Un\n",
       "1     Suco      Flash    1      l   4.50     Arpoador 2011-05-18  4.500000\n",
       "4    Arroz  Sem Broto    5     kg   9.99     Arpoador 2011-06-10  1.998000\n",
       "8      Ovo   A Granja   12      u   3.19     Arpoador 2011-06-12  0.265833\n",
       "5    Arroz      Da TV    1     kg   1.99        Noite 2011-06-14  1.990000\n",
       "10    Suco      Flash    1      l   3.99        Noite 2011-07-21  3.990000"
      ]
     },
     "execution_count": 42,
     "metadata": {},
     "output_type": "execute_result"
    }
   ],
   "source": [
    "compras.tail()"
   ]
  },
  {
   "cell_type": "markdown",
   "metadata": {
    "slideshow": {
     "slide_type": "fragment"
    }
   },
   "source": [
    "Por default (padrão), o número de linhas mostradas é cinco. Se você quiser outro número, é só especificar o número entre os parênteses. Por exemplo, para mostrar as duas últimas linhas:"
   ]
  },
  {
   "cell_type": "code",
   "execution_count": 43,
   "metadata": {
    "slideshow": {
     "slide_type": "fragment"
    }
   },
   "outputs": [
    {
     "data": {
      "text/html": [
       "<div>\n",
       "<style scoped>\n",
       "    .dataframe tbody tr th:only-of-type {\n",
       "        vertical-align: middle;\n",
       "    }\n",
       "\n",
       "    .dataframe tbody tr th {\n",
       "        vertical-align: top;\n",
       "    }\n",
       "\n",
       "    .dataframe thead th {\n",
       "        text-align: right;\n",
       "    }\n",
       "</style>\n",
       "<table border=\"1\" class=\"dataframe\">\n",
       "  <thead>\n",
       "    <tr style=\"text-align: right;\">\n",
       "      <th></th>\n",
       "      <th>Produto</th>\n",
       "      <th>Fabricante</th>\n",
       "      <th>Qtd</th>\n",
       "      <th>Medida</th>\n",
       "      <th>Preço</th>\n",
       "      <th>Supermercado</th>\n",
       "      <th>Data</th>\n",
       "      <th>Preço/Un</th>\n",
       "    </tr>\n",
       "  </thead>\n",
       "  <tbody>\n",
       "    <tr>\n",
       "      <th>5</th>\n",
       "      <td>Arroz</td>\n",
       "      <td>Da TV</td>\n",
       "      <td>1</td>\n",
       "      <td>kg</td>\n",
       "      <td>1.99</td>\n",
       "      <td>Noite</td>\n",
       "      <td>2011-06-14</td>\n",
       "      <td>1.99</td>\n",
       "    </tr>\n",
       "    <tr>\n",
       "      <th>10</th>\n",
       "      <td>Suco</td>\n",
       "      <td>Flash</td>\n",
       "      <td>1</td>\n",
       "      <td>l</td>\n",
       "      <td>3.99</td>\n",
       "      <td>Noite</td>\n",
       "      <td>2011-07-21</td>\n",
       "      <td>3.99</td>\n",
       "    </tr>\n",
       "  </tbody>\n",
       "</table>\n",
       "</div>"
      ],
      "text/plain": [
       "   Produto Fabricante  Qtd Medida  Preço Supermercado       Data  Preço/Un\n",
       "5    Arroz      Da TV    1     kg   1.99        Noite 2011-06-14      1.99\n",
       "10    Suco      Flash    1      l   3.99        Noite 2011-07-21      3.99"
      ]
     },
     "execution_count": 43,
     "metadata": {},
     "output_type": "execute_result"
    }
   ],
   "source": [
    "compras.tail(2)"
   ]
  },
  {
   "cell_type": "markdown",
   "metadata": {
    "slideshow": {
     "slide_type": "slide"
    }
   },
   "source": [
    "### Contando os itens de uma tabela do Pandas\n",
    "\n",
    "Existem diversas maneiras de saber quantos itens existem em um DataFrame do Pandas.\n",
    "\n",
    "A primeira é com o comando 'len()' (na verdade o comando len serve para qualquer tipo de variável do Python que tenha diversos elementos, como um vetor do Numpy):"
   ]
  },
  {
   "cell_type": "code",
   "execution_count": 44,
   "metadata": {
    "slideshow": {
     "slide_type": "fragment"
    }
   },
   "outputs": [
    {
     "name": "stdout",
     "output_type": "stream",
     "text": [
      "11\n"
     ]
    }
   ],
   "source": [
    "print(len(compras))"
   ]
  },
  {
   "cell_type": "markdown",
   "metadata": {
    "slideshow": {
     "slide_type": "fragment"
    }
   },
   "source": [
    "Uma outra maneira é acrescentando '.shape'. Ele vai retornar um conjunto com dois valores: o número de linhas e o número de colunas."
   ]
  },
  {
   "cell_type": "code",
   "execution_count": 45,
   "metadata": {
    "slideshow": {
     "slide_type": "fragment"
    }
   },
   "outputs": [
    {
     "name": "stdout",
     "output_type": "stream",
     "text": [
      "(11, 8)\n"
     ]
    }
   ],
   "source": [
    "forma = compras.shape\n",
    "print(forma)"
   ]
  },
  {
   "cell_type": "markdown",
   "metadata": {
    "slideshow": {
     "slide_type": "fragment"
    }
   },
   "source": [
    "O comando '.shape' retorna esse conjunto com dois elementos (técnicamente conhecida como tupla). Portanto, para saber o número de linhas basta pegar o primeiro dos elementos (índice 0). Para saber o número de colunas, basta pegar o segundo elemento (índice 1)."
   ]
  },
  {
   "cell_type": "code",
   "execution_count": 46,
   "metadata": {
    "slideshow": {
     "slide_type": "fragment"
    }
   },
   "outputs": [
    {
     "name": "stdout",
     "output_type": "stream",
     "text": [
      "O número de linhas é 11\n",
      "O número de colunas é 8\n"
     ]
    }
   ],
   "source": [
    "linhas = forma[0]\n",
    "colunas = forma[1]\n",
    "print('O número de linhas é', linhas)\n",
    "print('O número de colunas é', colunas)"
   ]
  },
  {
   "cell_type": "markdown",
   "metadata": {
    "slideshow": {
     "slide_type": "slide"
    },
    "tags": []
   },
   "source": [
    "### Tipos de dados\n",
    "\n",
    "Toda a base de dados deve reservar uma especial atenção para a escolha dos tipos de valores armazenados (tipos de dados).\n",
    "\n",
    "A escolha correta dos tipos de dados permite elevar o nível de qualidade da base:\n",
    "\n",
    "- Controlar possíveis erros de cadastramento de valores.\n",
    "- Previne inconsistências. Por exemplo:\n",
    "    + evita o armazenamento de letras em locais destinados a valores numéricos;\n",
    "    + evita datas escritas de forma incorreta."
   ]
  },
  {
   "cell_type": "markdown",
   "metadata": {
    "slideshow": {
     "slide_type": "fragment"
    },
    "tags": []
   },
   "source": [
    "### Visualizando os tipos de cada campo\n",
    "\n",
    "Para visualizar o tipo de dado de cada um dos campos de um DataFrame do Pandas basta acrescentar '.info()' após o nome da variável que armazena o DataFrame."
   ]
  },
  {
   "cell_type": "code",
   "execution_count": 47,
   "metadata": {
    "slideshow": {
     "slide_type": "fragment"
    }
   },
   "outputs": [
    {
     "name": "stdout",
     "output_type": "stream",
     "text": [
      "<class 'pandas.core.frame.DataFrame'>\n",
      "Int64Index: 11 entries, 0 to 10\n",
      "Data columns (total 8 columns):\n",
      " #   Column        Non-Null Count  Dtype         \n",
      "---  ------        --------------  -----         \n",
      " 0   Produto       11 non-null     object        \n",
      " 1   Fabricante    11 non-null     object        \n",
      " 2   Qtd           11 non-null     int64         \n",
      " 3   Medida        11 non-null     object        \n",
      " 4   Preço         11 non-null     float64       \n",
      " 5   Supermercado  11 non-null     object        \n",
      " 6   Data          11 non-null     datetime64[ns]\n",
      " 7   Preço/Un      11 non-null     float64       \n",
      "dtypes: datetime64[ns](1), float64(2), int64(1), object(4)\n",
      "memory usage: 1.1+ KB\n",
      "None\n"
     ]
    }
   ],
   "source": [
    "print(compras.info())"
   ]
  },
  {
   "cell_type": "markdown",
   "metadata": {
    "slideshow": {
     "slide_type": "fragment"
    }
   },
   "source": [
    "No Pandas, *object* significa que o dado é uma string (sequência de caracteres), *int64* o dado é inteiro, float64 o dado é ponto flutuante (número real) e datetime64 significa que o dado é uma data."
   ]
  },
  {
   "cell_type": "markdown",
   "metadata": {
    "slideshow": {
     "slide_type": "slide"
    },
    "tags": []
   },
   "source": [
    "### Agrupamento\n",
    "\n",
    "Podemos querer agrupar o dado de acordo com alguma categoria e fazer alguma medida (por exemplo soma ou média). Para isso existe a função groupby('colunaParaAgrupar')['colunaParaMostrar'].operação(). "
   ]
  },
  {
   "cell_type": "markdown",
   "metadata": {
    "slideshow": {
     "slide_type": "fragment"
    },
    "tags": []
   },
   "source": [
    "Por exemplo, para agrupar pela coluna Produto, mostrar a coluna Preço e somar os valores dessa coluna dentro de cada grupo:"
   ]
  },
  {
   "cell_type": "code",
   "execution_count": 49,
   "metadata": {},
   "outputs": [
    {
     "data": {
      "text/plain": [
       "Produto\n",
       "Arroz     20.62\n",
       "Feijão     4.00\n",
       "Ovo        4.64\n",
       "Suco      11.49\n",
       "Tomate     6.49\n",
       "Name: Preço, dtype: float64"
      ]
     },
     "execution_count": 49,
     "metadata": {},
     "output_type": "execute_result"
    }
   ],
   "source": [
    "compras.groupby('Produto')['Preço'].sum()"
   ]
  },
  {
   "cell_type": "markdown",
   "metadata": {
    "slideshow": {
     "slide_type": "fragment"
    },
    "tags": []
   },
   "source": [
    "Para agrupar pela coluna Supermercado e contar quantos produtos tem em cada supermercado:"
   ]
  },
  {
   "cell_type": "code",
   "execution_count": 50,
   "metadata": {
    "slideshow": {
     "slide_type": "fragment"
    },
    "tags": []
   },
   "outputs": [
    {
     "data": {
      "text/plain": [
       "Supermercado\n",
       "Arpoador    5\n",
       "Noite       6\n",
       "Name: Produto, dtype: int64"
      ]
     },
     "execution_count": 50,
     "metadata": {},
     "output_type": "execute_result"
    }
   ],
   "source": [
    "compras.groupby('Supermercado')['Produto'].count()"
   ]
  },
  {
   "cell_type": "markdown",
   "metadata": {
    "slideshow": {
     "slide_type": "slide"
    },
    "tags": []
   },
   "source": [
    "#### As funções possíveis de se usar com o comando groupby() são:\n",
    "\n",
    "- **mean()** - calcula média\n",
    "- **sum()** - calcula a soma\n",
    "- **size()** - calcula o tamanho de cada grupo\n",
    "- **count()** - calcula quantos elementos cada grupo tem\n",
    "- **std()** - calcula o desvio padrão\n",
    "- **var()** - calcula a variância\n",
    "- **sem()** - calcula o erro padrão da média\n",
    "- **describe()** - exibe várias estatísticas descritivas para cada grupo\n",
    "- **first()** - computa o primeiro valor de  cada grupo \n",
    "- **last()** - computa o último valor de cada grupo  \n",
    "- **nth()** - computa o enésimo valor de cada grupo  \n",
    "- **min()** - computa o valor mínimo de cada grupo  \n",
    "- **max()** - computa o valor máximo de cada grupo"
   ]
  },
  {
   "cell_type": "markdown",
   "metadata": {
    "slideshow": {
     "slide_type": "slide"
    }
   },
   "source": [
    "### Tarefa (para agora)\n",
    "\n",
    "- Escrever um notebook do Colab para fazer o que pedido a seguir.\n",
    "\n",
    "- Colocar o seu nome na primeira célula do Notebook.\n",
    "\n",
    "- O notebook deve estar com texto explicando o Notebook. \n",
    "\n",
    "- Todos os resultados devem ser mostrados ao executar o notebook.\n",
    "\n",
    "- Coloque no seu repositório do Github o arquivo '.ipynb' contendo o notebook feito por você com o nome \"Tarefa9SeuNome.ipynb\".\n",
    "\n",
    "- **1)** Para este item você deverá usar o arquivo com a [porcentagem da população brasileira que é analfabeta, dividida por unidade da federação, de 1981 a 2014 (analfabetismo.csv, encontrado na pasta aula5/dados)](https://raw.githubusercontent.com/BMClab/BasesComputacionais/master/dados/analfabetismo.csv) (dados disponibilizados por Ipeadata). \n",
    "\n",
    "   + Faça um gráfico da taxa de analfabetismo em São Paulo em função do tempo (anos).\n"
   ]
  },
  {
   "cell_type": "markdown",
   "metadata": {
    "slideshow": {
     "slide_type": "slide"
    }
   },
   "source": [
    "### Tarefa (para antes da próxima aula)\n",
    "\n",
    "- Escrever um notebook do Colab para fazer o que pedido a seguir.\n",
    "\n",
    "- Colocar o seu nome na primeira célula do Notebook.\n",
    "\n",
    "- O notebook deve estar com texto explicando o Notebook. \n",
    "\n",
    "- Todos os resultados devem ser mostrados ao executar o notebook.\n",
    "\n",
    "- Não se esqueça de indicar o significado de cada eixo, colocando a unidade da abscissa e da ordenada nos gráficos.\n",
    "\n",
    "- Coloque no seu repositório do Github o arquivo '.ipynb' contendo o  notebook feito por você com o nome \"Tarefa10SeuNome.py\"."
   ]
  },
  {
   "cell_type": "markdown",
   "metadata": {
    "slideshow": {
     "slide_type": "slide"
    }
   },
   "source": [
    "**1)** Para este item você deverá usar o arquivo [com todos os resultados do campeonato Brasileiro de futebol de 2018 (tabelaBrasileirao2018.csv encontrado na pasta aula5/dados)](https://raw.githubusercontent.com/BMClab/BasesComputacionais/master/dados/tabelaBrasileirao2018.csv) (dados obtidos [desta](<https://pt.wikipedia.org/wiki/Resultados_do_Campeonato_Brasileiro_de_Futebol_de_2018_-_S%C3%A9rie_A_(primeiro_turno)>) e [desta](<https://pt.wikipedia.org/wiki/Resultados_do_Campeonato_Brasileiro_de_Futebol_de_2018_-_S%C3%A9rie_A_(segundo_turno)>) página da Wikipedia).\n",
    "\n",
    "- Calcule (e mostre o resultado) a porcentagem de jogos que o time da casa (mandante) ganhou o jogo.\n",
    "\n",
    "- Calcule (e mostre o resultado) a porcentagem de jogos que o time da casa (mandante) não perdeu o jogo.\n",
    "\n",
    "Como o nome da coluna tem espaço em branco, ao usar o query,  colocar o nome da coluna entre ``. "
   ]
  },
  {
   "cell_type": "markdown",
   "metadata": {
    "slideshow": {
     "slide_type": "slide"
    }
   },
   "source": [
    "**2)**  Para este item você deverá usar o arquivo com a [taxa de inflação mensal (IGP-DI) no Brasil de fevereiro de 1944 a junho de 2019](https://raw.githubusercontent.com/BMClab/BasesComputacionais/master/dados/inflacaoMensal.csv) (dados disponibilizados por Ipeadata). \n",
    "\n",
    "- Faça um gráfico da taxa de inflação mensal em função do tempo.\n",
    "- Mostre em que mês e ano e qual foi a maior taxa de inflação mensal medida neste período (fevereiro de 1944 a junho de 2019).\n",
    "\n",
    "Dica: para fazer o gráfico, note que um mês corresponde a um doze avos de ano. Para facilitar a criação do gráfico você pode criar uma outra coluna que corresponda ao ano adicionado da fração correspondente ao mês."
   ]
  },
  {
   "cell_type": "markdown",
   "metadata": {
    "slideshow": {
     "slide_type": "slide"
    }
   },
   "source": [
    "**3)** Para este item você pode usar [esse histórico de visualização do Netflix](https://raw.githubusercontent.com/BMClab/BasesComputacionais/master/dados/netflix.csv) ou, se você tiver acesso ao Netflix, usar o seu [histórico](https://www.netflix.com/viewingactivity) (após entrar com a sua senha, role até o final da página e clique em \"Baixar tudo\").\n",
    "\n",
    "   + Mostre quais são os 10 programas mais vistos.\n",
    "   + Em qual mês do ano foi assistido mais programas? \n",
    "    \n",
    "Sugestão: No seu notebook, depois do comando para carregar o arquivo, coloque a seguinte sequência de instruções:\n",
    "\n",
    "```python\n",
    "data['Categoria'] = 'Filme'  \n",
    "data['Categoria'][data['Title'].str.contains(\": Temporada|: Stranger|: Parte\")] = 'Série'  \n",
    "data['Programa'] = data['Title']  \n",
    "data[['Programa','Episódio']] = data[data['Categoria']=='Série']['Title'].str.split(pat = ': Temporada|: Stranger Things|: Parte', expand = True, n = 1)   \n",
    "data.loc[data['Categoria']=='Filme', 'Programa'] = data.loc[data['Categoria']=='Filme', 'Title']  \n",
    "data = data.drop(columns = 'Title')  \n",
    "```\n",
    "A sequência de instruções acima cria uma coluna com o tipo do programa (Filme/Série), uma coluna com o nome do programa e uma outra coluna com o nome do episódio (no caso de ser uma série). Isso facilitará realizar a tarefa.\n",
    "\n",
    "Na sequência acima, *data* é o nome da variável na qual foi guardado o DataFrame com a informação vinda do arquivo de histórico. Se você der outro nome, mude o nome da variável no código acima. \n",
    "\n",
    "Pode ser que o seu arquivo esteja em português. Nesse caso, o campo 'Title' terá o nome 'Título' e você deverá alterar o código acima substituindo 'Title' por 'Título'."
   ]
  },
  {
   "cell_type": "markdown",
   "metadata": {
    "slideshow": {
     "slide_type": "slide"
    },
    "tags": []
   },
   "source": [
    "**4)** Para este item você deverá usar o arquivo [com todos os resultados do campeonato Brasileiro de futebol de 2018 (tabelaBrasileirao2018.csv encontrado na pasta aula5/dados)](https://raw.githubusercontent.com/BMClab/BasesComputacionais/master/dados/tabelaBrasileirao2018.csv) (dados obtidos [desta](<https://pt.wikipedia.org/wiki/Resultados_do_Campeonato_Brasileiro_de_Futebol_de_2018_-_S%C3%A9rie_A_(primeiro_turno)>) e [desta](<https://pt.wikipedia.org/wiki/Resultados_do_Campeonato_Brasileiro_de_Futebol_de_2018_-_S%C3%A9rie_A_(segundo_turno)>) página da Wikipedia).\n",
    "\n",
    "- Calcule qual foi a média de Renda para cada Estádio.\n",
    " "
   ]
  },
  {
   "cell_type": "markdown",
   "metadata": {
    "slideshow": {
     "slide_type": "slide"
    }
   },
   "source": [
    "### Referências\n",
    "\n",
    "- Chalco, JM, *Slides de Bases Computacionais da Ciência*, (2014)\n",
    "- Leite, S, *Slides de Bases Computacionais da Ciência*, (2018)\n",
    "- [Marietto, MGB et al.; **Bases computacionais da Ciência** (2013)](http://prograd.ufabc.edu.br/images/pdf/bases_computacionais_livro.pdf).\n",
    "- [Pandas documentation](https://pandas.pydata.org/pandas-docs/stable/)\n",
    "- [Ipeadata](http://www.ipeadata.gov.br)\n",
    "- [Wikipedia](https://pt.wikipedia.org/wiki/Wikip%C3%A9dia:P%C3%A1gina_principal)"
   ]
  }
 ],
 "metadata": {
  "kernelspec": {
   "display_name": "Python 3 (ipykernel)",
   "language": "python",
   "name": "python3"
  },
  "language_info": {
   "codemirror_mode": {
    "name": "ipython",
    "version": 3
   },
   "file_extension": ".py",
   "mimetype": "text/x-python",
   "name": "python",
   "nbconvert_exporter": "python",
   "pygments_lexer": "ipython3",
   "version": "3.9.13"
  },
  "latex_envs": {
   "LaTeX_envs_menu_present": true,
   "autoclose": false,
   "autocomplete": true,
   "bibliofile": "biblio.bib",
   "cite_by": "apalike",
   "current_citInitial": 1,
   "eqLabelWithNumbers": true,
   "eqNumInitial": 1,
   "hotkeys": {
    "equation": "Ctrl-E",
    "itemize": "Ctrl-I"
   },
   "labels_anchors": false,
   "latex_user_defs": false,
   "report_style_numbering": false,
   "user_envs_cfg": false
  },
  "livereveal": {
   "autolaunch": true
  },
  "nbTranslate": {
   "displayLangs": [
    "*"
   ],
   "hotkey": "alt-t",
   "langInMainMenu": true,
   "sourceLang": "en",
   "targetLang": "fr",
   "useGoogleTranslate": true
  },
  "toc": {
   "base_numbering": 1,
   "nav_menu": {},
   "number_sections": true,
   "sideBar": true,
   "skip_h1_title": true,
   "title_cell": "Contents",
   "title_sidebar": "Contents",
   "toc_cell": true,
   "toc_position": {},
   "toc_section_display": true,
   "toc_window_display": false
  },
  "varInspector": {
   "cols": {
    "lenName": 16,
    "lenType": 16,
    "lenVar": 40
   },
   "kernels_config": {
    "python": {
     "delete_cmd_postfix": "",
     "delete_cmd_prefix": "del ",
     "library": "var_list.py",
     "varRefreshCmd": "print(var_dic_list())"
    },
    "r": {
     "delete_cmd_postfix": ") ",
     "delete_cmd_prefix": "rm(",
     "library": "var_list.r",
     "varRefreshCmd": "cat(var_dic_list()) "
    }
   },
   "types_to_exclude": [
    "module",
    "function",
    "builtin_function_or_method",
    "instance",
    "_Feature"
   ],
   "window_display": false
  }
 },
 "nbformat": 4,
 "nbformat_minor": 4
}

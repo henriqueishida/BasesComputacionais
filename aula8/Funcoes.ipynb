{
 "cells": [
  {
   "cell_type": "markdown",
   "metadata": {
    "slideshow": {
     "slide_type": "slide"
    }
   },
   "source": [
    "# Bases Computacionais: funções\n",
    "\n",
    "Renato Naville Watanabe"
   ]
  },
  {
   "cell_type": "markdown",
   "metadata": {
    "toc": true
   },
   "source": [
    "<h1>Contents<span class=\"tocSkip\"></span></h1>\n",
    "<div class=\"toc\"><ul class=\"toc-item\"><li><span><a href=\"#Função\" data-toc-modified-id=\"Função-1\"><span class=\"toc-item-num\">1&nbsp;&nbsp;</span>Função</a></span></li><li><span><a href=\"#Definição-de-uma-função-no-Python\" data-toc-modified-id=\"Definição-de-uma-função-no-Python-2\"><span class=\"toc-item-num\">2&nbsp;&nbsp;</span>Definição de uma função no Python</a></span></li><li><span><a href=\"#Chamando-uma-função\" data-toc-modified-id=\"Chamando-uma-função-3\"><span class=\"toc-item-num\">3&nbsp;&nbsp;</span>Chamando uma função</a></span></li><li><span><a href=\"#Definição-de-uma-função-no-Python-que-recebe-uma-entrada-como-parâmetro\" data-toc-modified-id=\"Definição-de-uma-função-no-Python-que-recebe-uma-entrada-como-parâmetro-4\"><span class=\"toc-item-num\">4&nbsp;&nbsp;</span>Definição de uma função no Python que recebe uma entrada como parâmetro</a></span></li><li><span><a href=\"#Definição-de-uma-função-no-Python-que-recebe-entrada-como-parâmetro-e-retorna-um-número\" data-toc-modified-id=\"Definição-de-uma-função-no-Python-que-recebe-entrada-como-parâmetro-e-retorna-um-número-5\"><span class=\"toc-item-num\">5&nbsp;&nbsp;</span>Definição de uma função no Python que recebe entrada como parâmetro e retorna um número</a></span></li><li><span><a href=\"#Definição-de-uma-função-no-Python-que-recebe-mais-de-uma-entrada-como-parâmetro-e-retorna-mais-de-uma-variável\" data-toc-modified-id=\"Definição-de-uma-função-no-Python-que-recebe-mais-de-uma-entrada-como-parâmetro-e-retorna-mais-de-uma-variável-6\"><span class=\"toc-item-num\">6&nbsp;&nbsp;</span>Definição de uma função no Python que recebe mais de uma entrada como parâmetro e retorna mais de uma variável</a></span></li><li><span><a href=\"#Uma-variável-que-é-criada-dentro-de-uma-função-só-existe-dentro-da-função\" data-toc-modified-id=\"Uma-variável-que-é-criada-dentro-de-uma-função-só-existe-dentro-da-função-7\"><span class=\"toc-item-num\">7&nbsp;&nbsp;</span>Uma variável que é criada dentro de uma função só existe dentro da função</a></span></li><li><span><a href=\"#Uma-função-chamando-uma-função\" data-toc-modified-id=\"Uma-função-chamando-uma-função-8\"><span class=\"toc-item-num\">8&nbsp;&nbsp;</span>Uma função chamando uma função</a></span></li><li><span><a href=\"#Comentário-de-uma-função\" data-toc-modified-id=\"Comentário-de-uma-função-9\"><span class=\"toc-item-num\">9&nbsp;&nbsp;</span>Comentário de uma função</a></span></li><li><span><a href=\"#Qual-a-utilidade-de-usar-funções\" data-toc-modified-id=\"Qual-a-utilidade-de-usar-funções-10\"><span class=\"toc-item-num\">10&nbsp;&nbsp;</span>Qual a utilidade de usar funções</a></span></li><li><span><a href=\"#Tarefa-(para-agora)\" data-toc-modified-id=\"Tarefa-(para-agora)-11\"><span class=\"toc-item-num\">11&nbsp;&nbsp;</span>Tarefa (para agora)</a></span></li><li><span><a href=\"#Tarefa-(para-antes-da-próxima-aula)\" data-toc-modified-id=\"Tarefa-(para-antes-da-próxima-aula)-12\"><span class=\"toc-item-num\">12&nbsp;&nbsp;</span>Tarefa (para antes da próxima aula)</a></span></li><li><span><a href=\"#Referências\" data-toc-modified-id=\"Referências-13\"><span class=\"toc-item-num\">13&nbsp;&nbsp;</span>Referências</a></span></li></ul></div>"
   ]
  },
  {
   "cell_type": "markdown",
   "metadata": {
    "slideshow": {
     "slide_type": "slide"
    }
   },
   "source": [
    "### Função\n",
    "\n",
    "Uma função é um conjunto de instruções que são executadas quando a função é chamada."
   ]
  },
  {
   "cell_type": "markdown",
   "metadata": {
    "slideshow": {
     "slide_type": "fragment"
    }
   },
   "source": [
    "Uma função pode ter qualquer número de entradas e qualquer número de saídas.\n",
    "\n",
    "![função](imagens/function.png)"
   ]
  },
  {
   "cell_type": "markdown",
   "metadata": {
    "slideshow": {
     "slide_type": "fragment"
    }
   },
   "source": [
    "Ao usar uma função não é necessário saber quais instruções a função executa. A única coisa que importa são os dados de entrada e o que a função retorna."
   ]
  },
  {
   "cell_type": "markdown",
   "metadata": {
    "slideshow": {
     "slide_type": "slide"
    }
   },
   "source": [
    "Ao longo do curso já foram utilizadas diversas funções. Por exemplo, a função que calcula o seno de um ângulo em radianos:"
   ]
  },
  {
   "cell_type": "code",
   "execution_count": null,
   "metadata": {
    "slideshow": {
     "slide_type": "fragment"
    }
   },
   "outputs": [],
   "source": [
    "import numpy as np\n",
    "theta = np.pi/6\n",
    "senoTheta = np.sin(theta)\n",
    "print(senoTheta)"
   ]
  },
  {
   "cell_type": "markdown",
   "metadata": {
    "slideshow": {
     "slide_type": "fragment"
    }
   },
   "source": [
    "Note que não é necessário sabermos como a função 'np.sin' calcula o seno do ângulo. É necessário apenas saber que temos que fornecer um ângulo em radianos e que ela retorna o seno do ângulo."
   ]
  },
  {
   "cell_type": "markdown",
   "metadata": {
    "slideshow": {
     "slide_type": "slide"
    }
   },
   "source": [
    "### Definição de uma função no Python\n",
    "\n",
    "def NOME_DA_FUNÇÃO():  \n",
    "&nbsp;&nbsp;&nbsp;&nbsp;&nbsp;&nbsp;&nbsp;&nbsp;&nbsp;&nbsp;&nbsp;&nbsp;INSTRUÇÕES  \n",
    "\n",
    "Por exemplo, para definir uma função que imprime uma mensagem:"
   ]
  },
  {
   "cell_type": "code",
   "execution_count": null,
   "metadata": {
    "slideshow": {
     "slide_type": "fragment"
    }
   },
   "outputs": [],
   "source": [
    "def imprimeMensagemBoasVindas():\n",
    "    print('Bem vindo')"
   ]
  },
  {
   "cell_type": "markdown",
   "metadata": {
    "slideshow": {
     "slide_type": "slide"
    }
   },
   "source": [
    "### Chamando uma função\n",
    "\n",
    "Ao definir a função a sequência de instruções da função não é executada. Para isso é necessário chamar essa função."
   ]
  },
  {
   "cell_type": "code",
   "execution_count": null,
   "metadata": {
    "slideshow": {
     "slide_type": "fragment"
    }
   },
   "outputs": [],
   "source": [
    "imprimeMensagemBoasVindas()"
   ]
  },
  {
   "cell_type": "markdown",
   "metadata": {
    "slideshow": {
     "slide_type": "slide"
    }
   },
   "source": [
    "### Definição de uma função no Python que recebe uma entrada como parâmetro\n",
    "\n",
    "Uma função pode receber parâmetros como entrada. Esses parâmetros podem ser usados dentro da função.\n",
    "\n",
    "\n",
    "def NOME_DA_FUNÇÃO(varIn1):  \n",
    "&nbsp;&nbsp;&nbsp;&nbsp;&nbsp;&nbsp;&nbsp;&nbsp;&nbsp;&nbsp;&nbsp;&nbsp;INSTRUÇÕES  \n",
    "\n",
    "Por exemplo, uma função que recebe um número inteiro e mostra se esse número é par ou ímpar."
   ]
  },
  {
   "cell_type": "code",
   "execution_count": null,
   "metadata": {
    "slideshow": {
     "slide_type": "fragment"
    }
   },
   "outputs": [],
   "source": [
    "def parOuImpar(n):\n",
    "    if n%2 == 0:\n",
    "        print(n, 'é par.')\n",
    "    else:\n",
    "        print(n, 'é ímpar.')"
   ]
  },
  {
   "cell_type": "markdown",
   "metadata": {
    "slideshow": {
     "slide_type": "fragment"
    }
   },
   "source": [
    "Agora, para chamar a função para testar para os número 5 e 12"
   ]
  },
  {
   "cell_type": "code",
   "execution_count": null,
   "metadata": {
    "slideshow": {
     "slide_type": "fragment"
    }
   },
   "outputs": [],
   "source": [
    "n1 = 5\n",
    "parOuImpar(n1)\n",
    "n2 = 12\n",
    "parOuImpar(n2)"
   ]
  },
  {
   "cell_type": "markdown",
   "metadata": {
    "slideshow": {
     "slide_type": "slide"
    }
   },
   "source": [
    "### Definição de uma função no Python que recebe entrada como parâmetro e retorna um número\n",
    "\n",
    "As funções também podem retornar uma variável para ser utilizada fora da função. Isso é feito com o comando 'return' seguido pela variável.\n",
    "\n",
    "def NOME_DA_FUNÇÃO(varIn1):  \n",
    "&nbsp;&nbsp;&nbsp;&nbsp;&nbsp;&nbsp;&nbsp;&nbsp;&nbsp;&nbsp;&nbsp;&nbsp;INSTRUÇÕES  \n",
    "&nbsp;&nbsp;&nbsp;&nbsp;&nbsp;&nbsp;&nbsp;&nbsp;&nbsp;&nbsp;&nbsp;&nbsp;return varOut1\n",
    "\n",
    "Por exemplo, uma função que calcula converte a temperatura de graus Celsius para Fahrenheit."
   ]
  },
  {
   "cell_type": "code",
   "execution_count": null,
   "metadata": {
    "slideshow": {
     "slide_type": "fragment"
    }
   },
   "outputs": [],
   "source": [
    "import numpy as np\n",
    "def CelsiusParaFahrenheit(C):\n",
    "    F = C*9.0/5.0 + 32.0\n",
    "    print(C, 'Celsius é', F, 'Fahrenheit')\n",
    "    return F"
   ]
  },
  {
   "cell_type": "code",
   "execution_count": null,
   "metadata": {
    "slideshow": {
     "slide_type": "fragment"
    }
   },
   "outputs": [],
   "source": [
    "C1 = 11\n",
    "F1 = CelsiusParaFahrenheit(C1)\n",
    "C2 = 31\n",
    "F2 = CelsiusParaFahrenheit(C2)\n",
    "print(F2, ': esse print está fora da função')"
   ]
  },
  {
   "cell_type": "markdown",
   "metadata": {
    "slideshow": {
     "slide_type": "slide"
    }
   },
   "source": [
    "### Definição de uma função no Python que recebe mais de uma entrada como parâmetro e retorna mais de uma variável\n",
    "\n",
    "As variáveis de entrada e de saída são separadas por vírgula.\n",
    "\n",
    "def NOME_DA_FUNÇÃO(varIn1, varIn2, ..., varInn):  \n",
    "&nbsp;&nbsp;&nbsp;&nbsp;&nbsp;&nbsp;&nbsp;&nbsp;&nbsp;&nbsp;&nbsp;&nbsp;INSTRUÇÕES  \n",
    "&nbsp;&nbsp;&nbsp;&nbsp;&nbsp;&nbsp;&nbsp;&nbsp;&nbsp;&nbsp;&nbsp;&nbsp;return varOut1, varOut2, ..., varOutn\n",
    "\n",
    "Por exemplo, a seguinte função que calcula a área e a diagonal de um retângulo, com lados a e b:"
   ]
  },
  {
   "cell_type": "code",
   "execution_count": null,
   "metadata": {
    "slideshow": {
     "slide_type": "fragment"
    }
   },
   "outputs": [],
   "source": [
    "def calculaAreaEDiagonal(a, b):\n",
    "    A = a*b # área\n",
    "    d = np.sqrt(a**2 + b**2) # diagonal\n",
    "    return A, d"
   ]
  },
  {
   "cell_type": "code",
   "execution_count": null,
   "metadata": {
    "slideshow": {
     "slide_type": "fragment"
    }
   },
   "outputs": [],
   "source": [
    "a1 = 3\n",
    "b1 = 4\n",
    "A1, d1 = calculaAreaEDiagonal(a1, b1)\n",
    "print('Área = ', A1, 'e diagonal = ', d1)"
   ]
  },
  {
   "cell_type": "markdown",
   "metadata": {
    "slideshow": {
     "slide_type": "slide"
    }
   },
   "source": [
    "### Uma variável que é criada dentro de uma função só existe dentro da função\n",
    "\n",
    "Uma variável criada dentro de uma função existe apenas enquanto a função está sendo executada. Se você quiser que um valor calculado seja usado fora da função ele deve ser retornado com o comando return."
   ]
  },
  {
   "cell_type": "code",
   "execution_count": null,
   "metadata": {
    "slideshow": {
     "slide_type": "fragment"
    }
   },
   "outputs": [],
   "source": [
    "def calculaAreaEDiagonal(a, b):\n",
    "    A = a*b # área\n",
    "    termo1quadrado = a**2\n",
    "    termo2quadrado = b**2\n",
    "    d = np.sqrt(termo1quadrado + termo2quadrado) # diagonal\n",
    "    return A, d"
   ]
  },
  {
   "cell_type": "code",
   "execution_count": null,
   "metadata": {
    "slideshow": {
     "slide_type": "fragment"
    }
   },
   "outputs": [],
   "source": [
    "a3 = 2.4\n",
    "b3 = 5.3\n",
    "A3, d3 = calculaAreaEDiagonal(a3, b3)\n",
    "print(A3, 'm², ', d3, 'm')\n",
    "print(termo1quadrado)"
   ]
  },
  {
   "cell_type": "markdown",
   "metadata": {
    "slideshow": {
     "slide_type": "fragment"
    }
   },
   "source": [
    "A variável termo1quadrado não existe fora da função 'calculaAreaEDiagonal'. Por isso esta variável não foi encontrada."
   ]
  },
  {
   "cell_type": "markdown",
   "metadata": {
    "slideshow": {
     "slide_type": "slide"
    }
   },
   "source": [
    "### Uma função chamando uma função\n",
    "\n",
    "Uma função pode chamar uma outra função. Por exemplo, no caso abaixo, a função 'aproximaPi', que calcula o valor de $\\pi$ utilizando a fórmula de Leibniz (ver [aula 6](https://nbviewer.jupyter.org/format/slides/github/rnwatanabe/BasesComputacionais2019/blob/master/aula6/EstruturasDeRepeticao.ipynb#/19)) com n termos, chama a função 'ePar' que retorna True se o número for par e False se o número for ímpar."
   ]
  },
  {
   "cell_type": "code",
   "execution_count": null,
   "metadata": {
    "slideshow": {
     "slide_type": "fragment"
    }
   },
   "outputs": [],
   "source": [
    "def ePar(n):    \n",
    "    if n%2 == 0:\n",
    "        par = True\n",
    "    else:\n",
    "        par = False\n",
    "    return par\n",
    "\n",
    "def aproximaPi(n):\n",
    "    PI = 0\n",
    "    for i in range(n):\n",
    "        if ePar(i):\n",
    "            sinal = 1\n",
    "        else:\n",
    "            sinal = -1\n",
    "        PI = PI + sinal*4/(2*i+1)\n",
    "    return PI"
   ]
  },
  {
   "cell_type": "code",
   "execution_count": null,
   "metadata": {
    "slideshow": {
     "slide_type": "fragment"
    }
   },
   "outputs": [],
   "source": [
    "PI = aproximaPi(100000)\n",
    "print(PI)"
   ]
  },
  {
   "cell_type": "markdown",
   "metadata": {
    "slideshow": {
     "slide_type": "slide"
    }
   },
   "source": [
    "### Comentário de uma função\n",
    "\n",
    "Ao fazer o comentário de uma função deve ser descrito o que ela faz (geralmente não se explica o como faz). Particularmente devem ser descritos os parâmetros de entrada e o que a função retorna. Por exemplo a função 'ePar' e 'aproximaPi':"
   ]
  },
  {
   "cell_type": "code",
   "execution_count": null,
   "metadata": {
    "slideshow": {
     "slide_type": "fragment"
    }
   },
   "outputs": [],
   "source": [
    "def ePar(n):  \n",
    "    '''\n",
    "    Retorna True se n é par e False se n é impar.\n",
    "    \n",
    "    Parâmetros:\n",
    "    -----------------------------\n",
    "    n: int\n",
    "       número inteiro no qual será feita a verificação.\n",
    "    \n",
    "    Retorna\n",
    "    ----------------------------\n",
    "    par: boolean\n",
    "         True indica que n é par. False indica que n é ímpar.\n",
    "    '''\n",
    "    if n%2 == 0:\n",
    "        par = True\n",
    "    else:\n",
    "        par = False\n",
    "    return par"
   ]
  },
  {
   "cell_type": "code",
   "execution_count": null,
   "metadata": {
    "slideshow": {
     "slide_type": "slide"
    }
   },
   "outputs": [],
   "source": [
    "def aproximaPi(n):\n",
    "    '''\n",
    "    Aproxima o valor de pi utilizando a fórmula de Leibniz.\n",
    "    \n",
    "    Parâmetros:\n",
    "    -----------------------------\n",
    "    n: int\n",
    "       número de termos utilizados na fórmula de Leibniz\n",
    "    \n",
    "    Retorna\n",
    "    ----------------------------\n",
    "    PI: float\n",
    "         Aproximação de pi.\n",
    "    '''\n",
    "    PI = 0\n",
    "    for i in range(n):\n",
    "        if ePar(i):\n",
    "            sinal = 1\n",
    "        else:\n",
    "            sinal = -1\n",
    "        PI = PI + sinal*4/(2*i+1)\n",
    "    return PI"
   ]
  },
  {
   "cell_type": "markdown",
   "metadata": {
    "slideshow": {
     "slide_type": "slide"
    }
   },
   "source": [
    "Você pode ler o comentário escrito na função com o comando 'help()'."
   ]
  },
  {
   "cell_type": "code",
   "execution_count": null,
   "metadata": {
    "slideshow": {
     "slide_type": "fragment"
    }
   },
   "outputs": [],
   "source": [
    "help(aproximaPi)"
   ]
  },
  {
   "cell_type": "markdown",
   "metadata": {
    "slideshow": {
     "slide_type": "slide"
    }
   },
   "source": [
    "Você pode ler a documentação de qualquer função pré-existente no Python e suas bibliotecas com o comando 'help()'. Por exemplo, a função 'np.linspace()'."
   ]
  },
  {
   "cell_type": "code",
   "execution_count": null,
   "metadata": {
    "slideshow": {
     "slide_type": "fragment"
    }
   },
   "outputs": [],
   "source": [
    "help(np.linspace)"
   ]
  },
  {
   "cell_type": "markdown",
   "metadata": {
    "slideshow": {
     "slide_type": "slide"
    }
   },
   "source": [
    "### Qual a utilidade de usar funções\n",
    "\n",
    "São duas as principais razões de usar funções ao escrever um programa de computador:\n",
    "\n",
    "- Reuso: você consegue usar o mesmo código diversas vezes. Isso te poupa de ficar reescrevendo a mesma coisa várias vezes. Além disso, se você encontrar um erro,  é necessário corrigi-lo em apenas um lugar.\n",
    "\n",
    "- Modularidade: cada pequena parte do código fica separada da outra. Isso torna mais fácil encontrar erros. Além disso é mais fácil a leitura do código por uma pessoa."
   ]
  },
  {
   "cell_type": "markdown",
   "metadata": {
    "slideshow": {
     "slide_type": "slide"
    }
   },
   "source": [
    "### Tarefa (para agora)\n",
    "\n",
    "- Escrever um notebook do Colab para fazer o que pedido a seguir.\n",
    "\n",
    "- Colocar o seu nome na primeira célula do Notebook.\n",
    "\n",
    "- O notebook deve estar com texto explicando o Notebook. \n",
    "\n",
    "- Todos os resultados devem ser mostrados ao executar o notebook.\n",
    "\n",
    "- Coloque no seu repositório do Github o arquivo '.ipynb' contendo o notebook feito por você com o nome \"Tarefa15SeuNome.ipynb\".\n",
    "\n",
    "**1)** Faça uma função que receba um número **a**, um número **b** e um número **x**. Esta função deve retornar **True** se **x** estiver entre **a** e **b** e **False** caso contrário. Além disso a função deve mostrar uma mensagem dizendo se **x** está no intervalo entre **a** e **b** ou não.\n",
    "\n",
    "Teste para \n",
    "- a) a = -2.5, b = 6.3 e x = 9.1; \n",
    "- b) a = -10, b = 7 e x = 2.2\n",
    "- c) a = 67.2, b = 87.2 e x = 8.1\n",
    "\n",
    "Sugestão: \n",
    "\n",
    "a função pode ter a seguinte estrutura:\n",
    "```python\n",
    "def estaNoIntervalo(a, b, x):\n",
    "    ...\n",
    "    return resposta\n",
    "```"
   ]
  },
  {
   "cell_type": "markdown",
   "metadata": {
    "slideshow": {
     "slide_type": "slide"
    }
   },
   "source": [
    "### Tarefa (para antes da próxima aula)\n",
    "\n",
    "- Escrever um notebook do Colab para fazer o que pedido a seguir.\n",
    "\n",
    "- Colocar o seu nome na primeira célula do Notebook.\n",
    "\n",
    "- O notebook deve estar com texto explicando o Notebook. \n",
    "\n",
    "- Todos os resultados devem ser mostrados ao executar o notebook.\n",
    "\n",
    "- Não se esqueça de indicar o significado de cada eixo, colocando a unidade da abscissa e da ordenada nos gráficos.\n",
    "\n",
    "- Coloque no seu repositório do Github o arquivo '.ipynb' contendo o notebook feito por você com o nome \"Tarefa16SeuNome.ipynb\"."
   ]
  },
  {
   "cell_type": "markdown",
   "metadata": {
    "slideshow": {
     "slide_type": "slide"
    }
   },
   "source": [
    "**1)** Faça uma função que receba um vetor **t**,um valor **A**, um valor **b** e um valor **c** e retorne um outro vetor **x**.\n",
    "\n",
    "$$x(t)  = A\\sqrt{1+bt^2} + c$$\n",
    "\n",
    "Além disso a função deve plotar o gráfico de **x** em função de **t**.\n",
    "\n",
    "Teste para \n",
    "- *a)* t indo de 0 a 10 com 1000 pontos, A = 2, b = 0.5, c = 0; \n",
    "- *b)* t indo de 0 a 15 com intervalo de 0.2 entre os valores do vetor, A = 10, b = 0.2, c = 1\n",
    "- *c*) t indo de -0,5 a 0,5 com 500 pontos, A = -3, b = -1.5, c = -10; "
   ]
  },
  {
   "cell_type": "markdown",
   "metadata": {
    "slideshow": {
     "slide_type": "slide"
    }
   },
   "source": [
    "**2)** Faça uma função que ao ser executada sorteia um número entre 0 e 1. Se esse número for menor do que 0,5 apareça na tela a mensagem 'Cara'. Se esse número for maior do que 0,5  apareça a mensagem 'Coroa'. Uma sugestão do nome da função é 'cara_ou_coroa'.\n",
    "\n",
    "Teste a função chamando 10 vezes a função que você fez. \n",
    "\n",
    "Dica: o comando 'np.random.rand(n)' gera n números aleatórios entre 0 e 1."
   ]
  },
  {
   "cell_type": "markdown",
   "metadata": {
    "slideshow": {
     "slide_type": "slide"
    }
   },
   "source": [
    "**3)** Faça uma função que retorne a renda média nos jogos em que determinado time seja o time da casa. As entradas devem ser o **DataFrame do Pandas** com os jogos e o **nome do time mandante**. \n",
    "\n",
    "Para testar a função, use o arquivo [com todos os resultados do campeonato Brasileiro de futebol de 2018](../dados/tabelaBrasileirao2018.csv) (dados obtidos [desta](<https://pt.wikipedia.org/wiki/Resultados_do_Campeonato_Brasileiro_de_Futebol_de_2018_-_S%C3%A9rie_A_(primeiro_turno)>) e [desta](<https://pt.wikipedia.org/wiki/Resultados_do_Campeonato_Brasileiro_de_Futebol_de_2018_-_S%C3%A9rie_A_(segundo_turno)>) página da Wikipedia) e escolha 4 times diferentes para saber quala renda média por jogo.\n",
    "\n",
    "Dica: para usar o valor de uma variável (que tenha o nome var, por exemplo) dentro da função `query`, usar @var.\n"
   ]
  },
  {
   "cell_type": "markdown",
   "metadata": {
    "slideshow": {
     "slide_type": "slide"
    }
   },
   "source": [
    "**4)** Dados valores **x1**, **y1**, **x2**, **y2**, sendo esses valores das coordenadas $(x_1, y_1)$ e $(x_2, y_2)$ de dois pontos. \n",
    "\n",
    "Fazer uma função que encontre a inclinação da reta **m** e o ponto **b** em que a reta cruza o eixo y da reta $y = mx+b$ que passa pelos dois pontos. Além disso deve ser feito o gráfico da reta encontrada com **N** pontos, além de mostrar os dois pontos dados como entrada, indicados com marcadores quadrados.\n",
    "\n",
    "Essa função deve retornar **m** e **b** e receber como parâmetros **x1**, **y1**, **x2**, **y2** e **N**.\n",
    "\n",
    "Dica: a inclinação de uma reta, dados dois pontos é:\n",
    "\n",
    "$$m = \\frac{y_2-y_1}{x_2-x_1} $$\n",
    "\n",
    "e o ponto que cruza o eixo y é:\n",
    "\n",
    "$$b = y_1 - mx_1$$\n",
    "\n",
    "Teste para: \n",
    "\n",
    "- a) x1 = -19, y1 = 2, x2 = 10, y2 = -10, N = 1000\n",
    "- b) x1 = -2, y1 = 8, x2 = 20, y2 = 43, N = 2000\n",
    "- c) x1 = 7, y1 = 13, x2 = 1, y2 = 2, N = 500"
   ]
  },
  {
   "cell_type": "markdown",
   "metadata": {
    "slideshow": {
     "slide_type": "slide"
    }
   },
   "source": [
    "### Referências\n",
    "\n",
    "- Chalco, JM, *Slides de Bases Computacionais da Ciência*, (2014)\n",
    "- Leite, S, *Slides de Bases Computacionais da Ciência*, (2018)\n",
    "- [Marietto, MGB et al.; **Bases computacionais da Ciência** (2013)](http://prograd.ufabc.edu.br/images/pdf/bases_computacionais_livro.pdf).\n",
    "- Miller, B, Ranum, D; [**Funções In:Como pensar como um Cientista da Computação**](https://panda.ime.usp.br/pensepy/static/pensepy/05-Funcoes/funcoes.html)\n",
    "- [Wikipedia](www.wikipedia.com.br)"
   ]
  }
 ],
 "metadata": {
  "kernelspec": {
   "display_name": "Python 3 (ipykernel)",
   "language": "python",
   "name": "python3"
  },
  "language_info": {
   "codemirror_mode": {
    "name": "ipython",
    "version": 3
   },
   "file_extension": ".py",
   "mimetype": "text/x-python",
   "name": "python",
   "nbconvert_exporter": "python",
   "pygments_lexer": "ipython3",
   "version": "3.9.15"
  },
  "latex_envs": {
   "LaTeX_envs_menu_present": true,
   "autoclose": false,
   "autocomplete": true,
   "bibliofile": "biblio.bib",
   "cite_by": "apalike",
   "current_citInitial": 1,
   "eqLabelWithNumbers": true,
   "eqNumInitial": 1,
   "hotkeys": {
    "equation": "Ctrl-E",
    "itemize": "Ctrl-I"
   },
   "labels_anchors": false,
   "latex_user_defs": false,
   "report_style_numbering": false,
   "user_envs_cfg": false
  },
  "livereveal": {
   "autolaunch": true
  },
  "nbTranslate": {
   "displayLangs": [
    "*"
   ],
   "hotkey": "alt-t",
   "langInMainMenu": true,
   "sourceLang": "en",
   "targetLang": "fr",
   "useGoogleTranslate": true
  },
  "toc": {
   "base_numbering": 1,
   "nav_menu": {},
   "number_sections": true,
   "sideBar": true,
   "skip_h1_title": true,
   "title_cell": "Contents",
   "title_sidebar": "Contents",
   "toc_cell": true,
   "toc_position": {},
   "toc_section_display": true,
   "toc_window_display": false
  },
  "varInspector": {
   "cols": {
    "lenName": 16,
    "lenType": 16,
    "lenVar": 40
   },
   "kernels_config": {
    "python": {
     "delete_cmd_postfix": "",
     "delete_cmd_prefix": "del ",
     "library": "var_list.py",
     "varRefreshCmd": "print(var_dic_list())"
    },
    "r": {
     "delete_cmd_postfix": ") ",
     "delete_cmd_prefix": "rm(",
     "library": "var_list.r",
     "varRefreshCmd": "cat(var_dic_list()) "
    }
   },
   "types_to_exclude": [
    "module",
    "function",
    "builtin_function_or_method",
    "instance",
    "_Feature"
   ],
   "window_display": false
  }
 },
 "nbformat": 4,
 "nbformat_minor": 4
}
